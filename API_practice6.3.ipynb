{
 "cells": [
  {
   "cell_type": "code",
   "execution_count": 1,
   "metadata": {},
   "outputs": [],
   "source": [
    "# Import the dependencies.\n",
    "import pandas as pd\n",
    "import matplotlib.pyplot as plt\n",
    "import numpy as np\n",
    "import random\n",
    "\n",
    "# Import timeit.\n",
    "import timeit"
   ]
  },
  {
   "cell_type": "code",
   "execution_count": 2,
   "metadata": {},
   "outputs": [
    {
     "data": {
      "text/plain": [
       "90"
      ]
     },
     "execution_count": 2,
     "metadata": {},
     "output_type": "execute_result"
    }
   ],
   "source": [
    "random.randint(-90,90)"
   ]
  },
  {
   "cell_type": "code",
   "execution_count": 3,
   "metadata": {},
   "outputs": [
    {
     "data": {
      "text/plain": [
       "0.3184005057007332"
      ]
     },
     "execution_count": 3,
     "metadata": {},
     "output_type": "execute_result"
    }
   ],
   "source": [
    "random.random()"
   ]
  },
  {
   "cell_type": "code",
   "execution_count": 4,
   "metadata": {},
   "outputs": [
    {
     "data": {
      "text/plain": [
       "44.52552910393199"
      ]
     },
     "execution_count": 4,
     "metadata": {},
     "output_type": "execute_result"
    }
   ],
   "source": [
    "random_number = random.randint(-90,90) + random.random()\n",
    "random_number"
   ]
  },
  {
   "cell_type": "code",
   "execution_count": 5,
   "metadata": {},
   "outputs": [
    {
     "data": {
      "text/plain": [
       "[0.17578895120374494,\n",
       " 27.94672535729507,\n",
       " 32.989563387891515,\n",
       " -36.48283704055654,\n",
       " -11.025328468502298,\n",
       " -39.86893064378468,\n",
       " 21.12243587370599,\n",
       " 30.416247353434258,\n",
       " -39.13754232198466,\n",
       " -70.67116236105917]"
      ]
     },
     "execution_count": 5,
     "metadata": {},
     "output_type": "execute_result"
    }
   ],
   "source": [
    "x = 1\n",
    "latitudes = []\n",
    "while x < 11:\n",
    "    random_lat = random.randint(-90, 90) + random.random()\n",
    "    latitudes.append(random_lat)\n",
    "    x += 1\n",
    "latitudes"
   ]
  },
  {
   "cell_type": "code",
   "execution_count": 6,
   "metadata": {},
   "outputs": [
    {
     "data": {
      "text/plain": [
       "-37"
      ]
     },
     "execution_count": 6,
     "metadata": {},
     "output_type": "execute_result"
    }
   ],
   "source": [
    "random.randrange(-90,90, step=1)"
   ]
  },
  {
   "cell_type": "code",
   "execution_count": 7,
   "metadata": {},
   "outputs": [
    {
     "data": {
      "text/plain": [
       "33"
      ]
     },
     "execution_count": 7,
     "metadata": {},
     "output_type": "execute_result"
    }
   ],
   "source": [
    "random.randrange(-90,90, step=3)"
   ]
  },
  {
   "cell_type": "code",
   "execution_count": 8,
   "metadata": {},
   "outputs": [
    {
     "data": {
      "text/plain": [
       "-26.97544282692209"
      ]
     },
     "execution_count": 8,
     "metadata": {},
     "output_type": "execute_result"
    }
   ],
   "source": [
    "random.uniform(-90,90)"
   ]
  },
  {
   "cell_type": "code",
   "execution_count": 9,
   "metadata": {},
   "outputs": [
    {
     "data": {
      "text/plain": [
       "array([ 17.67387462,  23.49810359, -42.97451747,  61.75915185,\n",
       "       -34.50410337, -75.72264174,  20.6503039 ,  18.82327655,\n",
       "       -77.84673996, -68.70911044,  -2.15317412,  24.67853816,\n",
       "        69.20744231, -62.95020885, -67.53808548,  66.93396288,\n",
       "        -0.8855236 ,  34.31110058, -14.21857819, -47.47578551,\n",
       "        13.58748197, -35.24971308,  64.88141692,  30.79734015,\n",
       "        33.30092662, -48.9833715 , -29.36446657,  21.08708318,\n",
       "       -80.90433216, -42.90883186,  83.79918986,  86.01755358,\n",
       "        17.15573532,  69.46055497, -21.7563197 ,   5.95808101,\n",
       "       -35.94743321,   3.44951022, -73.41061028,  50.22638424,\n",
       "        21.67391366, -86.70385674, -62.41494386,  31.27472692,\n",
       "        24.73692346,  32.74042638, -81.73419216, -75.33118893,\n",
       "        73.97840515,  59.96009571])"
      ]
     },
     "execution_count": 9,
     "metadata": {},
     "output_type": "execute_result"
    }
   ],
   "source": [
    "np.random.uniform(-90.000,90.000, size=50)"
   ]
  },
  {
   "cell_type": "code",
   "execution_count": 10,
   "metadata": {},
   "outputs": [
    {
     "name": "stdout",
     "output_type": "stream",
     "text": [
      "35.7 µs ± 3.66 µs per loop (mean ± std. dev. of 7 runs, 10000 loops each)\n"
     ]
    }
   ],
   "source": [
    "%timeit np.random.uniform(-90.000, 90.000, size=1500)"
   ]
  },
  {
   "cell_type": "code",
   "execution_count": 11,
   "metadata": {},
   "outputs": [
    {
     "name": "stdout",
     "output_type": "stream",
     "text": [
      "5.31 ms ± 226 µs per loop (mean ± std. dev. of 7 runs, 100 loops each)\n"
     ]
    }
   ],
   "source": [
    "def latitudes(size):\n",
    "    latitudes = []\n",
    "    x = 0\n",
    "    while x < (size):\n",
    "        random_lat = random.randint(-90, 90) + random.random()\n",
    "        latitudes.append(random_lat)\n",
    "        x += 1\n",
    "    return latitudes\n",
    "# Call the function with 1500. \n",
    "%timeit latitudes(1500)"
   ]
  },
  {
   "cell_type": "code",
   "execution_count": 12,
   "metadata": {},
   "outputs": [
    {
     "data": {
      "text/plain": [
       "array([ 36.32995644,  60.28214104, -88.81747792, ...,  16.49600373,\n",
       "        -3.37918178, -49.48079258])"
      ]
     },
     "execution_count": 12,
     "metadata": {},
     "output_type": "execute_result"
    }
   ],
   "source": [
    "np.random.uniform(-90.000,90.000, size=1500)"
   ]
  },
  {
   "cell_type": "code",
   "execution_count": 13,
   "metadata": {},
   "outputs": [],
   "source": [
    "# Create a practice set of random latitude and longitude combinations.\n",
    "x = [25.12903645, 25.92017388, 26.62509167, -59.98969384, 37.30571269]\n",
    "y = [-67.59741259, 11.09532135, 74.84233102, -76.89176677, -61.13376282]\n",
    "coordinates = zip(x, y)"
   ]
  },
  {
   "cell_type": "code",
   "execution_count": 14,
   "metadata": {},
   "outputs": [
    {
     "data": {
      "text/plain": [
       "<zip at 0x22b30389e08>"
      ]
     },
     "execution_count": 14,
     "metadata": {},
     "output_type": "execute_result"
    }
   ],
   "source": [
    "# Create a set of random latitude and longitude combinations.\n",
    "lats = np.random.uniform(low=-90.000, high=90.000, size=1500)\n",
    "lngs = np.random.uniform(low=-180.000, high=180.000, size=1500)\n",
    "lat_lngs = zip(lats, lngs)\n",
    "lat_lngs"
   ]
  },
  {
   "cell_type": "code",
   "execution_count": 15,
   "metadata": {},
   "outputs": [
    {
     "name": "stdout",
     "output_type": "stream",
     "text": [
      "25.12903645 -67.59741259\n",
      "25.92017388 11.09532135\n",
      "26.62509167 74.84233102\n",
      "-59.98969384 -76.89176677\n",
      "37.30571269 -61.13376282\n"
     ]
    }
   ],
   "source": [
    "# Use the tuple() function to display the latitude and longitude combinations.\n",
    "for coordinate in coordinates:\n",
    "    print(coordinate[0], coordinate[1])"
   ]
  },
  {
   "cell_type": "code",
   "execution_count": 16,
   "metadata": {},
   "outputs": [],
   "source": [
    "# Add the latitudes and longitudes to a list.\n",
    "coordinates = list(lat_lngs)"
   ]
  },
  {
   "cell_type": "code",
   "execution_count": 17,
   "metadata": {},
   "outputs": [],
   "source": [
    "import citipy\n",
    "from citipy import citipy"
   ]
  },
  {
   "cell_type": "code",
   "execution_count": 18,
   "metadata": {},
   "outputs": [
    {
     "data": {
      "text/plain": [
       "613"
      ]
     },
     "execution_count": 18,
     "metadata": {},
     "output_type": "execute_result"
    }
   ],
   "source": [
    "# Create a list for holding the cities.\n",
    "cities = []\n",
    "# Identify the nearest city for each latitude and longitude combination.\n",
    "for coordinate in coordinates:\n",
    "    city = citipy.nearest_city(coordinate[0], coordinate[1]).city_name\n",
    "    \n",
    "    # If the city is unique, then we will add it to the cities list.\n",
    "    if city not in cities:\n",
    "        cities.append(city)\n",
    "# Print the city count to confirm sufficient count.\n",
    "len(cities)"
   ]
  },
  {
   "cell_type": "code",
   "execution_count": 19,
   "metadata": {},
   "outputs": [
    {
     "data": {
      "text/plain": [
       "'2.23.0'"
      ]
     },
     "execution_count": 19,
     "metadata": {},
     "output_type": "execute_result"
    }
   ],
   "source": [
    "import requests\n",
    "requests.__version__"
   ]
  },
  {
   "cell_type": "code",
   "execution_count": 20,
   "metadata": {},
   "outputs": [],
   "source": [
    "# Import the requests library.\n",
    "import requests\n",
    "\n",
    "# Import the API key.\n",
    "from config import weather_api_key"
   ]
  },
  {
   "cell_type": "code",
   "execution_count": 21,
   "metadata": {},
   "outputs": [
    {
     "name": "stdout",
     "output_type": "stream",
     "text": [
      "http://api.openweathermap.org/data/2.5/weather?units=Imperial&APPID=6235ab836a483e7e2fa7008844d35986\n"
     ]
    }
   ],
   "source": [
    "#https://samples.openweathermap.org/data/2.5/weather?q=London,uk&appid=439d4b804bc8187953eb36d2a8c26a02\n",
    "\n",
    "# Starting URL for Weather Map API Call.\n",
    "url = \"http://api.openweathermap.org/data/2.5/weather?units=Imperial&APPID=\" + weather_api_key\n",
    "print(url)"
   ]
  },
  {
   "cell_type": "code",
   "execution_count": 22,
   "metadata": {},
   "outputs": [
    {
     "name": "stdout",
     "output_type": "stream",
     "text": [
      "http://api.openweathermap.org/data/2.5/weather?units=Imperial&APPID=6235ab836a483e7e2fa7008844d35986&q=Boston\n"
     ]
    }
   ],
   "source": [
    "# Create an endpoint URL for a city.\n",
    "city_url = url + \"&q=\" + \"Boston\"\n",
    "print(city_url)"
   ]
  },
  {
   "cell_type": "code",
   "execution_count": 23,
   "metadata": {},
   "outputs": [],
   "source": [
    "#weather_response = requests.get(city_url)\n",
    "#weather_json = weather_respons.json()"
   ]
  },
  {
   "cell_type": "code",
   "execution_count": 24,
   "metadata": {},
   "outputs": [
    {
     "data": {
      "text/plain": [
       "<Response [200]>"
      ]
     },
     "execution_count": 24,
     "metadata": {},
     "output_type": "execute_result"
    }
   ],
   "source": [
    "# Make a 'Get' request for the city weather.\n",
    "city_weather = requests.get(city_url)\n",
    "city_weather"
   ]
  },
  {
   "cell_type": "code",
   "execution_count": 25,
   "metadata": {},
   "outputs": [
    {
     "data": {
      "text/plain": [
       "<Response [200]>"
      ]
     },
     "execution_count": 25,
     "metadata": {},
     "output_type": "execute_result"
    }
   ],
   "source": [
    "# Create an endpoint URL for a city.\n",
    "city_url = url + \"&q=\" + \"Boston\"\n",
    "city_weather = requests.get(city_url)\n",
    "city_weather"
   ]
  },
  {
   "cell_type": "code",
   "execution_count": 26,
   "metadata": {},
   "outputs": [
    {
     "data": {
      "text/plain": [
       "'{\"coord\":{\"lon\":-71.06,\"lat\":42.36},\"weather\":[{\"id\":800,\"main\":\"Clear\",\"description\":\"clear sky\",\"icon\":\"01n\"}],\"base\":\"stations\",\"main\":{\"temp\":35.8,\"feels_like\":27.37,\"temp_min\":30.99,\"temp_max\":41,\"pressure\":1014,\"humidity\":64},\"visibility\":16093,\"wind\":{\"speed\":6.96,\"deg\":284},\"clouds\":{\"all\":1},\"dt\":1587006884,\"sys\":{\"type\":1,\"id\":5255,\"country\":\"US\",\"sunrise\":1586944936,\"sunset\":1586993134},\"timezone\":-14400,\"id\":4930956,\"name\":\"Boston\",\"cod\":200}'"
      ]
     },
     "execution_count": 26,
     "metadata": {},
     "output_type": "execute_result"
    }
   ],
   "source": [
    "# Get the text of the 'Get' request.\n",
    "city_weather.text"
   ]
  },
  {
   "cell_type": "code",
   "execution_count": 27,
   "metadata": {},
   "outputs": [
    {
     "data": {
      "text/plain": [
       "{'coord': {'lon': -71.06, 'lat': 42.36},\n",
       " 'weather': [{'id': 800,\n",
       "   'main': 'Clear',\n",
       "   'description': 'clear sky',\n",
       "   'icon': '01n'}],\n",
       " 'base': 'stations',\n",
       " 'main': {'temp': 35.8,\n",
       "  'feels_like': 27.37,\n",
       "  'temp_min': 30.99,\n",
       "  'temp_max': 41,\n",
       "  'pressure': 1014,\n",
       "  'humidity': 64},\n",
       " 'visibility': 16093,\n",
       " 'wind': {'speed': 6.96, 'deg': 284},\n",
       " 'clouds': {'all': 1},\n",
       " 'dt': 1587006884,\n",
       " 'sys': {'type': 1,\n",
       "  'id': 5255,\n",
       "  'country': 'US',\n",
       "  'sunrise': 1586944936,\n",
       "  'sunset': 1586993134},\n",
       " 'timezone': -14400,\n",
       " 'id': 4930956,\n",
       " 'name': 'Boston',\n",
       " 'cod': 200}"
      ]
     },
     "execution_count": 27,
     "metadata": {},
     "output_type": "execute_result"
    }
   ],
   "source": [
    "# Get the JSON text of the 'Get' request.\n",
    "city_weather.json()"
   ]
  },
  {
   "cell_type": "code",
   "execution_count": 28,
   "metadata": {},
   "outputs": [
    {
     "name": "stdout",
     "output_type": "stream",
     "text": [
      "City Weather found.\n"
     ]
    }
   ],
   "source": [
    "# Create an endpoint URL for a city.\n",
    "city_url = url + \"&q=\" + \"Boston\"\n",
    "city_weather = requests.get(city_url)\n",
    "if city_weather.status_code == 200:\n",
    "    print(f\"City Weather found.\")\n",
    "else:\n",
    "    print(f\"City weather not found.\")"
   ]
  },
  {
   "cell_type": "code",
   "execution_count": 29,
   "metadata": {},
   "outputs": [
    {
     "name": "stdout",
     "output_type": "stream",
     "text": [
      "City Weather found.\n"
     ]
    }
   ],
   "source": [
    "# Create an endpoint URL for a city.\n",
    "city_url = url + \"&q=\" + \"Bston\"\n",
    "city_weather = requests.get(city_url)\n",
    "if city_weather.json():\n",
    "    print(f\"City Weather found.\")\n",
    "else:\n",
    "    print(f\"City weather not found.\")"
   ]
  },
  {
   "cell_type": "code",
   "execution_count": 30,
   "metadata": {},
   "outputs": [
    {
     "name": "stdout",
     "output_type": "stream",
     "text": [
      "http://api.openweathermap.org/data/2.5/weather?units=Imperial&APPID=6235ab836a483e7e2fa7008844d35986&q=Bston\n"
     ]
    }
   ],
   "source": [
    "print(city_url)"
   ]
  },
  {
   "cell_type": "code",
   "execution_count": 31,
   "metadata": {},
   "outputs": [
    {
     "data": {
      "text/plain": [
       "{'coord': {'lon': -71.06, 'lat': 42.36},\n",
       " 'weather': [{'id': 800,\n",
       "   'main': 'Clear',\n",
       "   'description': 'clear sky',\n",
       "   'icon': '01n'}],\n",
       " 'base': 'stations',\n",
       " 'main': {'temp': 35.8,\n",
       "  'feels_like': 27.37,\n",
       "  'temp_min': 30.99,\n",
       "  'temp_max': 41,\n",
       "  'pressure': 1014,\n",
       "  'humidity': 64},\n",
       " 'visibility': 16093,\n",
       " 'wind': {'speed': 6.96, 'deg': 284},\n",
       " 'clouds': {'all': 1},\n",
       " 'dt': 1587006884,\n",
       " 'sys': {'type': 1,\n",
       "  'id': 5255,\n",
       "  'country': 'US',\n",
       "  'sunrise': 1586944936,\n",
       "  'sunset': 1586993134},\n",
       " 'timezone': -14400,\n",
       " 'id': 4930956,\n",
       " 'name': 'Boston',\n",
       " 'cod': 200}"
      ]
     },
     "execution_count": 31,
     "metadata": {},
     "output_type": "execute_result"
    }
   ],
   "source": [
    "# Create an endpoint URL for a city.\n",
    "city_url = url + \"&q=\" + \"Boston\"\n",
    "city_weather = requests.get(city_url)\n",
    "city_weather.json()"
   ]
  },
  {
   "cell_type": "code",
   "execution_count": 32,
   "metadata": {},
   "outputs": [],
   "source": [
    "boston_data = city_weather.json()"
   ]
  },
  {
   "cell_type": "code",
   "execution_count": 33,
   "metadata": {},
   "outputs": [
    {
     "data": {
      "text/plain": [
       "{'coord': {'lon': -71.06, 'lat': 42.36},\n",
       " 'weather': [{'id': 800,\n",
       "   'main': 'Clear',\n",
       "   'description': 'clear sky',\n",
       "   'icon': '01n'}],\n",
       " 'base': 'stations',\n",
       " 'main': {'temp': 35.8,\n",
       "  'feels_like': 27.37,\n",
       "  'temp_min': 30.99,\n",
       "  'temp_max': {'coord': {'lon': -71.06, 'lat': 42.36},\n",
       "   'weather': [{'id': 800,\n",
       "     'main': 'Clear',\n",
       "     'description': 'clear sky',\n",
       "     'icon': '01n'}],\n",
       "   'base': 'stations',\n",
       "   'main': {'temp': 35.8,\n",
       "    'feels_like': 27.37,\n",
       "    'temp_min': 30.99,\n",
       "    'temp_max': 41,\n",
       "    'pressure': 1014,\n",
       "    'humidity': 64},\n",
       "   'visibility': 16093,\n",
       "   'wind': {'speed': 6.96, 'deg': 284},\n",
       "   'clouds': {'all': 1},\n",
       "   'dt': 1587006884,\n",
       "   'sys': {'type': 1,\n",
       "    'id': 5255,\n",
       "    'country': 'US',\n",
       "    'sunrise': 1586944936,\n",
       "    'sunset': 1586993134},\n",
       "   'timezone': -14400,\n",
       "   'id': 4930956,\n",
       "   'name': 'Boston',\n",
       "   'cod': 200},\n",
       "  'pressure': 1014,\n",
       "  'humidity': 64},\n",
       " 'visibility': 16093,\n",
       " 'wind': {'speed': 6.96, 'deg': 284},\n",
       " 'clouds': {'all': 1},\n",
       " 'dt': 1587006884,\n",
       " 'sys': {'type': 1,\n",
       "  'id': 5255,\n",
       "  'country': 'US',\n",
       "  'sunrise': 1586944936,\n",
       "  'sunset': 1586993134},\n",
       " 'timezone': -14400,\n",
       " 'id': 4930956,\n",
       " 'name': 'Boston',\n",
       " 'cod': 200}"
      ]
     },
     "execution_count": 33,
     "metadata": {},
     "output_type": "execute_result"
    }
   ],
   "source": [
    "# Get the JSON data.\n",
    "#boston_data['coord']['lat'] = city_weather.json()\n",
    "boston_data['main']['temp_max'] = city_weather.json()\n",
    "boston_data"
   ]
  },
  {
   "cell_type": "code",
   "execution_count": 34,
   "metadata": {},
   "outputs": [
    {
     "name": "stdout",
     "output_type": "stream",
     "text": [
      "42.36 -71.06 {'coord': {'lon': -71.06, 'lat': 42.36}, 'weather': [{'id': 800, 'main': 'Clear', 'description': 'clear sky', 'icon': '01n'}], 'base': 'stations', 'main': {'temp': 35.8, 'feels_like': 27.37, 'temp_min': 30.99, 'temp_max': 41, 'pressure': 1014, 'humidity': 64}, 'visibility': 16093, 'wind': {'speed': 6.96, 'deg': 284}, 'clouds': {'all': 1}, 'dt': 1587006884, 'sys': {'type': 1, 'id': 5255, 'country': 'US', 'sunrise': 1586944936, 'sunset': 1586993134}, 'timezone': -14400, 'id': 4930956, 'name': 'Boston', 'cod': 200} 64 1 6.96\n"
     ]
    }
   ],
   "source": [
    "lat = boston_data[\"coord\"][\"lat\"]\n",
    "lng = boston_data[\"coord\"][\"lon\"]\n",
    "max_temp = boston_data[\"main\"][\"temp_max\"]\n",
    "humidity = boston_data[\"main\"][\"humidity\"]\n",
    "clouds = boston_data[\"clouds\"][\"all\"]\n",
    "wind = boston_data[\"wind\"][\"speed\"]\n",
    "print(lat, lng, max_temp, humidity, clouds, wind)"
   ]
  },
  {
   "cell_type": "code",
   "execution_count": 35,
   "metadata": {},
   "outputs": [
    {
     "data": {
      "text/plain": [
       "'2020-04-16 03:14:44'"
      ]
     },
     "execution_count": 35,
     "metadata": {},
     "output_type": "execute_result"
    }
   ],
   "source": [
    "# Import the datetime module from the datetime library.\n",
    "from datetime import datetime\n",
    "# Get the date from the JSON file.\n",
    "date = boston_data[\"dt\"]\n",
    "# Convert the UTC date to a date format with year, month, day, hours, minutes, and seconds.\n",
    "datetime.utcfromtimestamp(date).strftime('%Y-%m-%d %H:%M:%S')"
   ]
  },
  {
   "cell_type": "code",
   "execution_count": 36,
   "metadata": {},
   "outputs": [
    {
     "name": "stdout",
     "output_type": "stream",
     "text": [
      "Beginning Data Retrieval     \n",
      "-----------------------------\n"
     ]
    }
   ],
   "source": [
    "# Create an empty list to hold the weather data.\n",
    "city_data = []\n",
    "# Print the beginning of the logging.\n",
    "print(\"Beginning Data Retrieval     \")\n",
    "print(\"-----------------------------\")\n",
    "\n",
    "# Create counters.\n",
    "record_count = 1\n",
    "set_count = 1"
   ]
  },
  {
   "cell_type": "code",
   "execution_count": 37,
   "metadata": {},
   "outputs": [
    {
     "name": "stdout",
     "output_type": "stream",
     "text": [
      "Processing Record 1 of Set 1 | saint george\n",
      "Processing Record 2 of Set 1 | pangkalanbuun\n",
      "Processing Record 3 of Set 1 | taolanaro\n",
      "City not found. Skipping...\n",
      "Processing Record 4 of Set 1 | yellowknife\n",
      "Processing Record 5 of Set 1 | kodiak\n",
      "Processing Record 6 of Set 1 | bredasdorp\n",
      "Processing Record 7 of Set 1 | kirovsk\n",
      "Processing Record 8 of Set 1 | okhotsk\n",
      "Processing Record 9 of Set 1 | mahebourg\n",
      "Processing Record 10 of Set 1 | katsuura\n",
      "Processing Record 11 of Set 1 | barrow\n",
      "Processing Record 12 of Set 1 | hilo\n",
      "Processing Record 13 of Set 1 | puerto ayora\n",
      "Processing Record 14 of Set 1 | umm bab\n",
      "Processing Record 15 of Set 1 | nouadhibou\n",
      "Processing Record 16 of Set 1 | havelock\n",
      "Processing Record 17 of Set 1 | rocha\n",
      "Processing Record 18 of Set 1 | tamiahua\n",
      "Processing Record 19 of Set 1 | castro\n",
      "Processing Record 20 of Set 1 | mareeba\n",
      "Processing Record 21 of Set 1 | blind river\n",
      "Processing Record 22 of Set 1 | tarakan\n",
      "Processing Record 23 of Set 1 | bacolod\n",
      "Processing Record 24 of Set 1 | chokurdakh\n",
      "Processing Record 25 of Set 1 | kassala\n",
      "Processing Record 26 of Set 1 | sterling\n",
      "Processing Record 27 of Set 1 | vaini\n",
      "Processing Record 28 of Set 1 | boma\n",
      "Processing Record 29 of Set 1 | kapaa\n",
      "Processing Record 30 of Set 1 | upernavik\n",
      "Processing Record 31 of Set 1 | qaanaaq\n",
      "Processing Record 32 of Set 1 | smithers\n",
      "Processing Record 33 of Set 1 | bisho\n",
      "Processing Record 34 of Set 1 | broome\n",
      "Processing Record 35 of Set 1 | albany\n",
      "Processing Record 36 of Set 1 | bluff\n",
      "Processing Record 37 of Set 1 | nantucket\n",
      "Processing Record 38 of Set 1 | turukhansk\n",
      "Processing Record 39 of Set 1 | juneau\n",
      "Processing Record 40 of Set 1 | isangel\n",
      "Processing Record 41 of Set 1 | hermanus\n",
      "Processing Record 42 of Set 1 | margate\n",
      "Processing Record 43 of Set 1 | illoqqortoormiut\n",
      "City not found. Skipping...\n",
      "Processing Record 44 of Set 1 | ushuaia\n",
      "Processing Record 45 of Set 1 | rangpur\n",
      "Processing Record 46 of Set 1 | codrington\n",
      "Processing Record 47 of Set 1 | rikitea\n",
      "Processing Record 48 of Set 1 | cockburn town\n",
      "Processing Record 49 of Set 1 | tezu\n",
      "Processing Record 50 of Set 1 | busselton\n",
      "Processing Record 1 of Set 2 | clyde river\n",
      "Processing Record 2 of Set 2 | russell\n",
      "Processing Record 3 of Set 2 | mataura\n",
      "Processing Record 4 of Set 2 | talnakh\n",
      "Processing Record 5 of Set 2 | lavrentiya\n",
      "Processing Record 6 of Set 2 | victoria\n",
      "Processing Record 7 of Set 2 | atuona\n",
      "Processing Record 8 of Set 2 | boa vista\n",
      "Processing Record 9 of Set 2 | abha\n",
      "Processing Record 10 of Set 2 | bacsay\n",
      "Processing Record 11 of Set 2 | kosh-agach\n",
      "Processing Record 12 of Set 2 | college\n",
      "Processing Record 13 of Set 2 | khanewal\n",
      "Processing Record 14 of Set 2 | butaritari\n",
      "Processing Record 15 of Set 2 | samarai\n",
      "Processing Record 16 of Set 2 | teya\n",
      "Processing Record 17 of Set 2 | balkanabat\n",
      "Processing Record 18 of Set 2 | praia da vitoria\n",
      "Processing Record 19 of Set 2 | penzance\n",
      "Processing Record 20 of Set 2 | colares\n",
      "Processing Record 21 of Set 2 | ribeira grande\n",
      "Processing Record 22 of Set 2 | saldanha\n",
      "Processing Record 23 of Set 2 | tagusao\n",
      "Processing Record 24 of Set 2 | saleaula\n",
      "City not found. Skipping...\n",
      "Processing Record 25 of Set 2 | mitzic\n",
      "Processing Record 26 of Set 2 | samusu\n",
      "City not found. Skipping...\n",
      "Processing Record 27 of Set 2 | alamos\n",
      "Processing Record 28 of Set 2 | vardo\n",
      "Processing Record 29 of Set 2 | new norfolk\n",
      "Processing Record 30 of Set 2 | ponta do sol\n",
      "Processing Record 31 of Set 2 | provideniya\n",
      "Processing Record 32 of Set 2 | oschersleben\n",
      "Processing Record 33 of Set 2 | richards bay\n",
      "Processing Record 34 of Set 2 | hobart\n",
      "Processing Record 35 of Set 2 | namatanai\n",
      "Processing Record 36 of Set 2 | salalah\n",
      "Processing Record 37 of Set 2 | jumla\n",
      "Processing Record 38 of Set 2 | khasan\n",
      "Processing Record 39 of Set 2 | biak\n",
      "Processing Record 40 of Set 2 | kavieng\n",
      "Processing Record 41 of Set 2 | bandarbeyla\n",
      "Processing Record 42 of Set 2 | krasnovishersk\n",
      "Processing Record 43 of Set 2 | tasiilaq\n",
      "Processing Record 44 of Set 2 | tshikapa\n",
      "Processing Record 45 of Set 2 | coxim\n",
      "Processing Record 46 of Set 2 | saint-philippe\n",
      "Processing Record 47 of Set 2 | abalak\n",
      "Processing Record 48 of Set 2 | talaya\n",
      "Processing Record 49 of Set 2 | neepawa\n",
      "Processing Record 50 of Set 2 | kosa\n",
      "Processing Record 1 of Set 3 | san andres\n",
      "Processing Record 2 of Set 3 | ferkessedougou\n",
      "Processing Record 3 of Set 3 | port alfred\n",
      "Processing Record 4 of Set 3 | auki\n",
      "Processing Record 5 of Set 3 | tuktoyaktuk\n",
      "Processing Record 6 of Set 3 | babanusah\n",
      "City not found. Skipping...\n",
      "Processing Record 7 of Set 3 | lipari\n",
      "Processing Record 8 of Set 3 | punta arenas\n",
      "Processing Record 9 of Set 3 | risor\n",
      "Processing Record 10 of Set 3 | byron bay\n",
      "Processing Record 11 of Set 3 | stykkisholmur\n",
      "Processing Record 12 of Set 3 | komatipoort\n",
      "Processing Record 13 of Set 3 | carnarvon\n",
      "Processing Record 14 of Set 3 | parakou\n",
      "Processing Record 15 of Set 3 | sidi ali\n",
      "Processing Record 16 of Set 3 | khon buri\n",
      "Processing Record 17 of Set 3 | thompson\n",
      "Processing Record 18 of Set 3 | birjand\n",
      "Processing Record 19 of Set 3 | grand river south east\n",
      "City not found. Skipping...\n",
      "Processing Record 20 of Set 3 | tateyama\n",
      "Processing Record 21 of Set 3 | saint-joseph\n",
      "Processing Record 22 of Set 3 | balclutha\n",
      "Processing Record 23 of Set 3 | lebu\n",
      "Processing Record 24 of Set 3 | hithadhoo\n",
      "Processing Record 25 of Set 3 | koundara\n",
      "Processing Record 26 of Set 3 | sujiatun\n",
      "Processing Record 27 of Set 3 | bolungarvik\n",
      "City not found. Skipping...\n",
      "Processing Record 28 of Set 3 | saint-augustin\n",
      "Processing Record 29 of Set 3 | niquelandia\n",
      "Processing Record 30 of Set 3 | bilibino\n",
      "Processing Record 31 of Set 3 | severo-kurilsk\n",
      "Processing Record 32 of Set 3 | the valley\n",
      "Processing Record 33 of Set 3 | tanabe\n",
      "Processing Record 34 of Set 3 | sistranda\n",
      "Processing Record 35 of Set 3 | tsihombe\n",
      "City not found. Skipping...\n",
      "Processing Record 36 of Set 3 | cape town\n",
      "Processing Record 37 of Set 3 | tubli\n",
      "Processing Record 38 of Set 3 | mitsamiouli\n",
      "Processing Record 39 of Set 3 | abu dhabi\n",
      "Processing Record 40 of Set 3 | pathein\n",
      "Processing Record 41 of Set 3 | cherskiy\n",
      "Processing Record 42 of Set 3 | waipawa\n",
      "Processing Record 43 of Set 3 | anadyr\n",
      "Processing Record 44 of Set 3 | sentyabrskiy\n",
      "City not found. Skipping...\n",
      "Processing Record 45 of Set 3 | clarence town\n",
      "Processing Record 46 of Set 3 | tiksi\n",
      "Processing Record 47 of Set 3 | te anau\n",
      "Processing Record 48 of Set 3 | mariakani\n",
      "Processing Record 49 of Set 3 | cidreira\n",
      "Processing Record 50 of Set 3 | kushima\n",
      "Processing Record 1 of Set 4 | airai\n",
      "Processing Record 2 of Set 4 | nikolskoye\n",
      "Processing Record 3 of Set 4 | longyearbyen\n",
      "Processing Record 4 of Set 4 | nizhneyansk\n",
      "City not found. Skipping...\n",
      "Processing Record 5 of Set 4 | tigil\n",
      "Processing Record 6 of Set 4 | bathsheba\n",
      "Processing Record 7 of Set 4 | belushya guba\n",
      "City not found. Skipping...\n",
      "Processing Record 8 of Set 4 | bethel\n",
      "Processing Record 9 of Set 4 | cheuskiny\n",
      "City not found. Skipping...\n",
      "Processing Record 10 of Set 4 | kathu\n",
      "Processing Record 11 of Set 4 | azua\n",
      "Processing Record 12 of Set 4 | bengkulu\n",
      "Processing Record 13 of Set 4 | leningradskiy\n",
      "Processing Record 14 of Set 4 | dingli\n",
      "Processing Record 15 of Set 4 | ambilobe\n",
      "Processing Record 16 of Set 4 | baryatino\n",
      "Processing Record 17 of Set 4 | dikson\n",
      "Processing Record 18 of Set 4 | villa carlos paz\n",
      "Processing Record 19 of Set 4 | yeehaw junction\n",
      "City not found. Skipping...\n",
      "Processing Record 20 of Set 4 | henties bay\n",
      "Processing Record 21 of Set 4 | chambersburg\n",
      "Processing Record 22 of Set 4 | bambous virieux\n",
      "Processing Record 23 of Set 4 | vestmannaeyjar\n",
      "Processing Record 24 of Set 4 | nanortalik\n",
      "Processing Record 25 of Set 4 | vila franca do campo\n",
      "Processing Record 26 of Set 4 | attawapiskat\n",
      "City not found. Skipping...\n",
      "Processing Record 27 of Set 4 | kargil\n",
      "Processing Record 28 of Set 4 | tuatapere\n",
      "Processing Record 29 of Set 4 | dauriya\n",
      "Processing Record 30 of Set 4 | riyadh\n",
      "Processing Record 31 of Set 4 | mantua\n",
      "Processing Record 32 of Set 4 | warren\n",
      "Processing Record 33 of Set 4 | laguna\n",
      "Processing Record 34 of Set 4 | ebolowa\n",
      "Processing Record 35 of Set 4 | krasnoselkup\n",
      "Processing Record 36 of Set 4 | jamestown\n",
      "Processing Record 37 of Set 4 | mys shmidta\n",
      "City not found. Skipping...\n",
      "Processing Record 38 of Set 4 | aklavik\n"
     ]
    },
    {
     "name": "stdout",
     "output_type": "stream",
     "text": [
      "Processing Record 39 of Set 4 | addis abeba\n",
      "Processing Record 40 of Set 4 | pokrovsk-uralskiy\n",
      "City not found. Skipping...\n",
      "Processing Record 41 of Set 4 | tutoia\n",
      "Processing Record 42 of Set 4 | yithion\n",
      "City not found. Skipping...\n",
      "Processing Record 43 of Set 4 | clyde\n",
      "Processing Record 44 of Set 4 | burnie\n",
      "Processing Record 45 of Set 4 | srednekolymsk\n",
      "Processing Record 46 of Set 4 | hervey bay\n",
      "Processing Record 47 of Set 4 | augusto correa\n",
      "Processing Record 48 of Set 4 | ust-kuyga\n",
      "Processing Record 49 of Set 4 | puri\n",
      "Processing Record 50 of Set 4 | kalemie\n",
      "Processing Record 1 of Set 5 | petropavlovsk-kamchatskiy\n",
      "Processing Record 2 of Set 5 | muros\n",
      "Processing Record 3 of Set 5 | taoudenni\n",
      "Processing Record 4 of Set 5 | avarua\n",
      "Processing Record 5 of Set 5 | yar-sale\n",
      "Processing Record 6 of Set 5 | kiama\n",
      "Processing Record 7 of Set 5 | port augusta\n",
      "Processing Record 8 of Set 5 | lata\n",
      "Processing Record 9 of Set 5 | guerrero negro\n",
      "Processing Record 10 of Set 5 | zhigansk\n",
      "Processing Record 11 of Set 5 | kiri buru\n",
      "Processing Record 12 of Set 5 | yumen\n",
      "Processing Record 13 of Set 5 | geraldton\n",
      "Processing Record 14 of Set 5 | marrakesh\n",
      "Processing Record 15 of Set 5 | chardara\n",
      "Processing Record 16 of Set 5 | chapais\n",
      "Processing Record 17 of Set 5 | mar del plata\n",
      "Processing Record 18 of Set 5 | sovetskiy\n",
      "Processing Record 19 of Set 5 | tianjin\n",
      "Processing Record 20 of Set 5 | palabuhanratu\n",
      "City not found. Skipping...\n",
      "Processing Record 21 of Set 5 | palmer\n",
      "Processing Record 22 of Set 5 | pemangkat\n",
      "Processing Record 23 of Set 5 | utiroa\n",
      "City not found. Skipping...\n",
      "Processing Record 24 of Set 5 | porto velho\n",
      "Processing Record 25 of Set 5 | xinzhi\n",
      "Processing Record 26 of Set 5 | kruisfontein\n",
      "Processing Record 27 of Set 5 | ilulissat\n",
      "Processing Record 28 of Set 5 | tabas\n",
      "Processing Record 29 of Set 5 | mubende\n",
      "Processing Record 30 of Set 5 | puerto escondido\n",
      "Processing Record 31 of Set 5 | saurimo\n",
      "Processing Record 32 of Set 5 | vypolzovo\n",
      "Processing Record 33 of Set 5 | along\n",
      "Processing Record 34 of Set 5 | vostok\n",
      "Processing Record 35 of Set 5 | harstad\n",
      "Processing Record 36 of Set 5 | popondetta\n",
      "Processing Record 37 of Set 5 | agadez\n",
      "Processing Record 38 of Set 5 | kununurra\n",
      "Processing Record 39 of Set 5 | chivay\n",
      "Processing Record 40 of Set 5 | pisco\n",
      "Processing Record 41 of Set 5 | arraial do cabo\n",
      "Processing Record 42 of Set 5 | bardiyah\n",
      "Processing Record 43 of Set 5 | touros\n",
      "Processing Record 44 of Set 5 | poopo\n",
      "Processing Record 45 of Set 5 | nioro\n",
      "Processing Record 46 of Set 5 | alta floresta\n",
      "Processing Record 47 of Set 5 | hambantota\n",
      "Processing Record 48 of Set 5 | verkhnyaya toyma\n",
      "Processing Record 49 of Set 5 | piacabucu\n",
      "Processing Record 50 of Set 5 | takaka\n",
      "Processing Record 1 of Set 6 | quetzaltepec\n",
      "City not found. Skipping...\n",
      "Processing Record 2 of Set 6 | lady frere\n",
      "Processing Record 3 of Set 6 | georgetown\n",
      "Processing Record 4 of Set 6 | saskylakh\n",
      "Processing Record 5 of Set 6 | norman wells\n",
      "Processing Record 6 of Set 6 | pevek\n",
      "Processing Record 7 of Set 6 | kawalu\n",
      "Processing Record 8 of Set 6 | ulety\n",
      "Processing Record 9 of Set 6 | east london\n",
      "Processing Record 10 of Set 6 | port hedland\n",
      "Processing Record 11 of Set 6 | maceio\n",
      "Processing Record 12 of Set 6 | novyy urengoy\n",
      "Processing Record 13 of Set 6 | nabire\n",
      "Processing Record 14 of Set 6 | san rafael\n",
      "Processing Record 15 of Set 6 | saravan\n",
      "Processing Record 16 of Set 6 | tilichiki\n",
      "Processing Record 17 of Set 6 | ukiah\n",
      "Processing Record 18 of Set 6 | iqaluit\n",
      "Processing Record 19 of Set 6 | beloha\n",
      "Processing Record 20 of Set 6 | barentsburg\n",
      "City not found. Skipping...\n",
      "Processing Record 21 of Set 6 | amberley\n",
      "Processing Record 22 of Set 6 | zhezkazgan\n",
      "Processing Record 23 of Set 6 | shimoda\n",
      "Processing Record 24 of Set 6 | dzilam gonzalez\n",
      "Processing Record 25 of Set 6 | sabha\n",
      "Processing Record 26 of Set 6 | harrai\n",
      "Processing Record 27 of Set 6 | sars\n",
      "Processing Record 28 of Set 6 | buin\n",
      "Processing Record 29 of Set 6 | high rock\n",
      "Processing Record 30 of Set 6 | corning\n",
      "Processing Record 31 of Set 6 | whitehorse\n",
      "Processing Record 32 of Set 6 | opuwo\n",
      "Processing Record 33 of Set 6 | dire\n",
      "Processing Record 34 of Set 6 | biloela\n",
      "Processing Record 35 of Set 6 | bubaque\n",
      "Processing Record 36 of Set 6 | vuktyl\n",
      "Processing Record 37 of Set 6 | sibolga\n",
      "Processing Record 38 of Set 6 | nome\n",
      "Processing Record 39 of Set 6 | vaitupu\n",
      "City not found. Skipping...\n",
      "Processing Record 40 of Set 6 | ilam\n",
      "Processing Record 41 of Set 6 | shar\n",
      "Processing Record 42 of Set 6 | fort nelson\n",
      "Processing Record 43 of Set 6 | teneguiban\n",
      "City not found. Skipping...\n",
      "Processing Record 44 of Set 6 | cabinda\n",
      "Processing Record 45 of Set 6 | olinda\n",
      "Processing Record 46 of Set 6 | loandjili\n",
      "Processing Record 47 of Set 6 | dzialdowo\n",
      "Processing Record 48 of Set 6 | hamina\n",
      "Processing Record 49 of Set 6 | amderma\n",
      "City not found. Skipping...\n",
      "Processing Record 50 of Set 6 | paamiut\n",
      "Processing Record 1 of Set 7 | quatre cocos\n",
      "Processing Record 2 of Set 7 | beringovskiy\n",
      "Processing Record 3 of Set 7 | gat\n",
      "Processing Record 4 of Set 7 | breves\n",
      "Processing Record 5 of Set 7 | sioux lookout\n",
      "Processing Record 6 of Set 7 | matagami\n",
      "Processing Record 7 of Set 7 | griffith\n",
      "Processing Record 8 of Set 7 | tura\n",
      "Processing Record 9 of Set 7 | kuusamo\n",
      "Processing Record 10 of Set 7 | matara\n",
      "Processing Record 11 of Set 7 | mahanoro\n",
      "Processing Record 12 of Set 7 | dubbo\n",
      "Processing Record 13 of Set 7 | azare\n",
      "Processing Record 14 of Set 7 | sitka\n",
      "Processing Record 15 of Set 7 | mecca\n",
      "Processing Record 16 of Set 7 | port blair\n",
      "Processing Record 17 of Set 7 | narsaq\n",
      "Processing Record 18 of Set 7 | vanimo\n",
      "Processing Record 19 of Set 7 | ikom\n",
      "Processing Record 20 of Set 7 | phalaborwa\n",
      "Processing Record 21 of Set 7 | kamenskoye\n",
      "City not found. Skipping...\n",
      "Processing Record 22 of Set 7 | adrar\n",
      "Processing Record 23 of Set 7 | kualakapuas\n",
      "Processing Record 24 of Set 7 | hualmay\n",
      "Processing Record 25 of Set 7 | cumana\n",
      "Processing Record 26 of Set 7 | zharkent\n",
      "Processing Record 27 of Set 7 | virtsu\n",
      "Processing Record 28 of Set 7 | umm lajj\n",
      "Processing Record 29 of Set 7 | williams lake\n",
      "Processing Record 30 of Set 7 | port elizabeth\n",
      "Processing Record 31 of Set 7 | kristiansund\n",
      "Processing Record 32 of Set 7 | olga\n",
      "Processing Record 33 of Set 7 | nehe\n",
      "Processing Record 34 of Set 7 | bantry\n",
      "Processing Record 35 of Set 7 | kaitangata\n",
      "Processing Record 36 of Set 7 | charcas\n",
      "Processing Record 37 of Set 7 | point pedro\n",
      "Processing Record 38 of Set 7 | prince rupert\n",
      "Processing Record 39 of Set 7 | koboko\n",
      "Processing Record 40 of Set 7 | nalut\n",
      "Processing Record 41 of Set 7 | sedelnikovo\n",
      "City not found. Skipping...\n",
      "Processing Record 42 of Set 7 | nueva gerona\n",
      "Processing Record 43 of Set 7 | hami\n",
      "Processing Record 44 of Set 7 | ambalavao\n",
      "Processing Record 45 of Set 7 | linkoping\n",
      "Processing Record 46 of Set 7 | batagay-alyta\n",
      "Processing Record 47 of Set 7 | port-cartier\n",
      "Processing Record 48 of Set 7 | chuy\n",
      "Processing Record 49 of Set 7 | vila velha\n",
      "Processing Record 50 of Set 7 | yerbogachen\n",
      "Processing Record 1 of Set 8 | klaksvik\n",
      "Processing Record 2 of Set 8 | torbay\n",
      "Processing Record 3 of Set 8 | peruibe\n",
      "Processing Record 4 of Set 8 | piedade\n",
      "Processing Record 5 of Set 8 | port hardy\n",
      "Processing Record 6 of Set 8 | chagda\n",
      "City not found. Skipping...\n",
      "Processing Record 7 of Set 8 | tambura\n",
      "Processing Record 8 of Set 8 | paragominas\n",
      "Processing Record 9 of Set 8 | dawlatabad\n",
      "Processing Record 10 of Set 8 | solano\n",
      "Processing Record 11 of Set 8 | fortuna\n",
      "Processing Record 12 of Set 8 | mount gambier\n",
      "Processing Record 13 of Set 8 | umzimvubu\n",
      "City not found. Skipping...\n",
      "Processing Record 14 of Set 8 | alice springs\n",
      "Processing Record 15 of Set 8 | fethiye\n",
      "Processing Record 16 of Set 8 | waw\n",
      "Processing Record 17 of Set 8 | belmonte\n",
      "Processing Record 18 of Set 8 | toora-khem\n",
      "Processing Record 19 of Set 8 | kamenka\n",
      "Processing Record 20 of Set 8 | port lincoln\n",
      "Processing Record 21 of Set 8 | ancud\n",
      "Processing Record 22 of Set 8 | buqayq\n",
      "City not found. Skipping...\n",
      "Processing Record 23 of Set 8 | ardmore\n",
      "Processing Record 24 of Set 8 | doha\n",
      "Processing Record 25 of Set 8 | salinas\n",
      "Processing Record 26 of Set 8 | bokspits\n",
      "City not found. Skipping...\n",
      "Processing Record 27 of Set 8 | nelson bay\n",
      "Processing Record 28 of Set 8 | maniitsoq\n"
     ]
    },
    {
     "name": "stdout",
     "output_type": "stream",
     "text": [
      "Processing Record 29 of Set 8 | halifax\n",
      "Processing Record 30 of Set 8 | savannah bight\n",
      "Processing Record 31 of Set 8 | swidwin\n",
      "Processing Record 32 of Set 8 | berlevag\n",
      "Processing Record 33 of Set 8 | merrill\n",
      "Processing Record 34 of Set 8 | panaba\n",
      "Processing Record 35 of Set 8 | bargal\n",
      "City not found. Skipping...\n",
      "Processing Record 36 of Set 8 | el mahalla el kubra\n",
      "City not found. Skipping...\n",
      "Processing Record 37 of Set 8 | caloundra\n",
      "Processing Record 38 of Set 8 | don marcelino\n",
      "City not found. Skipping...\n",
      "Processing Record 39 of Set 8 | lolua\n",
      "City not found. Skipping...\n",
      "Processing Record 40 of Set 8 | tumannyy\n",
      "City not found. Skipping...\n",
      "Processing Record 41 of Set 8 | esperance\n",
      "Processing Record 42 of Set 8 | san cristobal\n",
      "Processing Record 43 of Set 8 | qinhuangdao\n",
      "Processing Record 44 of Set 8 | casa nova\n",
      "Processing Record 45 of Set 8 | vikesa\n",
      "Processing Record 46 of Set 8 | apaxtla\n",
      "City not found. Skipping...\n",
      "Processing Record 47 of Set 8 | marawi\n",
      "Processing Record 48 of Set 8 | khatanga\n",
      "Processing Record 49 of Set 8 | havoysund\n",
      "Processing Record 50 of Set 8 | columbus\n",
      "Processing Record 1 of Set 9 | dawei\n",
      "Processing Record 2 of Set 9 | chinhoyi\n",
      "Processing Record 3 of Set 9 | thinadhoo\n",
      "Processing Record 4 of Set 9 | inuvik\n",
      "Processing Record 5 of Set 9 | hasaki\n",
      "Processing Record 6 of Set 9 | jalu\n",
      "Processing Record 7 of Set 9 | mount isa\n",
      "Processing Record 8 of Set 9 | hovd\n",
      "Processing Record 9 of Set 9 | gweta\n",
      "Processing Record 10 of Set 9 | guiratinga\n",
      "Processing Record 11 of Set 9 | salo\n",
      "Processing Record 12 of Set 9 | araouane\n",
      "Processing Record 13 of Set 9 | umm kaddadah\n",
      "Processing Record 14 of Set 9 | birnin kebbi\n",
      "Processing Record 15 of Set 9 | ginir\n",
      "Processing Record 16 of Set 9 | haines junction\n",
      "Processing Record 17 of Set 9 | salem\n",
      "Processing Record 18 of Set 9 | wasilla\n",
      "Processing Record 19 of Set 9 | rawson\n",
      "Processing Record 20 of Set 9 | doctor pedro p. pena\n",
      "City not found. Skipping...\n",
      "Processing Record 21 of Set 9 | key west\n",
      "Processing Record 22 of Set 9 | kahului\n",
      "Processing Record 23 of Set 9 | grindavik\n",
      "Processing Record 24 of Set 9 | half moon bay\n",
      "Processing Record 25 of Set 9 | benguela\n",
      "Processing Record 26 of Set 9 | tomatlan\n",
      "Processing Record 27 of Set 9 | isla mujeres\n",
      "Processing Record 28 of Set 9 | karamea\n",
      "City not found. Skipping...\n",
      "Processing Record 29 of Set 9 | banda aceh\n",
      "Processing Record 30 of Set 9 | moose factory\n",
      "Processing Record 31 of Set 9 | fort pierce\n",
      "Processing Record 32 of Set 9 | teguldet\n",
      "Processing Record 33 of Set 9 | sibenik\n",
      "Processing Record 34 of Set 9 | san jeronimo\n",
      "Processing Record 35 of Set 9 | chara\n",
      "Processing Record 36 of Set 9 | edson\n",
      "Processing Record 37 of Set 9 | rorvik\n",
      "Processing Record 38 of Set 9 | urumqi\n",
      "Processing Record 39 of Set 9 | soe\n",
      "Processing Record 40 of Set 9 | fiche\n",
      "Processing Record 41 of Set 9 | nishihara\n",
      "Processing Record 42 of Set 9 | sungaipenuh\n",
      "Processing Record 43 of Set 9 | souillac\n",
      "Processing Record 44 of Set 9 | mirnyy\n",
      "Processing Record 45 of Set 9 | san patricio\n",
      "Processing Record 46 of Set 9 | bastrop\n",
      "Processing Record 47 of Set 9 | berbera\n",
      "Processing Record 48 of Set 9 | jieshi\n",
      "Processing Record 49 of Set 9 | kabare\n",
      "Processing Record 50 of Set 9 | faanui\n",
      "Processing Record 1 of Set 10 | ivybridge\n",
      "Processing Record 2 of Set 10 | lucapa\n",
      "Processing Record 3 of Set 10 | ondjiva\n",
      "Processing Record 4 of Set 10 | iskateley\n",
      "Processing Record 5 of Set 10 | truro\n",
      "Processing Record 6 of Set 10 | okha\n",
      "Processing Record 7 of Set 10 | taltal\n",
      "Processing Record 8 of Set 10 | yuscaran\n",
      "Processing Record 9 of Set 10 | cabo san lucas\n",
      "Processing Record 10 of Set 10 | ruteng\n",
      "Processing Record 11 of Set 10 | verkhnyaya inta\n",
      "Processing Record 12 of Set 10 | kiunga\n",
      "Processing Record 13 of Set 10 | padang\n",
      "Processing Record 14 of Set 10 | mukhen\n",
      "Processing Record 15 of Set 10 | sisimiut\n",
      "Processing Record 16 of Set 10 | blagoyevo\n",
      "Processing Record 17 of Set 10 | pacific grove\n",
      "Processing Record 18 of Set 10 | isla vista\n",
      "Processing Record 19 of Set 10 | karaul\n",
      "City not found. Skipping...\n",
      "Processing Record 20 of Set 10 | bulawayo\n",
      "Processing Record 21 of Set 10 | fairbanks\n",
      "Processing Record 22 of Set 10 | tombouctou\n",
      "Processing Record 23 of Set 10 | ulladulla\n",
      "Processing Record 24 of Set 10 | sao joao da barra\n",
      "Processing Record 25 of Set 10 | laramie\n",
      "Processing Record 26 of Set 10 | nara\n",
      "Processing Record 27 of Set 10 | santa vitoria do palmar\n",
      "Processing Record 28 of Set 10 | kenai\n",
      "Processing Record 29 of Set 10 | changji\n",
      "Processing Record 30 of Set 10 | little current\n",
      "Processing Record 31 of Set 10 | konosha\n",
      "Processing Record 32 of Set 10 | la rioja\n",
      "Processing Record 33 of Set 10 | dickinson\n",
      "Processing Record 34 of Set 10 | macherla\n",
      "Processing Record 35 of Set 10 | dingle\n",
      "Processing Record 36 of Set 10 | cururupu\n",
      "Processing Record 37 of Set 10 | cullera\n",
      "Processing Record 38 of Set 10 | fomboni\n",
      "Processing Record 39 of Set 10 | nuevo progreso\n",
      "Processing Record 40 of Set 10 | sao miguel do araguaia\n",
      "Processing Record 41 of Set 10 | nguiu\n",
      "City not found. Skipping...\n",
      "Processing Record 42 of Set 10 | huarmey\n",
      "Processing Record 43 of Set 10 | firozpur jhirka\n",
      "Processing Record 44 of Set 10 | sinazongwe\n",
      "Processing Record 45 of Set 10 | sept-iles\n",
      "Processing Record 46 of Set 10 | galiwinku\n",
      "City not found. Skipping...\n",
      "Processing Record 47 of Set 10 | luderitz\n",
      "Processing Record 48 of Set 10 | bitung\n",
      "Processing Record 49 of Set 10 | aykhal\n",
      "Processing Record 50 of Set 10 | dinghai\n",
      "Processing Record 1 of Set 11 | jamnah\n",
      "City not found. Skipping...\n",
      "Processing Record 2 of Set 11 | potchefstroom\n",
      "Processing Record 3 of Set 11 | srikakulam\n",
      "Processing Record 4 of Set 11 | calama\n",
      "Processing Record 5 of Set 11 | trairi\n",
      "Processing Record 6 of Set 11 | astoria\n",
      "Processing Record 7 of Set 11 | halalo\n",
      "City not found. Skipping...\n",
      "Processing Record 8 of Set 11 | ust-kan\n",
      "Processing Record 9 of Set 11 | batsfjord\n",
      "Processing Record 10 of Set 11 | kota belud\n",
      "Processing Record 11 of Set 11 | micheweni\n",
      "Processing Record 12 of Set 11 | dwarka\n",
      "Processing Record 13 of Set 11 | pestravka\n",
      "Processing Record 14 of Set 11 | constantine\n",
      "Processing Record 15 of Set 11 | arlit\n",
      "Processing Record 16 of Set 11 | egvekinot\n",
      "Processing Record 17 of Set 11 | gondanglegi\n",
      "Processing Record 18 of Set 11 | parabel\n",
      "Processing Record 19 of Set 11 | constitucion\n",
      "Processing Record 20 of Set 11 | necochea\n",
      "Processing Record 21 of Set 11 | pangai\n",
      "Processing Record 22 of Set 11 | conway\n",
      "Processing Record 23 of Set 11 | lokosovo\n",
      "Processing Record 24 of Set 11 | bredy\n",
      "Processing Record 25 of Set 11 | coihaique\n",
      "Processing Record 26 of Set 11 | ewa beach\n",
      "Processing Record 27 of Set 11 | tuggurt\n",
      "City not found. Skipping...\n",
      "Processing Record 28 of Set 11 | san quintin\n",
      "Processing Record 29 of Set 11 | ban tak\n",
      "Processing Record 30 of Set 11 | onda\n",
      "Processing Record 31 of Set 11 | evensk\n",
      "Processing Record 32 of Set 11 | harindanga\n",
      "Processing Record 33 of Set 11 | barra patuca\n",
      "Processing Record 34 of Set 11 | baykit\n",
      "Processing Record 35 of Set 11 | talcahuano\n",
      "Processing Record 36 of Set 11 | ende\n",
      "Processing Record 37 of Set 11 | kolga\n",
      "Processing Record 38 of Set 11 | kloulklubed\n",
      "Processing Record 39 of Set 11 | sambava\n",
      "Processing Record 40 of Set 11 | lorengau\n",
      "Processing Record 41 of Set 11 | san buenaventura\n",
      "Processing Record 42 of Set 11 | avera\n",
      "Processing Record 43 of Set 11 | kalianget\n",
      "Processing Record 44 of Set 11 | suihua\n",
      "Processing Record 45 of Set 11 | rio gallegos\n",
      "Processing Record 46 of Set 11 | katangli\n",
      "Processing Record 47 of Set 11 | sakaraha\n",
      "Processing Record 48 of Set 11 | pangnirtung\n",
      "Processing Record 49 of Set 11 | meulaboh\n",
      "Processing Record 50 of Set 11 | hobyo\n",
      "Processing Record 1 of Set 12 | nigde\n",
      "Processing Record 2 of Set 12 | bambanglipuro\n",
      "Processing Record 3 of Set 12 | lompoc\n",
      "Processing Record 4 of Set 12 | lagoa\n",
      "Processing Record 5 of Set 12 | manzanillo\n",
      "Processing Record 6 of Set 12 | vila\n",
      "Processing Record 7 of Set 12 | harper\n",
      "Processing Record 8 of Set 12 | tazovskiy\n",
      "Processing Record 9 of Set 12 | plastun\n",
      "Processing Record 10 of Set 12 | hernani\n",
      "Processing Record 11 of Set 12 | colac\n",
      "Processing Record 12 of Set 12 | arica\n",
      "Processing Record 13 of Set 12 | olafsvik\n",
      "Processing Record 14 of Set 12 | emirdag\n",
      "Processing Record 15 of Set 12 | bhum\n",
      "Processing Record 16 of Set 12 | xingyi\n"
     ]
    },
    {
     "name": "stdout",
     "output_type": "stream",
     "text": [
      "Processing Record 17 of Set 12 | apollonia\n",
      "Processing Record 18 of Set 12 | baffa\n",
      "Processing Record 19 of Set 12 | kingsport\n",
      "Processing Record 20 of Set 12 | monzon\n",
      "Processing Record 21 of Set 12 | araguacu\n",
      "Processing Record 22 of Set 12 | mugur-aksy\n",
      "Processing Record 23 of Set 12 | pilna\n",
      "Processing Record 24 of Set 12 | tasbuget\n",
      "City not found. Skipping...\n",
      "Processing Record 25 of Set 12 | alihe\n",
      "Processing Record 26 of Set 12 | eenhana\n",
      "Processing Record 27 of Set 12 | kyaikkami\n",
      "Processing Record 28 of Set 12 | gold coast\n",
      "Processing Record 29 of Set 12 | hihifo\n",
      "City not found. Skipping...\n",
      "Processing Record 30 of Set 12 | ialibu\n",
      "Processing Record 31 of Set 12 | mandapam\n",
      "Processing Record 32 of Set 12 | ixtapa\n",
      "Processing Record 33 of Set 12 | kysyl-syr\n",
      "Processing Record 34 of Set 12 | guamuchil\n",
      "Processing Record 35 of Set 12 | ciego de avila\n",
      "Processing Record 36 of Set 12 | ellisras\n",
      "Processing Record 37 of Set 12 | qasigiannguit\n",
      "Processing Record 38 of Set 12 | zaranj\n",
      "Processing Record 39 of Set 12 | pierre\n",
      "Processing Record 40 of Set 12 | acarau\n",
      "Processing Record 41 of Set 12 | rosarito\n",
      "Processing Record 42 of Set 12 | mathbaria\n",
      "Processing Record 43 of Set 12 | barguzin\n",
      "Processing Record 44 of Set 12 | pionerskiy\n",
      "Processing Record 45 of Set 12 | puro\n",
      "Processing Record 46 of Set 12 | blackwater\n",
      "Processing Record 47 of Set 12 | chegdomyn\n",
      "Processing Record 48 of Set 12 | glubokiy\n",
      "Processing Record 49 of Set 12 | ejea de los caballeros\n",
      "Processing Record 50 of Set 12 | alofi\n",
      "Processing Record 1 of Set 13 | verkhniy rohachyk\n",
      "Processing Record 2 of Set 13 | mattru\n",
      "Processing Record 3 of Set 13 | andenes\n",
      "Processing Record 4 of Set 13 | santa maria\n",
      "Processing Record 5 of Set 13 | natal\n",
      "Processing Record 6 of Set 13 | westport\n",
      "Processing Record 7 of Set 13 | miles city\n",
      "Processing Record 8 of Set 13 | warqla\n",
      "City not found. Skipping...\n",
      "Processing Record 9 of Set 13 | mopipi\n",
      "Processing Record 10 of Set 13 | nemuro\n",
      "Processing Record 11 of Set 13 | katherine\n",
      "Processing Record 12 of Set 13 | los llanos de aridane\n",
      "Processing Record 13 of Set 13 | erenhot\n",
      "-----------------------------\n",
      "Data Retrieval Complete      \n",
      "-----------------------------\n"
     ]
    }
   ],
   "source": [
    "# Loop through all the cities in the list.\n",
    "for i, city in enumerate(cities):\n",
    "\n",
    "    # Group cities in sets of 50 for logging purposes.\n",
    "    if (i % 50 == 0 and i >= 50):\n",
    "        set_count += 1\n",
    "        record_count = 1\n",
    "    # Create endpoint URL with each city.\n",
    "    city_url = url + \"&q=\" + city\n",
    "\n",
    "    # Log the URL, record, and set numbers and the city.\n",
    "    print(f\"Processing Record {record_count} of Set {set_count} | {city}\")\n",
    "    # Add 1 to the record count.\n",
    "    record_count += 1\n",
    "    \n",
    "    # Run an API request for each of the cities.\n",
    "    try:\n",
    "        # Parse the JSON and retrieve data.\n",
    "        city_weather = requests.get(city_url).json()\n",
    "        # Parse out the needed data.\n",
    "        city_lat = city_weather[\"coord\"][\"lat\"]\n",
    "        city_lng = city_weather[\"coord\"][\"lon\"]\n",
    "        city_max_temp = city_weather[\"main\"][\"temp_max\"]\n",
    "        city_humidity = city_weather[\"main\"][\"humidity\"]\n",
    "        city_clouds = city_weather[\"clouds\"][\"all\"]\n",
    "        city_wind = city_weather[\"wind\"][\"speed\"]\n",
    "        city_country = city_weather[\"sys\"][\"country\"]\n",
    "        # Convert the date to ISO standard.\n",
    "        city_date = datetime.utcfromtimestamp(city_weather[\"dt\"]).strftime('%Y-%m-%d %H:%M:%S')\n",
    "        # Append the city information into city_data list.\n",
    "        city_data.append({\"City\": city.title(),\n",
    "                          \"Lat\": city_lat,\n",
    "                          \"Lng\": city_lng,\n",
    "                          \"Max Temp\": city_max_temp,\n",
    "                          \"Humidity\": city_humidity,\n",
    "                          \"Cloudiness\": city_clouds,\n",
    "                          \"Wind Speed\": city_wind,\n",
    "                          \"Country\": city_country,\n",
    "                          \"Date\": city_date})\n",
    "\n",
    "    # If an error is experienced, skip the city.\n",
    "    except:\n",
    "        print(\"City not found. Skipping...\")\n",
    "        pass\n",
    "\n",
    "# Indicate that Data Loading is complete.\n",
    "print(\"-----------------------------\")\n",
    "print(\"Data Retrieval Complete      \")\n",
    "print(\"-----------------------------\")"
   ]
  },
  {
   "cell_type": "code",
   "execution_count": 38,
   "metadata": {},
   "outputs": [
    {
     "data": {
      "text/html": [
       "<div>\n",
       "<style scoped>\n",
       "    .dataframe tbody tr th:only-of-type {\n",
       "        vertical-align: middle;\n",
       "    }\n",
       "\n",
       "    .dataframe tbody tr th {\n",
       "        vertical-align: top;\n",
       "    }\n",
       "\n",
       "    .dataframe thead th {\n",
       "        text-align: right;\n",
       "    }\n",
       "</style>\n",
       "<table border=\"1\" class=\"dataframe\">\n",
       "  <thead>\n",
       "    <tr style=\"text-align: right;\">\n",
       "      <th></th>\n",
       "      <th>City</th>\n",
       "      <th>Lat</th>\n",
       "      <th>Lng</th>\n",
       "      <th>Max Temp</th>\n",
       "      <th>Humidity</th>\n",
       "      <th>Cloudiness</th>\n",
       "      <th>Wind Speed</th>\n",
       "      <th>Country</th>\n",
       "      <th>Date</th>\n",
       "    </tr>\n",
       "  </thead>\n",
       "  <tbody>\n",
       "    <tr>\n",
       "      <th>0</th>\n",
       "      <td>Saint George</td>\n",
       "      <td>37.10</td>\n",
       "      <td>-113.58</td>\n",
       "      <td>66.20</td>\n",
       "      <td>20</td>\n",
       "      <td>1</td>\n",
       "      <td>5.82</td>\n",
       "      <td>US</td>\n",
       "      <td>2020-04-16 03:19:24</td>\n",
       "    </tr>\n",
       "    <tr>\n",
       "      <th>1</th>\n",
       "      <td>Pangkalanbuun</td>\n",
       "      <td>-2.68</td>\n",
       "      <td>111.62</td>\n",
       "      <td>84.69</td>\n",
       "      <td>77</td>\n",
       "      <td>100</td>\n",
       "      <td>2.39</td>\n",
       "      <td>ID</td>\n",
       "      <td>2020-04-16 03:18:48</td>\n",
       "    </tr>\n",
       "    <tr>\n",
       "      <th>2</th>\n",
       "      <td>Yellowknife</td>\n",
       "      <td>62.46</td>\n",
       "      <td>-114.35</td>\n",
       "      <td>24.01</td>\n",
       "      <td>79</td>\n",
       "      <td>75</td>\n",
       "      <td>8.05</td>\n",
       "      <td>CA</td>\n",
       "      <td>2020-04-16 03:19:25</td>\n",
       "    </tr>\n",
       "    <tr>\n",
       "      <th>3</th>\n",
       "      <td>Kodiak</td>\n",
       "      <td>57.79</td>\n",
       "      <td>-152.41</td>\n",
       "      <td>48.20</td>\n",
       "      <td>81</td>\n",
       "      <td>90</td>\n",
       "      <td>6.93</td>\n",
       "      <td>US</td>\n",
       "      <td>2020-04-16 03:19:25</td>\n",
       "    </tr>\n",
       "    <tr>\n",
       "      <th>4</th>\n",
       "      <td>Bredasdorp</td>\n",
       "      <td>-34.53</td>\n",
       "      <td>20.04</td>\n",
       "      <td>53.60</td>\n",
       "      <td>81</td>\n",
       "      <td>0</td>\n",
       "      <td>3.36</td>\n",
       "      <td>ZA</td>\n",
       "      <td>2020-04-16 03:19:25</td>\n",
       "    </tr>\n",
       "    <tr>\n",
       "      <th>5</th>\n",
       "      <td>Kirovsk</td>\n",
       "      <td>48.64</td>\n",
       "      <td>38.64</td>\n",
       "      <td>37.78</td>\n",
       "      <td>71</td>\n",
       "      <td>72</td>\n",
       "      <td>11.36</td>\n",
       "      <td>UA</td>\n",
       "      <td>2020-04-16 03:19:25</td>\n",
       "    </tr>\n",
       "    <tr>\n",
       "      <th>6</th>\n",
       "      <td>Okhotsk</td>\n",
       "      <td>59.38</td>\n",
       "      <td>143.30</td>\n",
       "      <td>29.35</td>\n",
       "      <td>95</td>\n",
       "      <td>94</td>\n",
       "      <td>5.37</td>\n",
       "      <td>RU</td>\n",
       "      <td>2020-04-16 03:19:26</td>\n",
       "    </tr>\n",
       "    <tr>\n",
       "      <th>7</th>\n",
       "      <td>Mahebourg</td>\n",
       "      <td>-20.41</td>\n",
       "      <td>57.70</td>\n",
       "      <td>77.00</td>\n",
       "      <td>78</td>\n",
       "      <td>40</td>\n",
       "      <td>12.75</td>\n",
       "      <td>MU</td>\n",
       "      <td>2020-04-16 03:19:26</td>\n",
       "    </tr>\n",
       "    <tr>\n",
       "      <th>8</th>\n",
       "      <td>Katsuura</td>\n",
       "      <td>35.13</td>\n",
       "      <td>140.30</td>\n",
       "      <td>64.99</td>\n",
       "      <td>71</td>\n",
       "      <td>75</td>\n",
       "      <td>13.87</td>\n",
       "      <td>JP</td>\n",
       "      <td>2020-04-16 03:19:26</td>\n",
       "    </tr>\n",
       "    <tr>\n",
       "      <th>9</th>\n",
       "      <td>Barrow</td>\n",
       "      <td>71.29</td>\n",
       "      <td>-156.79</td>\n",
       "      <td>23.00</td>\n",
       "      <td>85</td>\n",
       "      <td>90</td>\n",
       "      <td>14.99</td>\n",
       "      <td>US</td>\n",
       "      <td>2020-04-16 03:19:26</td>\n",
       "    </tr>\n",
       "  </tbody>\n",
       "</table>\n",
       "</div>"
      ],
      "text/plain": [
       "            City    Lat     Lng  Max Temp  Humidity  Cloudiness  Wind Speed  \\\n",
       "0   Saint George  37.10 -113.58     66.20        20           1        5.82   \n",
       "1  Pangkalanbuun  -2.68  111.62     84.69        77         100        2.39   \n",
       "2    Yellowknife  62.46 -114.35     24.01        79          75        8.05   \n",
       "3         Kodiak  57.79 -152.41     48.20        81          90        6.93   \n",
       "4     Bredasdorp -34.53   20.04     53.60        81           0        3.36   \n",
       "5        Kirovsk  48.64   38.64     37.78        71          72       11.36   \n",
       "6        Okhotsk  59.38  143.30     29.35        95          94        5.37   \n",
       "7      Mahebourg -20.41   57.70     77.00        78          40       12.75   \n",
       "8       Katsuura  35.13  140.30     64.99        71          75       13.87   \n",
       "9         Barrow  71.29 -156.79     23.00        85          90       14.99   \n",
       "\n",
       "  Country                 Date  \n",
       "0      US  2020-04-16 03:19:24  \n",
       "1      ID  2020-04-16 03:18:48  \n",
       "2      CA  2020-04-16 03:19:25  \n",
       "3      US  2020-04-16 03:19:25  \n",
       "4      ZA  2020-04-16 03:19:25  \n",
       "5      UA  2020-04-16 03:19:25  \n",
       "6      RU  2020-04-16 03:19:26  \n",
       "7      MU  2020-04-16 03:19:26  \n",
       "8      JP  2020-04-16 03:19:26  \n",
       "9      US  2020-04-16 03:19:26  "
      ]
     },
     "execution_count": 38,
     "metadata": {},
     "output_type": "execute_result"
    }
   ],
   "source": [
    "# Convert the array of dictionaries to a Pandas DataFrame.\n",
    "city_data_df = pd.DataFrame(city_data)\n",
    "city_data_df.head(10)"
   ]
  },
  {
   "cell_type": "code",
   "execution_count": 39,
   "metadata": {},
   "outputs": [],
   "source": [
    "new_column_order = [\"City\",\"Country\",\"Date\",\"Lat\",\"Lng\",\"Max Temp\",\"Humidity\",\"Cloudiness\",\"Wind Speed\"]"
   ]
  },
  {
   "cell_type": "code",
   "execution_count": 40,
   "metadata": {},
   "outputs": [],
   "source": [
    "city_data_df = city_data_df[new_column_order]"
   ]
  },
  {
   "cell_type": "code",
   "execution_count": 41,
   "metadata": {},
   "outputs": [
    {
     "data": {
      "text/plain": [
       "566"
      ]
     },
     "execution_count": 41,
     "metadata": {},
     "output_type": "execute_result"
    }
   ],
   "source": [
    "len(city_data)"
   ]
  },
  {
   "cell_type": "code",
   "execution_count": 42,
   "metadata": {},
   "outputs": [
    {
     "data": {
      "text/html": [
       "<div>\n",
       "<style scoped>\n",
       "    .dataframe tbody tr th:only-of-type {\n",
       "        vertical-align: middle;\n",
       "    }\n",
       "\n",
       "    .dataframe tbody tr th {\n",
       "        vertical-align: top;\n",
       "    }\n",
       "\n",
       "    .dataframe thead th {\n",
       "        text-align: right;\n",
       "    }\n",
       "</style>\n",
       "<table border=\"1\" class=\"dataframe\">\n",
       "  <thead>\n",
       "    <tr style=\"text-align: right;\">\n",
       "      <th></th>\n",
       "      <th>City</th>\n",
       "      <th>Country</th>\n",
       "      <th>Date</th>\n",
       "      <th>Lat</th>\n",
       "      <th>Lng</th>\n",
       "      <th>Max Temp</th>\n",
       "      <th>Humidity</th>\n",
       "      <th>Cloudiness</th>\n",
       "      <th>Wind Speed</th>\n",
       "    </tr>\n",
       "  </thead>\n",
       "  <tbody>\n",
       "    <tr>\n",
       "      <th>0</th>\n",
       "      <td>Saint George</td>\n",
       "      <td>US</td>\n",
       "      <td>2020-04-16 03:19:24</td>\n",
       "      <td>37.10</td>\n",
       "      <td>-113.58</td>\n",
       "      <td>66.20</td>\n",
       "      <td>20</td>\n",
       "      <td>1</td>\n",
       "      <td>5.82</td>\n",
       "    </tr>\n",
       "    <tr>\n",
       "      <th>1</th>\n",
       "      <td>Pangkalanbuun</td>\n",
       "      <td>ID</td>\n",
       "      <td>2020-04-16 03:18:48</td>\n",
       "      <td>-2.68</td>\n",
       "      <td>111.62</td>\n",
       "      <td>84.69</td>\n",
       "      <td>77</td>\n",
       "      <td>100</td>\n",
       "      <td>2.39</td>\n",
       "    </tr>\n",
       "    <tr>\n",
       "      <th>2</th>\n",
       "      <td>Yellowknife</td>\n",
       "      <td>CA</td>\n",
       "      <td>2020-04-16 03:19:25</td>\n",
       "      <td>62.46</td>\n",
       "      <td>-114.35</td>\n",
       "      <td>24.01</td>\n",
       "      <td>79</td>\n",
       "      <td>75</td>\n",
       "      <td>8.05</td>\n",
       "    </tr>\n",
       "    <tr>\n",
       "      <th>3</th>\n",
       "      <td>Kodiak</td>\n",
       "      <td>US</td>\n",
       "      <td>2020-04-16 03:19:25</td>\n",
       "      <td>57.79</td>\n",
       "      <td>-152.41</td>\n",
       "      <td>48.20</td>\n",
       "      <td>81</td>\n",
       "      <td>90</td>\n",
       "      <td>6.93</td>\n",
       "    </tr>\n",
       "    <tr>\n",
       "      <th>4</th>\n",
       "      <td>Bredasdorp</td>\n",
       "      <td>ZA</td>\n",
       "      <td>2020-04-16 03:19:25</td>\n",
       "      <td>-34.53</td>\n",
       "      <td>20.04</td>\n",
       "      <td>53.60</td>\n",
       "      <td>81</td>\n",
       "      <td>0</td>\n",
       "      <td>3.36</td>\n",
       "    </tr>\n",
       "    <tr>\n",
       "      <th>5</th>\n",
       "      <td>Kirovsk</td>\n",
       "      <td>UA</td>\n",
       "      <td>2020-04-16 03:19:25</td>\n",
       "      <td>48.64</td>\n",
       "      <td>38.64</td>\n",
       "      <td>37.78</td>\n",
       "      <td>71</td>\n",
       "      <td>72</td>\n",
       "      <td>11.36</td>\n",
       "    </tr>\n",
       "    <tr>\n",
       "      <th>6</th>\n",
       "      <td>Okhotsk</td>\n",
       "      <td>RU</td>\n",
       "      <td>2020-04-16 03:19:26</td>\n",
       "      <td>59.38</td>\n",
       "      <td>143.30</td>\n",
       "      <td>29.35</td>\n",
       "      <td>95</td>\n",
       "      <td>94</td>\n",
       "      <td>5.37</td>\n",
       "    </tr>\n",
       "    <tr>\n",
       "      <th>7</th>\n",
       "      <td>Mahebourg</td>\n",
       "      <td>MU</td>\n",
       "      <td>2020-04-16 03:19:26</td>\n",
       "      <td>-20.41</td>\n",
       "      <td>57.70</td>\n",
       "      <td>77.00</td>\n",
       "      <td>78</td>\n",
       "      <td>40</td>\n",
       "      <td>12.75</td>\n",
       "    </tr>\n",
       "    <tr>\n",
       "      <th>8</th>\n",
       "      <td>Katsuura</td>\n",
       "      <td>JP</td>\n",
       "      <td>2020-04-16 03:19:26</td>\n",
       "      <td>35.13</td>\n",
       "      <td>140.30</td>\n",
       "      <td>64.99</td>\n",
       "      <td>71</td>\n",
       "      <td>75</td>\n",
       "      <td>13.87</td>\n",
       "    </tr>\n",
       "    <tr>\n",
       "      <th>9</th>\n",
       "      <td>Barrow</td>\n",
       "      <td>US</td>\n",
       "      <td>2020-04-16 03:19:26</td>\n",
       "      <td>71.29</td>\n",
       "      <td>-156.79</td>\n",
       "      <td>23.00</td>\n",
       "      <td>85</td>\n",
       "      <td>90</td>\n",
       "      <td>14.99</td>\n",
       "    </tr>\n",
       "  </tbody>\n",
       "</table>\n",
       "</div>"
      ],
      "text/plain": [
       "            City Country                 Date    Lat     Lng  Max Temp  \\\n",
       "0   Saint George      US  2020-04-16 03:19:24  37.10 -113.58     66.20   \n",
       "1  Pangkalanbuun      ID  2020-04-16 03:18:48  -2.68  111.62     84.69   \n",
       "2    Yellowknife      CA  2020-04-16 03:19:25  62.46 -114.35     24.01   \n",
       "3         Kodiak      US  2020-04-16 03:19:25  57.79 -152.41     48.20   \n",
       "4     Bredasdorp      ZA  2020-04-16 03:19:25 -34.53   20.04     53.60   \n",
       "5        Kirovsk      UA  2020-04-16 03:19:25  48.64   38.64     37.78   \n",
       "6        Okhotsk      RU  2020-04-16 03:19:26  59.38  143.30     29.35   \n",
       "7      Mahebourg      MU  2020-04-16 03:19:26 -20.41   57.70     77.00   \n",
       "8       Katsuura      JP  2020-04-16 03:19:26  35.13  140.30     64.99   \n",
       "9         Barrow      US  2020-04-16 03:19:26  71.29 -156.79     23.00   \n",
       "\n",
       "   Humidity  Cloudiness  Wind Speed  \n",
       "0        20           1        5.82  \n",
       "1        77         100        2.39  \n",
       "2        79          75        8.05  \n",
       "3        81          90        6.93  \n",
       "4        81           0        3.36  \n",
       "5        71          72       11.36  \n",
       "6        95          94        5.37  \n",
       "7        78          40       12.75  \n",
       "8        71          75       13.87  \n",
       "9        85          90       14.99  "
      ]
     },
     "execution_count": 42,
     "metadata": {},
     "output_type": "execute_result"
    }
   ],
   "source": [
    "# Convert the array of dictionaries to a Pandas DataFrame.\n",
    "city_data_df = pd.DataFrame(city_data_df)\n",
    "city_data_df.head(10)"
   ]
  },
  {
   "cell_type": "code",
   "execution_count": 43,
   "metadata": {},
   "outputs": [],
   "source": [
    "# Create the output file (CSV).\n",
    "output_data_file = \"weather_data/cities.csv\"\n",
    "\n",
    "# Export the City_Data into a CSV.\n",
    "city_data_df.to_csv(output_data_file, index_label=\"City_ID\")"
   ]
  },
  {
   "cell_type": "code",
   "execution_count": 44,
   "metadata": {},
   "outputs": [],
   "source": [
    "# Extract relevant fields from the DataFrame for plotting.\n",
    "\n",
    "lats = city_data_df[\"Lat\"]\n",
    "max_temps = city_data_df[\"Max Temp\"]\n",
    "humidity = city_data_df[\"Humidity\"]\n",
    "cloudiness = city_data_df[\"Cloudiness\"]\n",
    "wind_speed = city_data_df[\"Wind Speed\"]"
   ]
  },
  {
   "cell_type": "code",
   "execution_count": 45,
   "metadata": {},
   "outputs": [
    {
     "data": {
      "text/plain": [
       "'04/15/20'"
      ]
     },
     "execution_count": 45,
     "metadata": {},
     "output_type": "execute_result"
    }
   ],
   "source": [
    "# Import the time module.\n",
    "import time\n",
    "\n",
    "# Get today's date in seconds.\n",
    "today = time.strftime(\"%x\")\n",
    "today"
   ]
  },
  {
   "cell_type": "code",
   "execution_count": 46,
   "metadata": {},
   "outputs": [
    {
     "data": {
      "image/png": "[encoded data removed]",
      "text/plain": [
       "<Figure size 432x288 with 1 Axes>"
      ]
     },
     "metadata": {
      "needs_background": "light"
     },
     "output_type": "display_data"
    }
   ],
   "source": [
    "# Build the scatter plot for latitude vs. max temperature.\n",
    "\n",
    "plt.scatter(lats,\n",
    "            max_temps,\n",
    "            edgecolor=\"black\", linewidths=1, marker=\"o\",\n",
    "            alpha=0.8, label=\"Cities\")\n",
    "\n",
    "# Incorporate the other graph properties.\n",
    "\n",
    "plt.title(f\"City Latitude vs. Max Temperature \"+ time.strftime(\"%x\"))\n",
    "plt.ylabel(\"Max Temperature (F)\")\n",
    "plt.xlabel(\"Latitude\")\n",
    "plt.grid(True)\n",
    "\n",
    "# Save the figure.\n",
    "plt.savefig(\"weather_data/Fig1.png\")\n",
    "\n",
    "# Show plot.\n",
    "plt.show()"
   ]
  },
  {
   "cell_type": "code",
   "execution_count": 47,
   "metadata": {},
   "outputs": [
    {
     "data": {
      "image/png": "[encoded data removed]",
      "text/plain": [
       "<Figure size 432x288 with 1 Axes>"
      ]
     },
     "metadata": {
      "needs_background": "light"
     },
     "output_type": "display_data"
    }
   ],
   "source": [
    "# Build the scatter plots for latitude vs. humidity.\n",
    "plt.scatter(lats,\n",
    "            humidity,\n",
    "            edgecolor=\"black\", linewidths=1, marker=\"o\",\n",
    "            alpha=0.8, label=\"Cities\")\n",
    "\n",
    "# Incorporate the other graph properties.\n",
    "plt.title(f\"City Latitude vs. Humidity \"+ time.strftime(\"%x\"))\n",
    "plt.ylabel(\"Humidity (%)\")\n",
    "plt.xlabel(\"Latitude\")\n",
    "plt.grid(True)\n",
    "\n",
    "# Save the figure.\n",
    "plt.savefig(\"weather_data/Fig2.png\")\n",
    "\n",
    "# Show plot.\n",
    "plt.show()"
   ]
  },
  {
   "cell_type": "code",
   "execution_count": 48,
   "metadata": {},
   "outputs": [
    {
     "data": {
      "image/png": "[encoded data removed]",
      "text/plain": [
       "<Figure size 432x288 with 1 Axes>"
      ]
     },
     "metadata": {
      "needs_background": "light"
     },
     "output_type": "display_data"
    }
   ],
   "source": [
    "# Build the scatter plots for latitude vs. cloudiness.\n",
    "plt.scatter(lats,\n",
    "            cloudiness,\n",
    "            edgecolor=\"black\", linewidths=1, marker=\"o\",\n",
    "            alpha=0.8, label=\"Cities\")\n",
    "\n",
    "# Incorporate the other graph properties.\n",
    "plt.title(f\"City Latitude vs. Cloudiness (%) \"+ time.strftime(\"%x\"))\n",
    "plt.ylabel(\"Cloudiness (%)\")\n",
    "plt.xlabel(\"Latitude\")\n",
    "plt.grid(True)\n",
    "# Save the figure.\n",
    "plt.savefig(\"weather_data/Fig3.png\")\n",
    "# Show plot.\n",
    "plt.show()"
   ]
  },
  {
   "cell_type": "code",
   "execution_count": 49,
   "metadata": {},
   "outputs": [
    {
     "data": {
      "image/png": "[encoded data removed]",
      "text/plain": [
       "<Figure size 432x288 with 1 Axes>"
      ]
     },
     "metadata": {
      "needs_background": "light"
     },
     "output_type": "display_data"
    }
   ],
   "source": [
    "# Build the scatter plots for latitude vs. wind speed.\n",
    "plt.scatter(lats,\n",
    "            wind_speed,\n",
    "            edgecolor=\"black\", linewidths=1, marker=\"o\",\n",
    "            alpha=0.8, label=\"Cities\")\n",
    "\n",
    "# Incorporate the other graph properties.\n",
    "plt.title(f\"City Latitude vs. Wind Speed \"+ time.strftime(\"%x\"))\n",
    "plt.ylabel(\"Wind Speed (mph)\")\n",
    "plt.xlabel(\"Latitude\")\n",
    "plt.grid(True)\n",
    "\n",
    "# Save the figure.\n",
    "plt.savefig(\"weather_data/Fig4.png\")\n",
    "\n",
    "# Show plot.\n",
    "plt.show()"
   ]
  },
  {
   "cell_type": "code",
   "execution_count": null,
   "metadata": {},
   "outputs": [],
   "source": []
  }
 ],
 "metadata": {
  "kernelspec": {
   "display_name": "PythonData",
   "language": "python",
   "name": "pythondata"
  },
  "language_info": {
   "codemirror_mode": {
    "name": "ipython",
    "version": 3
   },
   "file_extension": ".py",
   "mimetype": "text/x-python",
   "name": "python",
   "nbconvert_exporter": "python",
   "pygments_lexer": "ipython3",
   "version": "3.7.6"
  }
 },
 "nbformat": 4,
 "nbformat_minor": 4
}
