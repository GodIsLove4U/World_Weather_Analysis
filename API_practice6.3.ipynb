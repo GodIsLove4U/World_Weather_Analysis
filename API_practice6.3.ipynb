{
 "cells": [
  {
   "cell_type": "code",
   "execution_count": 1,
   "metadata": {},
   "outputs": [],
   "source": [
    "# Import the dependencies.\n",
    "import pandas as pd\n",
    "import matplotlib.pyplot as plt\n",
    "import numpy as np\n",
    "import random\n",
    "\n",
    "# Import timeit.\n",
    "import timeit"
   ]
  },
  {
   "cell_type": "code",
   "execution_count": 2,
   "metadata": {},
   "outputs": [
    {
     "data": {
      "text/plain": [
       "74"
      ]
     },
     "execution_count": 2,
     "metadata": {},
     "output_type": "execute_result"
    }
   ],
   "source": [
    "random.randint(-90,90)"
   ]
  },
  {
   "cell_type": "code",
   "execution_count": 3,
   "metadata": {},
   "outputs": [
    {
     "data": {
      "text/plain": [
       "0.8557215317808717"
      ]
     },
     "execution_count": 3,
     "metadata": {},
     "output_type": "execute_result"
    }
   ],
   "source": [
    "random.random()"
   ]
  },
  {
   "cell_type": "code",
   "execution_count": 4,
   "metadata": {},
   "outputs": [
    {
     "data": {
      "text/plain": [
       "-79.5077914155807"
      ]
     },
     "execution_count": 4,
     "metadata": {},
     "output_type": "execute_result"
    }
   ],
   "source": [
    "random_number = random.randint(-90,90) + random.random()\n",
    "random_number"
   ]
  },
  {
   "cell_type": "code",
   "execution_count": 5,
   "metadata": {},
   "outputs": [
    {
     "data": {
      "text/plain": [
       "[-45.46751638850865,\n",
       " -36.86993239314834,\n",
       " 30.964501024547545,\n",
       " -26.2724461677853,\n",
       " -13.680885878902073,\n",
       " -46.44211233427412,\n",
       " 61.80445304766891,\n",
       " 29.420056889662227,\n",
       " 25.497951836491104,\n",
       " 13.880887786735544]"
      ]
     },
     "execution_count": 5,
     "metadata": {},
     "output_type": "execute_result"
    }
   ],
   "source": [
    "x = 1\n",
    "latitudes = []\n",
    "while x < 11:\n",
    "    random_lat = random.randint(-90, 90) + random.random()\n",
    "    latitudes.append(random_lat)\n",
    "    x += 1\n",
    "latitudes"
   ]
  },
  {
   "cell_type": "code",
   "execution_count": 6,
   "metadata": {},
   "outputs": [
    {
     "data": {
      "text/plain": [
       "46"
      ]
     },
     "execution_count": 6,
     "metadata": {},
     "output_type": "execute_result"
    }
   ],
   "source": [
    "random.randrange(-90,90, step=1)"
   ]
  },
  {
   "cell_type": "code",
   "execution_count": 7,
   "metadata": {},
   "outputs": [
    {
     "data": {
      "text/plain": [
       "-57"
      ]
     },
     "execution_count": 7,
     "metadata": {},
     "output_type": "execute_result"
    }
   ],
   "source": [
    "random.randrange(-90,90, step=3)"
   ]
  },
  {
   "cell_type": "code",
   "execution_count": 8,
   "metadata": {},
   "outputs": [
    {
     "data": {
      "text/plain": [
       "73.68039610557406"
      ]
     },
     "execution_count": 8,
     "metadata": {},
     "output_type": "execute_result"
    }
   ],
   "source": [
    "random.uniform(-90,90)"
   ]
  },
  {
   "cell_type": "code",
   "execution_count": 9,
   "metadata": {},
   "outputs": [
    {
     "data": {
      "text/plain": [
       "array([ -7.35136556, -35.14781384,   0.8150694 , -64.06319437,\n",
       "        40.17156873,  46.09981544,  59.00318809, -32.41179345,\n",
       "        48.31979732, -64.76425236, -50.67916774,  78.29908093,\n",
       "       -16.98091959,  81.24781467, -32.88649563,  28.57141787,\n",
       "       -20.56955485,   2.19882577,  69.96855311, -51.12933678,\n",
       "        44.26638414,  -4.8391056 , -32.93145985, -68.86055784,\n",
       "        62.25241871, -66.53029373,   6.10299697,  51.94620053,\n",
       "       -71.8229657 , -45.75143391,  49.42166627,  20.99280903,\n",
       "       -43.52735707,  71.02228259,  60.27270067, -44.08822294,\n",
       "       -82.71499707, -31.82652572,  11.70098906, -26.15627564,\n",
       "       -13.60987144, -17.71335738,  72.56774451, -72.92064309,\n",
       "        12.64547757,  69.19957389, -10.97359664, -73.3721004 ,\n",
       "         9.41273095,  -4.50041449])"
      ]
     },
     "execution_count": 9,
     "metadata": {},
     "output_type": "execute_result"
    }
   ],
   "source": [
    "np.random.uniform(-90.000,90.000, size=50)"
   ]
  },
  {
   "cell_type": "code",
   "execution_count": 10,
   "metadata": {},
   "outputs": [
    {
     "name": "stdout",
     "output_type": "stream",
     "text": [
      "54.5 µs ± 10 µs per loop (mean ± std. dev. of 7 runs, 10000 loops each)\n"
     ]
    }
   ],
   "source": [
    "%timeit np.random.uniform(-90.000, 90.000, size=1500)"
   ]
  },
  {
   "cell_type": "code",
   "execution_count": 11,
   "metadata": {},
   "outputs": [
    {
     "name": "stdout",
     "output_type": "stream",
     "text": [
      "9.52 ms ± 368 µs per loop (mean ± std. dev. of 7 runs, 100 loops each)\n"
     ]
    }
   ],
   "source": [
    "def latitudes(size):\n",
    "    latitudes = []\n",
    "    x = 0\n",
    "    while x < (size):\n",
    "        random_lat = random.randint(-90, 90) + random.random()\n",
    "        latitudes.append(random_lat)\n",
    "        x += 1\n",
    "    return latitudes\n",
    "# Call the function with 1500. \n",
    "%timeit latitudes(1500)"
   ]
  },
  {
   "cell_type": "code",
   "execution_count": 12,
   "metadata": {},
   "outputs": [
    {
     "data": {
      "text/plain": [
       "array([-41.98761546,  22.90983527,  27.35298662, ...,  65.03103635,\n",
       "       -17.39234488,  87.46842383])"
      ]
     },
     "execution_count": 12,
     "metadata": {},
     "output_type": "execute_result"
    }
   ],
   "source": [
    "np.random.uniform(-90.000,90.000, size=1500)"
   ]
  },
  {
   "cell_type": "code",
   "execution_count": 13,
   "metadata": {},
   "outputs": [],
   "source": [
    "# Create a practice set of random latitude and longitude combinations.\n",
    "x = [25.12903645, 25.92017388, 26.62509167, -59.98969384, 37.30571269]\n",
    "y = [-67.59741259, 11.09532135, 74.84233102, -76.89176677, -61.13376282]\n",
    "coordinates = zip(x, y)"
   ]
  },
  {
   "cell_type": "code",
   "execution_count": 14,
   "metadata": {},
   "outputs": [
    {
     "data": {
      "text/plain": [
       "<zip at 0x1d7e9d866c8>"
      ]
     },
     "execution_count": 14,
     "metadata": {},
     "output_type": "execute_result"
    }
   ],
   "source": [
    "# Create a set of random latitude and longitude combinations.\n",
    "lats = np.random.uniform(low=-90.000, high=90.000, size=1500)\n",
    "lngs = np.random.uniform(low=-180.000, high=180.000, size=1500)\n",
    "lat_lngs = zip(lats, lngs)\n",
    "lat_lngs"
   ]
  },
  {
   "cell_type": "code",
   "execution_count": 15,
   "metadata": {},
   "outputs": [
    {
     "name": "stdout",
     "output_type": "stream",
     "text": [
      "25.12903645 -67.59741259\n",
      "25.92017388 11.09532135\n",
      "26.62509167 74.84233102\n",
      "-59.98969384 -76.89176677\n",
      "37.30571269 -61.13376282\n"
     ]
    }
   ],
   "source": [
    "# Use the tuple() function to display the latitude and longitude combinations.\n",
    "for coordinate in coordinates:\n",
    "    print(coordinate[0], coordinate[1])"
   ]
  },
  {
   "cell_type": "code",
   "execution_count": 16,
   "metadata": {},
   "outputs": [],
   "source": [
    "# Add the latitudes and longitudes to a list.\n",
    "coordinates = list(lat_lngs)"
   ]
  },
  {
   "cell_type": "code",
   "execution_count": 17,
   "metadata": {},
   "outputs": [],
   "source": [
    "import citipy\n",
    "from citipy import citipy"
   ]
  },
  {
   "cell_type": "code",
   "execution_count": 18,
   "metadata": {},
   "outputs": [
    {
     "data": {
      "text/plain": [
       "632"
      ]
     },
     "execution_count": 18,
     "metadata": {},
     "output_type": "execute_result"
    }
   ],
   "source": [
    "# Create a list for holding the cities.\n",
    "cities = []\n",
    "# Identify the nearest city for each latitude and longitude combination.\n",
    "for coordinate in coordinates:\n",
    "    city = citipy.nearest_city(coordinate[0], coordinate[1]).city_name\n",
    "    \n",
    "    # If the city is unique, then we will add it to the cities list.\n",
    "    if city not in cities:\n",
    "        cities.append(city)\n",
    "# Print the city count to confirm sufficient count.\n",
    "len(cities)"
   ]
  },
  {
   "cell_type": "code",
   "execution_count": 19,
   "metadata": {},
   "outputs": [
    {
     "data": {
      "text/plain": [
       "'2.23.0'"
      ]
     },
     "execution_count": 19,
     "metadata": {},
     "output_type": "execute_result"
    }
   ],
   "source": [
    "import requests\n",
    "requests.__version__"
   ]
  },
  {
   "cell_type": "code",
   "execution_count": 20,
   "metadata": {},
   "outputs": [],
   "source": [
    "# Import the requests library.\n",
    "import requests\n",
    "\n",
    "# Import the API key.\n",
    "from config import weather_api_key"
   ]
  },
  {
   "cell_type": "code",
   "execution_count": 21,
   "metadata": {},
   "outputs": [
    {
     "name": "stdout",
     "output_type": "stream",
     "text": [
      "http://api.openweathermap.org/data/2.5/weather?units=Imperial&APPID=6235ab836a483e7e2fa7008844d35986\n"
     ]
    }
   ],
   "source": [
    "#https://samples.openweathermap.org/data/2.5/weather?q=London,uk&appid=439d4b804bc8187953eb36d2a8c26a02\n",
    "\n",
    "# Starting URL for Weather Map API Call.\n",
    "url = \"http://api.openweathermap.org/data/2.5/weather?units=Imperial&APPID=\" + weather_api_key\n",
    "print(url)"
   ]
  },
  {
   "cell_type": "code",
   "execution_count": 22,
   "metadata": {},
   "outputs": [
    {
     "name": "stdout",
     "output_type": "stream",
     "text": [
      "http://api.openweathermap.org/data/2.5/weather?units=Imperial&APPID=6235ab836a483e7e2fa7008844d35986&q=Boston\n"
     ]
    }
   ],
   "source": [
    "# Create an endpoint URL for a city.\n",
    "city_url = url + \"&q=\" + \"Boston\"\n",
    "print(city_url)"
   ]
  },
  {
   "cell_type": "code",
   "execution_count": 23,
   "metadata": {},
   "outputs": [],
   "source": [
    "#weather_response = requests.get(city_url)\n",
    "#weather_json = weather_respons.json()"
   ]
  },
  {
   "cell_type": "code",
   "execution_count": 24,
   "metadata": {},
   "outputs": [
    {
     "data": {
      "text/plain": [
       "<Response [200]>"
      ]
     },
     "execution_count": 24,
     "metadata": {},
     "output_type": "execute_result"
    }
   ],
   "source": [
    "# Make a 'Get' request for the city weather.\n",
    "city_weather = requests.get(city_url)\n",
    "city_weather"
   ]
  },
  {
   "cell_type": "code",
   "execution_count": 25,
   "metadata": {},
   "outputs": [
    {
     "data": {
      "text/plain": [
       "<Response [200]>"
      ]
     },
     "execution_count": 25,
     "metadata": {},
     "output_type": "execute_result"
    }
   ],
   "source": [
    "# Create an endpoint URL for a city.\n",
    "city_url = url + \"&q=\" + \"Boston\"\n",
    "city_weather = requests.get(city_url)\n",
    "city_weather"
   ]
  },
  {
   "cell_type": "code",
   "execution_count": 26,
   "metadata": {},
   "outputs": [
    {
     "data": {
      "text/plain": [
       "'{\"coord\":{\"lon\":-71.06,\"lat\":42.36},\"weather\":[{\"id\":802,\"main\":\"Clouds\",\"description\":\"scattered clouds\",\"icon\":\"03n\"}],\"base\":\"stations\",\"main\":{\"temp\":39.78,\"feels_like\":24.6,\"temp_min\":37,\"temp_max\":43,\"pressure\":1018,\"humidity\":35},\"visibility\":16093,\"wind\":{\"speed\":17.22,\"deg\":290,\"gust\":25.28},\"clouds\":{\"all\":40},\"dt\":1587081725,\"sys\":{\"type\":1,\"id\":3486,\"country\":\"US\",\"sunrise\":1587031241,\"sunset\":1587079602},\"timezone\":-14400,\"id\":4930956,\"name\":\"Boston\",\"cod\":200}'"
      ]
     },
     "execution_count": 26,
     "metadata": {},
     "output_type": "execute_result"
    }
   ],
   "source": [
    "# Get the text of the 'Get' request.\n",
    "city_weather.text"
   ]
  },
  {
   "cell_type": "code",
   "execution_count": 27,
   "metadata": {},
   "outputs": [
    {
     "data": {
      "text/plain": [
       "{'coord': {'lon': -71.06, 'lat': 42.36},\n",
       " 'weather': [{'id': 802,\n",
       "   'main': 'Clouds',\n",
       "   'description': 'scattered clouds',\n",
       "   'icon': '03n'}],\n",
       " 'base': 'stations',\n",
       " 'main': {'temp': 39.78,\n",
       "  'feels_like': 24.6,\n",
       "  'temp_min': 37,\n",
       "  'temp_max': 43,\n",
       "  'pressure': 1018,\n",
       "  'humidity': 35},\n",
       " 'visibility': 16093,\n",
       " 'wind': {'speed': 17.22, 'deg': 290, 'gust': 25.28},\n",
       " 'clouds': {'all': 40},\n",
       " 'dt': 1587081725,\n",
       " 'sys': {'type': 1,\n",
       "  'id': 3486,\n",
       "  'country': 'US',\n",
       "  'sunrise': 1587031241,\n",
       "  'sunset': 1587079602},\n",
       " 'timezone': -14400,\n",
       " 'id': 4930956,\n",
       " 'name': 'Boston',\n",
       " 'cod': 200}"
      ]
     },
     "execution_count": 27,
     "metadata": {},
     "output_type": "execute_result"
    }
   ],
   "source": [
    "# Get the JSON text of the 'Get' request.\n",
    "city_weather.json()"
   ]
  },
  {
   "cell_type": "code",
   "execution_count": 28,
   "metadata": {},
   "outputs": [
    {
     "name": "stdout",
     "output_type": "stream",
     "text": [
      "City Weather found.\n"
     ]
    }
   ],
   "source": [
    "# Create an endpoint URL for a city.\n",
    "city_url = url + \"&q=\" + \"Boston\"\n",
    "city_weather = requests.get(city_url)\n",
    "if city_weather.status_code == 200:\n",
    "    print(f\"City Weather found.\")\n",
    "else:\n",
    "    print(f\"City weather not found.\")"
   ]
  },
  {
   "cell_type": "code",
   "execution_count": 29,
   "metadata": {},
   "outputs": [
    {
     "name": "stdout",
     "output_type": "stream",
     "text": [
      "City Weather found.\n"
     ]
    }
   ],
   "source": [
    "# Create an endpoint URL for a city.\n",
    "city_url = url + \"&q=\" + \"Bston\"\n",
    "city_weather = requests.get(city_url)\n",
    "if city_weather.json():\n",
    "    print(f\"City Weather found.\")\n",
    "else:\n",
    "    print(f\"City weather not found.\")"
   ]
  },
  {
   "cell_type": "code",
   "execution_count": 30,
   "metadata": {},
   "outputs": [
    {
     "name": "stdout",
     "output_type": "stream",
     "text": [
      "http://api.openweathermap.org/data/2.5/weather?units=Imperial&APPID=6235ab836a483e7e2fa7008844d35986&q=Bston\n"
     ]
    }
   ],
   "source": [
    "print(city_url)"
   ]
  },
  {
   "cell_type": "code",
   "execution_count": 31,
   "metadata": {},
   "outputs": [
    {
     "data": {
      "text/plain": [
       "{'coord': {'lon': -71.06, 'lat': 42.36},\n",
       " 'weather': [{'id': 802,\n",
       "   'main': 'Clouds',\n",
       "   'description': 'scattered clouds',\n",
       "   'icon': '03n'}],\n",
       " 'base': 'stations',\n",
       " 'main': {'temp': 39.78,\n",
       "  'feels_like': 24.6,\n",
       "  'temp_min': 37,\n",
       "  'temp_max': 43,\n",
       "  'pressure': 1018,\n",
       "  'humidity': 35},\n",
       " 'visibility': 16093,\n",
       " 'wind': {'speed': 17.22, 'deg': 290, 'gust': 25.28},\n",
       " 'clouds': {'all': 40},\n",
       " 'dt': 1587081725,\n",
       " 'sys': {'type': 1,\n",
       "  'id': 3486,\n",
       "  'country': 'US',\n",
       "  'sunrise': 1587031241,\n",
       "  'sunset': 1587079602},\n",
       " 'timezone': -14400,\n",
       " 'id': 4930956,\n",
       " 'name': 'Boston',\n",
       " 'cod': 200}"
      ]
     },
     "execution_count": 31,
     "metadata": {},
     "output_type": "execute_result"
    }
   ],
   "source": [
    "# Create an endpoint URL for a city.\n",
    "city_url = url + \"&q=\" + \"Boston\"\n",
    "city_weather = requests.get(city_url)\n",
    "city_weather.json()"
   ]
  },
  {
   "cell_type": "code",
   "execution_count": 32,
   "metadata": {},
   "outputs": [],
   "source": [
    "boston_data = city_weather.json()"
   ]
  },
  {
   "cell_type": "code",
   "execution_count": 33,
   "metadata": {},
   "outputs": [
    {
     "data": {
      "text/plain": [
       "{'coord': {'lon': -71.06, 'lat': 42.36},\n",
       " 'weather': [{'id': 802,\n",
       "   'main': 'Clouds',\n",
       "   'description': 'scattered clouds',\n",
       "   'icon': '03n'}],\n",
       " 'base': 'stations',\n",
       " 'main': {'temp': 39.78,\n",
       "  'feels_like': 24.6,\n",
       "  'temp_min': 37,\n",
       "  'temp_max': {'coord': {'lon': -71.06, 'lat': 42.36},\n",
       "   'weather': [{'id': 802,\n",
       "     'main': 'Clouds',\n",
       "     'description': 'scattered clouds',\n",
       "     'icon': '03n'}],\n",
       "   'base': 'stations',\n",
       "   'main': {'temp': 39.78,\n",
       "    'feels_like': 24.6,\n",
       "    'temp_min': 37,\n",
       "    'temp_max': 43,\n",
       "    'pressure': 1018,\n",
       "    'humidity': 35},\n",
       "   'visibility': 16093,\n",
       "   'wind': {'speed': 17.22, 'deg': 290, 'gust': 25.28},\n",
       "   'clouds': {'all': 40},\n",
       "   'dt': 1587081725,\n",
       "   'sys': {'type': 1,\n",
       "    'id': 3486,\n",
       "    'country': 'US',\n",
       "    'sunrise': 1587031241,\n",
       "    'sunset': 1587079602},\n",
       "   'timezone': -14400,\n",
       "   'id': 4930956,\n",
       "   'name': 'Boston',\n",
       "   'cod': 200},\n",
       "  'pressure': 1018,\n",
       "  'humidity': 35},\n",
       " 'visibility': 16093,\n",
       " 'wind': {'speed': 17.22, 'deg': 290, 'gust': 25.28},\n",
       " 'clouds': {'all': 40},\n",
       " 'dt': 1587081725,\n",
       " 'sys': {'type': 1,\n",
       "  'id': 3486,\n",
       "  'country': 'US',\n",
       "  'sunrise': 1587031241,\n",
       "  'sunset': 1587079602},\n",
       " 'timezone': -14400,\n",
       " 'id': 4930956,\n",
       " 'name': 'Boston',\n",
       " 'cod': 200}"
      ]
     },
     "execution_count": 33,
     "metadata": {},
     "output_type": "execute_result"
    }
   ],
   "source": [
    "# Get the JSON data.\n",
    "#boston_data['coord']['lat'] = city_weather.json()\n",
    "boston_data['main']['temp_max'] = city_weather.json()\n",
    "boston_data"
   ]
  },
  {
   "cell_type": "code",
   "execution_count": 34,
   "metadata": {},
   "outputs": [
    {
     "name": "stdout",
     "output_type": "stream",
     "text": [
      "42.36 -71.06 {'coord': {'lon': -71.06, 'lat': 42.36}, 'weather': [{'id': 802, 'main': 'Clouds', 'description': 'scattered clouds', 'icon': '03n'}], 'base': 'stations', 'main': {'temp': 39.78, 'feels_like': 24.6, 'temp_min': 37, 'temp_max': 43, 'pressure': 1018, 'humidity': 35}, 'visibility': 16093, 'wind': {'speed': 17.22, 'deg': 290, 'gust': 25.28}, 'clouds': {'all': 40}, 'dt': 1587081725, 'sys': {'type': 1, 'id': 3486, 'country': 'US', 'sunrise': 1587031241, 'sunset': 1587079602}, 'timezone': -14400, 'id': 4930956, 'name': 'Boston', 'cod': 200} 35 40 17.22\n"
     ]
    }
   ],
   "source": [
    "lat = boston_data[\"coord\"][\"lat\"]\n",
    "lng = boston_data[\"coord\"][\"lon\"]\n",
    "max_temp = boston_data[\"main\"][\"temp_max\"]\n",
    "humidity = boston_data[\"main\"][\"humidity\"]\n",
    "clouds = boston_data[\"clouds\"][\"all\"]\n",
    "wind = boston_data[\"wind\"][\"speed\"]\n",
    "print(lat, lng, max_temp, humidity, clouds, wind)"
   ]
  },
  {
   "cell_type": "code",
   "execution_count": 35,
   "metadata": {},
   "outputs": [
    {
     "data": {
      "text/plain": [
       "'2020-04-17 00:02:05'"
      ]
     },
     "execution_count": 35,
     "metadata": {},
     "output_type": "execute_result"
    }
   ],
   "source": [
    "# Import the datetime module from the datetime library.\n",
    "from datetime import datetime\n",
    "# Get the date from the JSON file.\n",
    "date = boston_data[\"dt\"]\n",
    "# Convert the UTC date to a date format with year, month, day, hours, minutes, and seconds.\n",
    "datetime.utcfromtimestamp(date).strftime('%Y-%m-%d %H:%M:%S')"
   ]
  },
  {
   "cell_type": "code",
   "execution_count": 36,
   "metadata": {},
   "outputs": [
    {
     "name": "stdout",
     "output_type": "stream",
     "text": [
      "Beginning Data Retrieval     \n",
      "-----------------------------\n"
     ]
    }
   ],
   "source": [
    "# Create an empty list to hold the weather data.\n",
    "city_data = []\n",
    "# Print the beginning of the logging.\n",
    "print(\"Beginning Data Retrieval     \")\n",
    "print(\"-----------------------------\")\n",
    "\n",
    "# Create counters.\n",
    "record_count = 1\n",
    "set_count = 1"
   ]
  },
  {
   "cell_type": "code",
   "execution_count": 37,
   "metadata": {},
   "outputs": [
    {
     "name": "stdout",
     "output_type": "stream",
     "text": [
      "Processing Record 1 of Set 1 | busselton\n",
      "Processing Record 2 of Set 1 | provideniya\n",
      "Processing Record 3 of Set 1 | hobart\n",
      "Processing Record 4 of Set 1 | saleaula\n",
      "City not found. Skipping...\n",
      "Processing Record 5 of Set 1 | lebu\n",
      "Processing Record 6 of Set 1 | mataura\n",
      "Processing Record 7 of Set 1 | victoria\n",
      "Processing Record 8 of Set 1 | lodja\n",
      "Processing Record 9 of Set 1 | djambala\n",
      "Processing Record 10 of Set 1 | saint-joseph\n",
      "Processing Record 11 of Set 1 | georgetown\n",
      "Processing Record 12 of Set 1 | upernavik\n",
      "Processing Record 13 of Set 1 | avarua\n",
      "Processing Record 14 of Set 1 | cherskiy\n",
      "Processing Record 15 of Set 1 | nizhneyansk\n",
      "City not found. Skipping...\n",
      "Processing Record 16 of Set 1 | thompson\n",
      "Processing Record 17 of Set 1 | alakurtti\n",
      "Processing Record 18 of Set 1 | batemans bay\n",
      "Processing Record 19 of Set 1 | xinqing\n",
      "Processing Record 20 of Set 1 | inongo\n",
      "Processing Record 21 of Set 1 | la quinta\n",
      "Processing Record 22 of Set 1 | punta gorda\n",
      "Processing Record 23 of Set 1 | rawlins\n",
      "Processing Record 24 of Set 1 | oranjemund\n",
      "Processing Record 25 of Set 1 | rio gallegos\n",
      "Processing Record 26 of Set 1 | vuktyl\n",
      "Processing Record 27 of Set 1 | tsihombe\n",
      "City not found. Skipping...\n",
      "Processing Record 28 of Set 1 | black river\n",
      "Processing Record 29 of Set 1 | albany\n",
      "Processing Record 30 of Set 1 | carnarvon\n",
      "Processing Record 31 of Set 1 | vao\n",
      "Processing Record 32 of Set 1 | illoqqortoormiut\n",
      "City not found. Skipping...\n",
      "Processing Record 33 of Set 1 | yellowknife\n",
      "Processing Record 34 of Set 1 | rikitea\n",
      "Processing Record 35 of Set 1 | ambon\n",
      "Processing Record 36 of Set 1 | maceio\n",
      "Processing Record 37 of Set 1 | vila velha\n",
      "Processing Record 38 of Set 1 | kapaa\n",
      "Processing Record 39 of Set 1 | tuktoyaktuk\n",
      "Processing Record 40 of Set 1 | kuching\n",
      "Processing Record 41 of Set 1 | beyneu\n",
      "Processing Record 42 of Set 1 | kodiak\n",
      "Processing Record 43 of Set 1 | hobyo\n",
      "Processing Record 44 of Set 1 | klaksvik\n",
      "Processing Record 45 of Set 1 | kununurra\n",
      "Processing Record 46 of Set 1 | barrow\n",
      "Processing Record 47 of Set 1 | chapais\n",
      "Processing Record 48 of Set 1 | ribeira grande\n",
      "Processing Record 49 of Set 1 | clyde river\n",
      "Processing Record 50 of Set 1 | cochrane\n",
      "Processing Record 1 of Set 2 | tatawin\n",
      "Processing Record 2 of Set 2 | lebanon\n",
      "Processing Record 3 of Set 2 | mackay\n",
      "Processing Record 4 of Set 2 | krasnyy oktyabr\n",
      "Processing Record 5 of Set 2 | ushuaia\n",
      "Processing Record 6 of Set 2 | mapimi\n",
      "Processing Record 7 of Set 2 | finschhafen\n",
      "Processing Record 8 of Set 2 | husavik\n",
      "Processing Record 9 of Set 2 | berlevag\n",
      "Processing Record 10 of Set 2 | sibu\n",
      "Processing Record 11 of Set 2 | khatanga\n",
      "Processing Record 12 of Set 2 | eureka\n",
      "Processing Record 13 of Set 2 | dikson\n",
      "Processing Record 14 of Set 2 | sao joao da barra\n",
      "Processing Record 15 of Set 2 | hamilton\n",
      "Processing Record 16 of Set 2 | nikolskoye\n",
      "Processing Record 17 of Set 2 | mnogovershinnyy\n",
      "Processing Record 18 of Set 2 | lubao\n",
      "Processing Record 19 of Set 2 | bredasdorp\n",
      "Processing Record 20 of Set 2 | baruun-urt\n",
      "Processing Record 21 of Set 2 | guerrero negro\n",
      "Processing Record 22 of Set 2 | pangnirtung\n",
      "Processing Record 23 of Set 2 | chokurdakh\n",
      "Processing Record 24 of Set 2 | kadykchan\n",
      "City not found. Skipping...\n",
      "Processing Record 25 of Set 2 | mahebourg\n",
      "Processing Record 26 of Set 2 | luanda\n",
      "Processing Record 27 of Set 2 | puerto ayora\n",
      "Processing Record 28 of Set 2 | atuona\n",
      "Processing Record 29 of Set 2 | kaitangata\n",
      "Processing Record 30 of Set 2 | yulara\n",
      "Processing Record 31 of Set 2 | cape town\n",
      "Processing Record 32 of Set 2 | vila franca do campo\n",
      "Processing Record 33 of Set 2 | vaini\n",
      "Processing Record 34 of Set 2 | hailar\n",
      "Processing Record 35 of Set 2 | karlstad\n",
      "Processing Record 36 of Set 2 | balaguer\n",
      "Processing Record 37 of Set 2 | taolanaro\n",
      "City not found. Skipping...\n",
      "Processing Record 38 of Set 2 | arraial do cabo\n",
      "Processing Record 39 of Set 2 | listvyanka\n",
      "Processing Record 40 of Set 2 | sakakah\n",
      "Processing Record 41 of Set 2 | fairview\n",
      "Processing Record 42 of Set 2 | east london\n",
      "Processing Record 43 of Set 2 | baracoa\n",
      "Processing Record 44 of Set 2 | tunceli\n",
      "Processing Record 45 of Set 2 | bluff\n",
      "Processing Record 46 of Set 2 | fort-shevchenko\n",
      "Processing Record 47 of Set 2 | whitefish\n",
      "Processing Record 48 of Set 2 | tuatapere\n",
      "Processing Record 49 of Set 2 | neuquen\n",
      "Processing Record 50 of Set 2 | rawson\n",
      "Processing Record 1 of Set 3 | sabha\n",
      "Processing Record 2 of Set 3 | afgoye\n",
      "City not found. Skipping...\n",
      "Processing Record 3 of Set 3 | nagod\n",
      "Processing Record 4 of Set 3 | santa maria\n",
      "Processing Record 5 of Set 3 | coahuayana\n",
      "Processing Record 6 of Set 3 | sept-iles\n",
      "Processing Record 7 of Set 3 | bahia blanca\n",
      "Processing Record 8 of Set 3 | punta arenas\n",
      "Processing Record 9 of Set 3 | bonavista\n",
      "Processing Record 10 of Set 3 | ostersund\n",
      "Processing Record 11 of Set 3 | cayenne\n",
      "Processing Record 12 of Set 3 | palmas\n",
      "Processing Record 13 of Set 3 | tiksi\n",
      "Processing Record 14 of Set 3 | butaritari\n",
      "Processing Record 15 of Set 3 | calamar\n",
      "Processing Record 16 of Set 3 | aflu\n",
      "City not found. Skipping...\n",
      "Processing Record 17 of Set 3 | chuy\n",
      "Processing Record 18 of Set 3 | marathopolis\n",
      "City not found. Skipping...\n",
      "Processing Record 19 of Set 3 | gat\n",
      "Processing Record 20 of Set 3 | port alfred\n",
      "Processing Record 21 of Set 3 | fairbanks\n",
      "Processing Record 22 of Set 3 | sukhobezvodnoye\n",
      "Processing Record 23 of Set 3 | kruisfontein\n",
      "Processing Record 24 of Set 3 | seoul\n",
      "Processing Record 25 of Set 3 | talaya\n",
      "Processing Record 26 of Set 3 | saint-augustin\n",
      "Processing Record 27 of Set 3 | bambous virieux\n",
      "Processing Record 28 of Set 3 | abu samrah\n",
      "Processing Record 29 of Set 3 | pevek\n",
      "Processing Record 30 of Set 3 | kysyl-syr\n",
      "Processing Record 31 of Set 3 | bojnurd\n",
      "Processing Record 32 of Set 3 | port elizabeth\n",
      "Processing Record 33 of Set 3 | longyearbyen\n",
      "Processing Record 34 of Set 3 | saint-louis\n",
      "Processing Record 35 of Set 3 | jianhu\n",
      "Processing Record 36 of Set 3 | erzin\n",
      "Processing Record 37 of Set 3 | leh\n",
      "Processing Record 38 of Set 3 | merauke\n",
      "Processing Record 39 of Set 3 | port augusta\n",
      "Processing Record 40 of Set 3 | kahului\n",
      "Processing Record 41 of Set 3 | qaanaaq\n",
      "Processing Record 42 of Set 3 | lorengau\n",
      "Processing Record 43 of Set 3 | tilichiki\n",
      "Processing Record 44 of Set 3 | bucerias\n",
      "Processing Record 45 of Set 3 | hithadhoo\n",
      "Processing Record 46 of Set 3 | villa carlos paz\n",
      "Processing Record 47 of Set 3 | tromso\n",
      "Processing Record 48 of Set 3 | new norfolk\n",
      "Processing Record 49 of Set 3 | olga\n",
      "Processing Record 50 of Set 3 | porbandar\n",
      "Processing Record 1 of Set 4 | ambulu\n",
      "Processing Record 2 of Set 4 | lompoc\n",
      "Processing Record 3 of Set 4 | achisay\n",
      "City not found. Skipping...\n",
      "Processing Record 4 of Set 4 | jamestown\n",
      "Processing Record 5 of Set 4 | severo-kurilsk\n",
      "Processing Record 6 of Set 4 | yeppoon\n",
      "Processing Record 7 of Set 4 | ahipara\n",
      "Processing Record 8 of Set 4 | khani\n",
      "Processing Record 9 of Set 4 | urdoma\n",
      "Processing Record 10 of Set 4 | hermanus\n",
      "Processing Record 11 of Set 4 | hilo\n",
      "Processing Record 12 of Set 4 | attawapiskat\n",
      "City not found. Skipping...\n",
      "Processing Record 13 of Set 4 | sisimiut\n",
      "Processing Record 14 of Set 4 | bonthe\n",
      "Processing Record 15 of Set 4 | damaturu\n",
      "Processing Record 16 of Set 4 | palmer\n",
      "Processing Record 17 of Set 4 | samusu\n",
      "City not found. Skipping...\n",
      "Processing Record 18 of Set 4 | gimli\n",
      "Processing Record 19 of Set 4 | amsterdam\n",
      "Processing Record 20 of Set 4 | geraldton\n",
      "Processing Record 21 of Set 4 | vurnary\n",
      "Processing Record 22 of Set 4 | ulverstone\n",
      "Processing Record 23 of Set 4 | balimo\n",
      "City not found. Skipping...\n",
      "Processing Record 24 of Set 4 | lagoa\n",
      "Processing Record 25 of Set 4 | tasiilaq\n",
      "Processing Record 26 of Set 4 | gaogou\n",
      "Processing Record 27 of Set 4 | pelym\n",
      "Processing Record 28 of Set 4 | sao filipe\n",
      "Processing Record 29 of Set 4 | airai\n",
      "Processing Record 30 of Set 4 | hasaki\n",
      "Processing Record 31 of Set 4 | avera\n",
      "Processing Record 32 of Set 4 | belushya guba\n",
      "City not found. Skipping...\n",
      "Processing Record 33 of Set 4 | la asuncion\n",
      "Processing Record 34 of Set 4 | fortuna\n",
      "Processing Record 35 of Set 4 | leningradskiy\n",
      "Processing Record 36 of Set 4 | bonaventure\n",
      "Processing Record 37 of Set 4 | acapulco\n",
      "Processing Record 38 of Set 4 | ibanda\n",
      "Processing Record 39 of Set 4 | adrar\n",
      "Processing Record 40 of Set 4 | sibenik\n"
     ]
    },
    {
     "name": "stdout",
     "output_type": "stream",
     "text": [
      "Processing Record 41 of Set 4 | kuala selangor\n",
      "Processing Record 42 of Set 4 | shuangyang\n",
      "Processing Record 43 of Set 4 | ust-omchug\n",
      "Processing Record 44 of Set 4 | koslan\n",
      "Processing Record 45 of Set 4 | bethel\n",
      "Processing Record 46 of Set 4 | faanui\n",
      "Processing Record 47 of Set 4 | wuning\n",
      "Processing Record 48 of Set 4 | egvekinot\n",
      "Processing Record 49 of Set 4 | umzimvubu\n",
      "City not found. Skipping...\n",
      "Processing Record 50 of Set 4 | usinsk\n",
      "Processing Record 1 of Set 5 | mar del plata\n",
      "Processing Record 2 of Set 5 | mecca\n",
      "Processing Record 3 of Set 5 | oksbol\n",
      "Processing Record 4 of Set 5 | marsh harbour\n",
      "Processing Record 5 of Set 5 | sur\n",
      "Processing Record 6 of Set 5 | cabedelo\n",
      "Processing Record 7 of Set 5 | escarcega\n",
      "Processing Record 8 of Set 5 | utiroa\n",
      "City not found. Skipping...\n",
      "Processing Record 9 of Set 5 | anadyr\n",
      "Processing Record 10 of Set 5 | sao raimundo nonato\n",
      "Processing Record 11 of Set 5 | karaul\n",
      "City not found. Skipping...\n",
      "Processing Record 12 of Set 5 | esperance\n",
      "Processing Record 13 of Set 5 | rawannawi\n",
      "City not found. Skipping...\n",
      "Processing Record 14 of Set 5 | amderma\n",
      "City not found. Skipping...\n",
      "Processing Record 15 of Set 5 | starosubkhangulovo\n",
      "Processing Record 16 of Set 5 | zhigansk\n",
      "Processing Record 17 of Set 5 | tabulbah\n",
      "City not found. Skipping...\n",
      "Processing Record 18 of Set 5 | ancud\n",
      "Processing Record 19 of Set 5 | teahupoo\n",
      "Processing Record 20 of Set 5 | cidreira\n",
      "Processing Record 21 of Set 5 | borogontsy\n",
      "Processing Record 22 of Set 5 | souillac\n",
      "Processing Record 23 of Set 5 | katsuura\n",
      "Processing Record 24 of Set 5 | churapcha\n",
      "Processing Record 25 of Set 5 | grand gaube\n",
      "Processing Record 26 of Set 5 | dongsheng\n",
      "Processing Record 27 of Set 5 | halalo\n",
      "City not found. Skipping...\n",
      "Processing Record 28 of Set 5 | touros\n",
      "Processing Record 29 of Set 5 | arlit\n",
      "Processing Record 30 of Set 5 | narsaq\n",
      "Processing Record 31 of Set 5 | marzuq\n",
      "Processing Record 32 of Set 5 | hihifo\n",
      "City not found. Skipping...\n",
      "Processing Record 33 of Set 5 | erenhot\n",
      "Processing Record 34 of Set 5 | loikaw\n",
      "Processing Record 35 of Set 5 | lihula\n",
      "Processing Record 36 of Set 5 | mys shmidta\n",
      "City not found. Skipping...\n",
      "Processing Record 37 of Set 5 | zyryanka\n",
      "Processing Record 38 of Set 5 | saint-pierre\n",
      "Processing Record 39 of Set 5 | armidale\n",
      "Processing Record 40 of Set 5 | lewistown\n",
      "Processing Record 41 of Set 5 | naron\n",
      "Processing Record 42 of Set 5 | macia\n",
      "Processing Record 43 of Set 5 | ca mau\n",
      "Processing Record 44 of Set 5 | soyo\n",
      "Processing Record 45 of Set 5 | wewak\n",
      "Processing Record 46 of Set 5 | belle fourche\n",
      "Processing Record 47 of Set 5 | saint george\n",
      "Processing Record 48 of Set 5 | dicabisagan\n",
      "Processing Record 49 of Set 5 | nabire\n",
      "Processing Record 50 of Set 5 | mumford\n",
      "Processing Record 1 of Set 6 | te anau\n",
      "Processing Record 2 of Set 6 | alcudia\n",
      "Processing Record 3 of Set 6 | carora\n",
      "Processing Record 4 of Set 6 | jiddah\n",
      "City not found. Skipping...\n",
      "Processing Record 5 of Set 6 | verkhnyaya toyma\n",
      "Processing Record 6 of Set 6 | nalut\n",
      "Processing Record 7 of Set 6 | agadir\n",
      "Processing Record 8 of Set 6 | sioux lookout\n",
      "Processing Record 9 of Set 6 | tumannyy\n",
      "City not found. Skipping...\n",
      "Processing Record 10 of Set 6 | lima\n",
      "Processing Record 11 of Set 6 | awbari\n",
      "Processing Record 12 of Set 6 | margate\n",
      "Processing Record 13 of Set 6 | bargal\n",
      "City not found. Skipping...\n",
      "Processing Record 14 of Set 6 | tezu\n",
      "Processing Record 15 of Set 6 | yumen\n",
      "Processing Record 16 of Set 6 | norman wells\n",
      "Processing Record 17 of Set 6 | tabiauea\n",
      "City not found. Skipping...\n",
      "Processing Record 18 of Set 6 | castro\n",
      "Processing Record 19 of Set 6 | kurchum\n",
      "Processing Record 20 of Set 6 | coroata\n",
      "Processing Record 21 of Set 6 | bangarapet\n",
      "Processing Record 22 of Set 6 | kavaratti\n",
      "Processing Record 23 of Set 6 | kyra\n",
      "Processing Record 24 of Set 6 | ruatoria\n",
      "City not found. Skipping...\n",
      "Processing Record 25 of Set 6 | ostrovnoy\n",
      "Processing Record 26 of Set 6 | barentsburg\n",
      "City not found. Skipping...\n",
      "Processing Record 27 of Set 6 | barnaul\n",
      "Processing Record 28 of Set 6 | dodge city\n",
      "Processing Record 29 of Set 6 | noumea\n",
      "Processing Record 30 of Set 6 | kisanga\n",
      "Processing Record 31 of Set 6 | windhoek\n",
      "Processing Record 32 of Set 6 | wadi maliz\n",
      "Processing Record 33 of Set 6 | sola\n",
      "Processing Record 34 of Set 6 | sovetskiy\n",
      "Processing Record 35 of Set 6 | villa oliva\n",
      "City not found. Skipping...\n",
      "Processing Record 36 of Set 6 | necochea\n",
      "Processing Record 37 of Set 6 | rypefjord\n",
      "Processing Record 38 of Set 6 | sentyabrskiy\n",
      "City not found. Skipping...\n",
      "Processing Record 39 of Set 6 | crab hill\n",
      "City not found. Skipping...\n",
      "Processing Record 40 of Set 6 | coquimbo\n",
      "Processing Record 41 of Set 6 | morant bay\n",
      "Processing Record 42 of Set 6 | hovd\n",
      "Processing Record 43 of Set 6 | mandla\n",
      "Processing Record 44 of Set 6 | itoman\n",
      "Processing Record 45 of Set 6 | klin\n",
      "Processing Record 46 of Set 6 | sobolevo\n",
      "Processing Record 47 of Set 6 | auki\n",
      "Processing Record 48 of Set 6 | beaupre\n",
      "Processing Record 49 of Set 6 | ballina\n",
      "Processing Record 50 of Set 6 | warrenton\n",
      "Processing Record 1 of Set 7 | rosita\n",
      "Processing Record 2 of Set 7 | richmond\n",
      "Processing Record 3 of Set 7 | ullapool\n",
      "Processing Record 4 of Set 7 | praia da vitoria\n",
      "Processing Record 5 of Set 7 | cheney\n",
      "Processing Record 6 of Set 7 | andenes\n",
      "Processing Record 7 of Set 7 | payakumbuh\n",
      "Processing Record 8 of Set 7 | san carlos de bariloche\n",
      "Processing Record 9 of Set 7 | san gabriel\n",
      "Processing Record 10 of Set 7 | ilulissat\n",
      "Processing Record 11 of Set 7 | hirado\n",
      "Processing Record 12 of Set 7 | corinto\n",
      "Processing Record 13 of Set 7 | inhambane\n",
      "Processing Record 14 of Set 7 | hantsport\n",
      "Processing Record 15 of Set 7 | port macquarie\n",
      "Processing Record 16 of Set 7 | aktau\n",
      "Processing Record 17 of Set 7 | bengkulu\n",
      "Processing Record 18 of Set 7 | mogadishu\n",
      "Processing Record 19 of Set 7 | grand-santi\n",
      "Processing Record 20 of Set 7 | gondanglegi\n",
      "Processing Record 21 of Set 7 | bilma\n",
      "Processing Record 22 of Set 7 | valdivia\n",
      "Processing Record 23 of Set 7 | cabo san lucas\n",
      "Processing Record 24 of Set 7 | kavieng\n",
      "Processing Record 25 of Set 7 | nantucket\n",
      "Processing Record 26 of Set 7 | nanortalik\n",
      "Processing Record 27 of Set 7 | puerto escondido\n",
      "Processing Record 28 of Set 7 | mantiquil\n",
      "Processing Record 29 of Set 7 | caohai\n",
      "Processing Record 30 of Set 7 | alugan\n",
      "Processing Record 31 of Set 7 | ajdabiya\n",
      "Processing Record 32 of Set 7 | imbituba\n",
      "Processing Record 33 of Set 7 | walvis bay\n",
      "Processing Record 34 of Set 7 | ijaki\n",
      "City not found. Skipping...\n",
      "Processing Record 35 of Set 7 | dzerzhinskoye\n",
      "Processing Record 36 of Set 7 | tiptur\n",
      "Processing Record 37 of Set 7 | ombessa\n",
      "Processing Record 38 of Set 7 | huarmey\n",
      "Processing Record 39 of Set 7 | mbini\n",
      "Processing Record 40 of Set 7 | santa cruz\n",
      "Processing Record 41 of Set 7 | torbay\n",
      "Processing Record 42 of Set 7 | vaitupu\n",
      "City not found. Skipping...\n",
      "Processing Record 43 of Set 7 | warqla\n",
      "City not found. Skipping...\n",
      "Processing Record 44 of Set 7 | sistranda\n",
      "Processing Record 45 of Set 7 | srednekolymsk\n",
      "Processing Record 46 of Set 7 | lubango\n",
      "Processing Record 47 of Set 7 | padang\n",
      "Processing Record 48 of Set 7 | namibe\n",
      "Processing Record 49 of Set 7 | sahrak\n",
      "City not found. Skipping...\n",
      "Processing Record 50 of Set 7 | los llanos de aridane\n",
      "Processing Record 1 of Set 8 | whitehorse\n",
      "Processing Record 2 of Set 8 | atambua\n",
      "Processing Record 3 of Set 8 | mauswagon\n",
      "City not found. Skipping...\n",
      "Processing Record 4 of Set 8 | kutum\n",
      "Processing Record 5 of Set 8 | garmsar\n",
      "Processing Record 6 of Set 8 | hay river\n",
      "Processing Record 7 of Set 8 | talnakh\n",
      "Processing Record 8 of Set 8 | iqaluit\n",
      "Processing Record 9 of Set 8 | beringovskiy\n",
      "Processing Record 10 of Set 8 | saldanha\n",
      "Processing Record 11 of Set 8 | komsomolskiy\n",
      "Processing Record 12 of Set 8 | kamenskoye\n",
      "City not found. Skipping...\n",
      "Processing Record 13 of Set 8 | homer\n",
      "Processing Record 14 of Set 8 | nuuk\n",
      "Processing Record 15 of Set 8 | port hardy\n",
      "Processing Record 16 of Set 8 | paita\n",
      "Processing Record 17 of Set 8 | porto walter\n",
      "Processing Record 18 of Set 8 | kanchanaburi\n",
      "Processing Record 19 of Set 8 | bonfim\n",
      "Processing Record 20 of Set 8 | caravelas\n",
      "Processing Record 21 of Set 8 | isangel\n",
      "Processing Record 22 of Set 8 | saint-philippe\n",
      "Processing Record 23 of Set 8 | saskylakh\n",
      "Processing Record 24 of Set 8 | abu zabad\n"
     ]
    },
    {
     "name": "stdout",
     "output_type": "stream",
     "text": [
      "Processing Record 25 of Set 8 | rognan\n",
      "Processing Record 26 of Set 8 | codrington\n",
      "Processing Record 27 of Set 8 | bara\n",
      "Processing Record 28 of Set 8 | lufilufi\n",
      "Processing Record 29 of Set 8 | carnot\n",
      "Processing Record 30 of Set 8 | nelson bay\n",
      "Processing Record 31 of Set 8 | yar-sale\n",
      "Processing Record 32 of Set 8 | jumla\n",
      "Processing Record 33 of Set 8 | carutapera\n",
      "Processing Record 34 of Set 8 | pinega\n",
      "Processing Record 35 of Set 8 | palabuhanratu\n",
      "City not found. Skipping...\n",
      "Processing Record 36 of Set 8 | palm coast\n",
      "Processing Record 37 of Set 8 | dudinka\n",
      "Processing Record 38 of Set 8 | bitung\n",
      "Processing Record 39 of Set 8 | danjiangkou\n",
      "Processing Record 40 of Set 8 | prince rupert\n",
      "Processing Record 41 of Set 8 | karratha\n",
      "Processing Record 42 of Set 8 | bajil\n",
      "Processing Record 43 of Set 8 | mitsamiouli\n",
      "Processing Record 44 of Set 8 | grand river south east\n",
      "City not found. Skipping...\n",
      "Processing Record 45 of Set 8 | awjilah\n",
      "Processing Record 46 of Set 8 | wuchi\n",
      "Processing Record 47 of Set 8 | dasoguz\n",
      "Processing Record 48 of Set 8 | socorro\n",
      "Processing Record 49 of Set 8 | itarema\n",
      "Processing Record 50 of Set 8 | hambantota\n",
      "Processing Record 1 of Set 9 | port hedland\n",
      "Processing Record 2 of Set 9 | hofn\n",
      "Processing Record 3 of Set 9 | rancho palos verdes\n",
      "Processing Record 4 of Set 9 | itaituba\n",
      "Processing Record 5 of Set 9 | anloga\n",
      "Processing Record 6 of Set 9 | port hueneme\n",
      "Processing Record 7 of Set 9 | opuwo\n",
      "Processing Record 8 of Set 9 | kaoma\n",
      "Processing Record 9 of Set 9 | xam nua\n",
      "Processing Record 10 of Set 9 | vitim\n",
      "Processing Record 11 of Set 9 | show low\n",
      "Processing Record 12 of Set 9 | ucluelet\n",
      "Processing Record 13 of Set 9 | svetlogorsk\n",
      "Processing Record 14 of Set 9 | waddan\n",
      "Processing Record 15 of Set 9 | mudyuga\n",
      "City not found. Skipping...\n",
      "Processing Record 16 of Set 9 | santa cruz cabralia\n",
      "Processing Record 17 of Set 9 | guanica\n",
      "Processing Record 18 of Set 9 | porosozero\n",
      "Processing Record 19 of Set 9 | burnie\n",
      "Processing Record 20 of Set 9 | sambava\n",
      "Processing Record 21 of Set 9 | krutikha\n",
      "Processing Record 22 of Set 9 | waingapu\n",
      "Processing Record 23 of Set 9 | sawakin\n",
      "Processing Record 24 of Set 9 | salalah\n",
      "Processing Record 25 of Set 9 | port victoria\n",
      "Processing Record 26 of Set 9 | buncrana\n",
      "Processing Record 27 of Set 9 | csanytelek\n",
      "Processing Record 28 of Set 9 | san patricio\n",
      "Processing Record 29 of Set 9 | laguna\n",
      "Processing Record 30 of Set 9 | gibara\n",
      "Processing Record 31 of Set 9 | tanjong malim\n",
      "City not found. Skipping...\n",
      "Processing Record 32 of Set 9 | comodoro rivadavia\n",
      "Processing Record 33 of Set 9 | hualmay\n",
      "Processing Record 34 of Set 9 | niquelandia\n",
      "Processing Record 35 of Set 9 | kawana waters\n",
      "City not found. Skipping...\n",
      "Processing Record 36 of Set 9 | kaduqli\n",
      "Processing Record 37 of Set 9 | ponta do sol\n",
      "Processing Record 38 of Set 9 | pachino\n",
      "Processing Record 39 of Set 9 | tigil\n",
      "Processing Record 40 of Set 9 | tefe\n",
      "Processing Record 41 of Set 9 | yenagoa\n",
      "Processing Record 42 of Set 9 | estelle\n",
      "Processing Record 43 of Set 9 | santa isabel\n",
      "Processing Record 44 of Set 9 | cumaribo\n",
      "City not found. Skipping...\n",
      "Processing Record 45 of Set 9 | kourou\n",
      "Processing Record 46 of Set 9 | charyshskoye\n",
      "Processing Record 47 of Set 9 | tadine\n",
      "Processing Record 48 of Set 9 | warmbad\n",
      "Processing Record 49 of Set 9 | aklavik\n",
      "Processing Record 50 of Set 9 | pimentel\n",
      "Processing Record 1 of Set 10 | kingaroy\n",
      "Processing Record 2 of Set 10 | nouakchott\n",
      "Processing Record 3 of Set 10 | meulaboh\n",
      "Processing Record 4 of Set 10 | qui nhon\n",
      "Processing Record 5 of Set 10 | flin flon\n",
      "Processing Record 6 of Set 10 | qasigiannguit\n",
      "Processing Record 7 of Set 10 | quang ngai\n",
      "Processing Record 8 of Set 10 | cazaje\n",
      "City not found. Skipping...\n",
      "Processing Record 9 of Set 10 | dekoa\n",
      "City not found. Skipping...\n",
      "Processing Record 10 of Set 10 | cruzeiro do sul\n",
      "Processing Record 11 of Set 10 | bunumbu\n",
      "Processing Record 12 of Set 10 | san cristobal\n",
      "Processing Record 13 of Set 10 | fulitun\n",
      "City not found. Skipping...\n",
      "Processing Record 14 of Set 10 | hami\n",
      "Processing Record 15 of Set 10 | pacific grove\n",
      "Processing Record 16 of Set 10 | donghai\n",
      "Processing Record 17 of Set 10 | vaitape\n",
      "Processing Record 18 of Set 10 | aasiaat\n",
      "Processing Record 19 of Set 10 | berkakit\n",
      "Processing Record 20 of Set 10 | tura\n",
      "Processing Record 21 of Set 10 | george\n",
      "Processing Record 22 of Set 10 | luderitz\n",
      "Processing Record 23 of Set 10 | seremban\n",
      "Processing Record 24 of Set 10 | aykhal\n",
      "Processing Record 25 of Set 10 | upala\n",
      "Processing Record 26 of Set 10 | beloha\n",
      "Processing Record 27 of Set 10 | broken hill\n",
      "Processing Record 28 of Set 10 | tazovskiy\n",
      "Processing Record 29 of Set 10 | tautira\n",
      "Processing Record 30 of Set 10 | montbrison\n",
      "Processing Record 31 of Set 10 | pisco\n",
      "Processing Record 32 of Set 10 | bosaso\n",
      "Processing Record 33 of Set 10 | koshurnikovo\n",
      "Processing Record 34 of Set 10 | broome\n",
      "Processing Record 35 of Set 10 | alta floresta\n",
      "Processing Record 36 of Set 10 | shiraz\n",
      "Processing Record 37 of Set 10 | kenai\n",
      "Processing Record 38 of Set 10 | quatre cocos\n",
      "Processing Record 39 of Set 10 | brae\n",
      "Processing Record 40 of Set 10 | bathsheba\n",
      "Processing Record 41 of Set 10 | meyungs\n",
      "City not found. Skipping...\n",
      "Processing Record 42 of Set 10 | havoysund\n",
      "Processing Record 43 of Set 10 | solovetskiy\n",
      "City not found. Skipping...\n",
      "Processing Record 44 of Set 10 | shenjiamen\n",
      "Processing Record 45 of Set 10 | phalombe\n",
      "Processing Record 46 of Set 10 | kaeo\n",
      "Processing Record 47 of Set 10 | olafsvik\n",
      "Processing Record 48 of Set 10 | grindavik\n",
      "Processing Record 49 of Set 10 | dunedin\n",
      "Processing Record 50 of Set 10 | hauterive\n",
      "Processing Record 1 of Set 11 | nova granada\n",
      "Processing Record 2 of Set 11 | constitucion\n",
      "Processing Record 3 of Set 11 | khasan\n",
      "Processing Record 4 of Set 11 | lolua\n",
      "City not found. Skipping...\n",
      "Processing Record 5 of Set 11 | filadelfia\n",
      "Processing Record 6 of Set 11 | moose factory\n",
      "Processing Record 7 of Set 11 | warangal\n",
      "Processing Record 8 of Set 11 | zabol\n",
      "Processing Record 9 of Set 11 | puerto del rosario\n",
      "Processing Record 10 of Set 11 | sinnamary\n",
      "Processing Record 11 of Set 11 | araripina\n",
      "Processing Record 12 of Set 11 | buraydah\n",
      "Processing Record 13 of Set 11 | pingliang\n",
      "Processing Record 14 of Set 11 | raudeberg\n",
      "Processing Record 15 of Set 11 | tongliao\n",
      "Processing Record 16 of Set 11 | kupang\n",
      "Processing Record 17 of Set 11 | vanavara\n",
      "Processing Record 18 of Set 11 | canyon lake\n",
      "Processing Record 19 of Set 11 | dingle\n",
      "Processing Record 20 of Set 11 | jaguey grande\n",
      "Processing Record 21 of Set 11 | rungata\n",
      "City not found. Skipping...\n",
      "Processing Record 22 of Set 11 | kamenka\n",
      "Processing Record 23 of Set 11 | abatskoye\n",
      "Processing Record 24 of Set 11 | jining\n",
      "Processing Record 25 of Set 11 | kasongo-lunda\n",
      "Processing Record 26 of Set 11 | hurricane\n",
      "Processing Record 27 of Set 11 | la ronge\n",
      "Processing Record 28 of Set 11 | logansport\n",
      "Processing Record 29 of Set 11 | banyo\n",
      "Processing Record 30 of Set 11 | vyazemskiy\n",
      "Processing Record 31 of Set 11 | santa vitoria do palmar\n",
      "Processing Record 32 of Set 11 | emerald\n",
      "Processing Record 33 of Set 11 | hagi\n",
      "Processing Record 34 of Set 11 | pucallpa\n",
      "Processing Record 35 of Set 11 | newport news\n",
      "Processing Record 36 of Set 11 | pakxan\n",
      "Processing Record 37 of Set 11 | omboue\n",
      "Processing Record 38 of Set 11 | almenevo\n",
      "City not found. Skipping...\n",
      "Processing Record 39 of Set 11 | coihaique\n",
      "Processing Record 40 of Set 11 | matara\n",
      "Processing Record 41 of Set 11 | pasighat\n",
      "Processing Record 42 of Set 11 | cairns\n",
      "Processing Record 43 of Set 11 | bogashevo\n",
      "Processing Record 44 of Set 11 | vardo\n",
      "Processing Record 45 of Set 11 | leticia\n",
      "Processing Record 46 of Set 11 | palu\n",
      "Processing Record 47 of Set 11 | yarada\n",
      "Processing Record 48 of Set 11 | sefophe\n",
      "Processing Record 49 of Set 11 | bikaner\n",
      "Processing Record 50 of Set 11 | hwange\n",
      "Processing Record 1 of Set 12 | labuhan\n",
      "Processing Record 2 of Set 12 | thunder bay\n",
      "Processing Record 3 of Set 12 | west fargo\n",
      "Processing Record 4 of Set 12 | kamyaran\n",
      "Processing Record 5 of Set 12 | progreso\n",
      "Processing Record 6 of Set 12 | baragua\n",
      "Processing Record 7 of Set 12 | micheweni\n",
      "Processing Record 8 of Set 12 | varhaug\n",
      "Processing Record 9 of Set 12 | balkanabat\n",
      "Processing Record 10 of Set 12 | joensuu\n",
      "Processing Record 11 of Set 12 | skjervoy\n"
     ]
    },
    {
     "name": "stdout",
     "output_type": "stream",
     "text": [
      "Processing Record 12 of Set 12 | binabalian\n",
      "Processing Record 13 of Set 12 | tessalit\n",
      "Processing Record 14 of Set 12 | san ignacio\n",
      "Processing Record 15 of Set 12 | yeysk\n",
      "Processing Record 16 of Set 12 | manama\n",
      "Processing Record 17 of Set 12 | concepcion del uruguay\n",
      "Processing Record 18 of Set 12 | hunza\n",
      "City not found. Skipping...\n",
      "Processing Record 19 of Set 12 | evanston\n",
      "Processing Record 20 of Set 12 | isawa\n",
      "Processing Record 21 of Set 12 | natal\n",
      "Processing Record 22 of Set 12 | jaisalmer\n",
      "Processing Record 23 of Set 12 | tutayev\n",
      "Processing Record 24 of Set 12 | mount isa\n",
      "Processing Record 25 of Set 12 | dwarka\n",
      "Processing Record 26 of Set 12 | moron\n",
      "Processing Record 27 of Set 12 | balykshi\n",
      "City not found. Skipping...\n",
      "Processing Record 28 of Set 12 | fuzhou\n",
      "Processing Record 29 of Set 12 | novyy urgal\n",
      "Processing Record 30 of Set 12 | sananduva\n",
      "Processing Record 31 of Set 12 | sayyan\n",
      "Processing Record 32 of Set 12 | ugoofaaru\n",
      "Processing Record 33 of Set 12 | miranorte\n",
      "City not found. Skipping...\n",
      "Processing Record 34 of Set 12 | coolum beach\n",
      "Processing Record 35 of Set 12 | jalu\n",
      "Processing Record 36 of Set 12 | azanja\n",
      "Processing Record 37 of Set 12 | otradnoye\n",
      "Processing Record 38 of Set 12 | pandaria\n",
      "Processing Record 39 of Set 12 | karpathos\n",
      "Processing Record 40 of Set 12 | ban tak\n",
      "Processing Record 41 of Set 12 | newcastle\n",
      "Processing Record 42 of Set 12 | bolungarvik\n",
      "City not found. Skipping...\n",
      "Processing Record 43 of Set 12 | ales\n",
      "Processing Record 44 of Set 12 | minatitlan\n",
      "Processing Record 45 of Set 12 | solnechnyy\n",
      "Processing Record 46 of Set 12 | poso\n",
      "Processing Record 47 of Set 12 | kingman\n",
      "Processing Record 48 of Set 12 | chara\n",
      "Processing Record 49 of Set 12 | lalibela\n",
      "Processing Record 50 of Set 12 | port keats\n",
      "Processing Record 1 of Set 13 | smithers\n",
      "Processing Record 2 of Set 13 | gladstone\n",
      "Processing Record 3 of Set 13 | asau\n",
      "Processing Record 4 of Set 13 | san alberto\n",
      "Processing Record 5 of Set 13 | wilmington\n",
      "Processing Record 6 of Set 13 | muravlenko\n",
      "Processing Record 7 of Set 13 | pakwach\n",
      "City not found. Skipping...\n",
      "Processing Record 8 of Set 13 | perth\n",
      "Processing Record 9 of Set 13 | salinopolis\n",
      "Processing Record 10 of Set 13 | fonte boa\n",
      "Processing Record 11 of Set 13 | tuggurt\n",
      "City not found. Skipping...\n",
      "Processing Record 12 of Set 13 | cockburn town\n",
      "Processing Record 13 of Set 13 | lalitpur\n",
      "Processing Record 14 of Set 13 | guanay\n",
      "Processing Record 15 of Set 13 | zheleznogorsk-ilimskiy\n",
      "Processing Record 16 of Set 13 | kabwe\n",
      "Processing Record 17 of Set 13 | kambove\n",
      "Processing Record 18 of Set 13 | kurilsk\n",
      "Processing Record 19 of Set 13 | huancayo\n",
      "Processing Record 20 of Set 13 | neenah\n",
      "Processing Record 21 of Set 13 | kananga\n",
      "Processing Record 22 of Set 13 | izhma\n",
      "Processing Record 23 of Set 13 | alofi\n",
      "Processing Record 24 of Set 13 | moville\n",
      "Processing Record 25 of Set 13 | virden\n",
      "Processing Record 26 of Set 13 | mountain home\n",
      "Processing Record 27 of Set 13 | aripuana\n",
      "Processing Record 28 of Set 13 | mangaluru\n",
      "Processing Record 29 of Set 13 | birao\n",
      "Processing Record 30 of Set 13 | gallup\n",
      "Processing Record 31 of Set 13 | ust-ishim\n",
      "Processing Record 32 of Set 13 | drayton valley\n",
      "-----------------------------\n",
      "Data Retrieval Complete      \n",
      "-----------------------------\n"
     ]
    }
   ],
   "source": [
    "# Loop through all the cities in the list.\n",
    "for i, city in enumerate(cities):\n",
    "\n",
    "    # Group cities in sets of 50 for logging purposes.\n",
    "    if (i % 50 == 0 and i >= 50):\n",
    "        set_count += 1\n",
    "        record_count = 1\n",
    "    # Create endpoint URL with each city.\n",
    "    city_url = url + \"&q=\" + city\n",
    "\n",
    "    # Log the URL, record, and set numbers and the city.\n",
    "    print(f\"Processing Record {record_count} of Set {set_count} | {city}\")\n",
    "    # Add 1 to the record count.\n",
    "    record_count += 1\n",
    "    \n",
    "    # Run an API request for each of the cities.\n",
    "    try:\n",
    "        # Parse the JSON and retrieve data.\n",
    "        city_weather = requests.get(city_url).json()\n",
    "        # Parse out the needed data.\n",
    "        city_lat = city_weather[\"coord\"][\"lat\"]\n",
    "        city_lng = city_weather[\"coord\"][\"lon\"]\n",
    "        city_max_temp = city_weather[\"main\"][\"temp_max\"]\n",
    "        city_humidity = city_weather[\"main\"][\"humidity\"]\n",
    "        city_clouds = city_weather[\"clouds\"][\"all\"]\n",
    "        city_wind = city_weather[\"wind\"][\"speed\"]\n",
    "        city_country = city_weather[\"sys\"][\"country\"]\n",
    "        # Convert the date to ISO standard.\n",
    "        city_date = datetime.utcfromtimestamp(city_weather[\"dt\"]).strftime('%Y-%m-%d %H:%M:%S')\n",
    "        # Append the city information into city_data list.\n",
    "        city_data.append({\"City\": city.title(),\n",
    "                          \"Lat\": city_lat,\n",
    "                          \"Lng\": city_lng,\n",
    "                          \"Max Temp\": city_max_temp,\n",
    "                          \"Humidity\": city_humidity,\n",
    "                          \"Cloudiness\": city_clouds,\n",
    "                          \"Wind Speed\": city_wind,\n",
    "                          \"Country\": city_country,\n",
    "                          \"Date\": city_date})\n",
    "\n",
    "    # If an error is experienced, skip the city.\n",
    "    except:\n",
    "        print(\"City not found. Skipping...\")\n",
    "        pass\n",
    "\n",
    "# Indicate that Data Loading is complete.\n",
    "print(\"-----------------------------\")\n",
    "print(\"Data Retrieval Complete      \")\n",
    "print(\"-----------------------------\")"
   ]
  },
  {
   "cell_type": "code",
   "execution_count": 38,
   "metadata": {},
   "outputs": [
    {
     "data": {
      "text/html": [
       "<div>\n",
       "<style scoped>\n",
       "    .dataframe tbody tr th:only-of-type {\n",
       "        vertical-align: middle;\n",
       "    }\n",
       "\n",
       "    .dataframe tbody tr th {\n",
       "        vertical-align: top;\n",
       "    }\n",
       "\n",
       "    .dataframe thead th {\n",
       "        text-align: right;\n",
       "    }\n",
       "</style>\n",
       "<table border=\"1\" class=\"dataframe\">\n",
       "  <thead>\n",
       "    <tr style=\"text-align: right;\">\n",
       "      <th></th>\n",
       "      <th>City</th>\n",
       "      <th>Lat</th>\n",
       "      <th>Lng</th>\n",
       "      <th>Max Temp</th>\n",
       "      <th>Humidity</th>\n",
       "      <th>Cloudiness</th>\n",
       "      <th>Wind Speed</th>\n",
       "      <th>Country</th>\n",
       "      <th>Date</th>\n",
       "    </tr>\n",
       "  </thead>\n",
       "  <tbody>\n",
       "    <tr>\n",
       "      <th>0</th>\n",
       "      <td>Busselton</td>\n",
       "      <td>-33.65</td>\n",
       "      <td>115.33</td>\n",
       "      <td>55.99</td>\n",
       "      <td>61</td>\n",
       "      <td>13</td>\n",
       "      <td>8.05</td>\n",
       "      <td>AU</td>\n",
       "      <td>2020-04-17 00:07:02</td>\n",
       "    </tr>\n",
       "    <tr>\n",
       "      <th>1</th>\n",
       "      <td>Provideniya</td>\n",
       "      <td>64.38</td>\n",
       "      <td>-173.30</td>\n",
       "      <td>32.00</td>\n",
       "      <td>97</td>\n",
       "      <td>90</td>\n",
       "      <td>13.42</td>\n",
       "      <td>RU</td>\n",
       "      <td>2020-04-17 00:06:31</td>\n",
       "    </tr>\n",
       "    <tr>\n",
       "      <th>2</th>\n",
       "      <td>Hobart</td>\n",
       "      <td>-42.88</td>\n",
       "      <td>147.33</td>\n",
       "      <td>51.80</td>\n",
       "      <td>53</td>\n",
       "      <td>75</td>\n",
       "      <td>21.92</td>\n",
       "      <td>AU</td>\n",
       "      <td>2020-04-17 00:06:02</td>\n",
       "    </tr>\n",
       "    <tr>\n",
       "      <th>3</th>\n",
       "      <td>Lebu</td>\n",
       "      <td>-37.62</td>\n",
       "      <td>-73.65</td>\n",
       "      <td>56.30</td>\n",
       "      <td>87</td>\n",
       "      <td>10</td>\n",
       "      <td>8.70</td>\n",
       "      <td>CL</td>\n",
       "      <td>2020-04-17 00:07:03</td>\n",
       "    </tr>\n",
       "    <tr>\n",
       "      <th>4</th>\n",
       "      <td>Mataura</td>\n",
       "      <td>-46.19</td>\n",
       "      <td>168.86</td>\n",
       "      <td>46.00</td>\n",
       "      <td>94</td>\n",
       "      <td>100</td>\n",
       "      <td>8.01</td>\n",
       "      <td>NZ</td>\n",
       "      <td>2020-04-17 00:07:03</td>\n",
       "    </tr>\n",
       "    <tr>\n",
       "      <th>5</th>\n",
       "      <td>Victoria</td>\n",
       "      <td>22.29</td>\n",
       "      <td>114.16</td>\n",
       "      <td>75.99</td>\n",
       "      <td>73</td>\n",
       "      <td>20</td>\n",
       "      <td>11.41</td>\n",
       "      <td>HK</td>\n",
       "      <td>2020-04-17 00:03:37</td>\n",
       "    </tr>\n",
       "    <tr>\n",
       "      <th>6</th>\n",
       "      <td>Lodja</td>\n",
       "      <td>-3.48</td>\n",
       "      <td>23.43</td>\n",
       "      <td>72.00</td>\n",
       "      <td>85</td>\n",
       "      <td>98</td>\n",
       "      <td>0.69</td>\n",
       "      <td>CD</td>\n",
       "      <td>2020-04-17 00:07:04</td>\n",
       "    </tr>\n",
       "    <tr>\n",
       "      <th>7</th>\n",
       "      <td>Djambala</td>\n",
       "      <td>-2.54</td>\n",
       "      <td>14.75</td>\n",
       "      <td>70.07</td>\n",
       "      <td>76</td>\n",
       "      <td>100</td>\n",
       "      <td>4.52</td>\n",
       "      <td>CG</td>\n",
       "      <td>2020-04-17 00:07:04</td>\n",
       "    </tr>\n",
       "    <tr>\n",
       "      <th>8</th>\n",
       "      <td>Saint-Joseph</td>\n",
       "      <td>-21.37</td>\n",
       "      <td>55.62</td>\n",
       "      <td>75.20</td>\n",
       "      <td>69</td>\n",
       "      <td>19</td>\n",
       "      <td>13.87</td>\n",
       "      <td>RE</td>\n",
       "      <td>2020-04-17 00:07:00</td>\n",
       "    </tr>\n",
       "    <tr>\n",
       "      <th>9</th>\n",
       "      <td>Georgetown</td>\n",
       "      <td>5.41</td>\n",
       "      <td>100.34</td>\n",
       "      <td>80.60</td>\n",
       "      <td>88</td>\n",
       "      <td>40</td>\n",
       "      <td>3.51</td>\n",
       "      <td>MY</td>\n",
       "      <td>2020-04-17 00:04:24</td>\n",
       "    </tr>\n",
       "  </tbody>\n",
       "</table>\n",
       "</div>"
      ],
      "text/plain": [
       "           City    Lat     Lng  Max Temp  Humidity  Cloudiness  Wind Speed  \\\n",
       "0     Busselton -33.65  115.33     55.99        61          13        8.05   \n",
       "1   Provideniya  64.38 -173.30     32.00        97          90       13.42   \n",
       "2        Hobart -42.88  147.33     51.80        53          75       21.92   \n",
       "3          Lebu -37.62  -73.65     56.30        87          10        8.70   \n",
       "4       Mataura -46.19  168.86     46.00        94         100        8.01   \n",
       "5      Victoria  22.29  114.16     75.99        73          20       11.41   \n",
       "6         Lodja  -3.48   23.43     72.00        85          98        0.69   \n",
       "7      Djambala  -2.54   14.75     70.07        76         100        4.52   \n",
       "8  Saint-Joseph -21.37   55.62     75.20        69          19       13.87   \n",
       "9    Georgetown   5.41  100.34     80.60        88          40        3.51   \n",
       "\n",
       "  Country                 Date  \n",
       "0      AU  2020-04-17 00:07:02  \n",
       "1      RU  2020-04-17 00:06:31  \n",
       "2      AU  2020-04-17 00:06:02  \n",
       "3      CL  2020-04-17 00:07:03  \n",
       "4      NZ  2020-04-17 00:07:03  \n",
       "5      HK  2020-04-17 00:03:37  \n",
       "6      CD  2020-04-17 00:07:04  \n",
       "7      CG  2020-04-17 00:07:04  \n",
       "8      RE  2020-04-17 00:07:00  \n",
       "9      MY  2020-04-17 00:04:24  "
      ]
     },
     "execution_count": 38,
     "metadata": {},
     "output_type": "execute_result"
    }
   ],
   "source": [
    "# Convert the array of dictionaries to a Pandas DataFrame.\n",
    "city_data_df = pd.DataFrame(city_data)\n",
    "city_data_df.head(10)"
   ]
  },
  {
   "cell_type": "code",
   "execution_count": 39,
   "metadata": {},
   "outputs": [],
   "source": [
    "new_column_order = [\"City\",\"Country\",\"Date\",\"Lat\",\"Lng\",\"Max Temp\",\"Humidity\",\"Cloudiness\",\"Wind Speed\"]"
   ]
  },
  {
   "cell_type": "code",
   "execution_count": 40,
   "metadata": {},
   "outputs": [],
   "source": [
    "city_data_df = city_data_df[new_column_order]"
   ]
  },
  {
   "cell_type": "code",
   "execution_count": 41,
   "metadata": {},
   "outputs": [
    {
     "data": {
      "text/plain": [
       "574"
      ]
     },
     "execution_count": 41,
     "metadata": {},
     "output_type": "execute_result"
    }
   ],
   "source": [
    "len(city_data)"
   ]
  },
  {
   "cell_type": "code",
   "execution_count": 42,
   "metadata": {},
   "outputs": [
    {
     "data": {
      "text/html": [
       "<div>\n",
       "<style scoped>\n",
       "    .dataframe tbody tr th:only-of-type {\n",
       "        vertical-align: middle;\n",
       "    }\n",
       "\n",
       "    .dataframe tbody tr th {\n",
       "        vertical-align: top;\n",
       "    }\n",
       "\n",
       "    .dataframe thead th {\n",
       "        text-align: right;\n",
       "    }\n",
       "</style>\n",
       "<table border=\"1\" class=\"dataframe\">\n",
       "  <thead>\n",
       "    <tr style=\"text-align: right;\">\n",
       "      <th></th>\n",
       "      <th>City</th>\n",
       "      <th>Country</th>\n",
       "      <th>Date</th>\n",
       "      <th>Lat</th>\n",
       "      <th>Lng</th>\n",
       "      <th>Max Temp</th>\n",
       "      <th>Humidity</th>\n",
       "      <th>Cloudiness</th>\n",
       "      <th>Wind Speed</th>\n",
       "    </tr>\n",
       "  </thead>\n",
       "  <tbody>\n",
       "    <tr>\n",
       "      <th>0</th>\n",
       "      <td>Busselton</td>\n",
       "      <td>AU</td>\n",
       "      <td>2020-04-17 00:07:02</td>\n",
       "      <td>-33.65</td>\n",
       "      <td>115.33</td>\n",
       "      <td>55.99</td>\n",
       "      <td>61</td>\n",
       "      <td>13</td>\n",
       "      <td>8.05</td>\n",
       "    </tr>\n",
       "    <tr>\n",
       "      <th>1</th>\n",
       "      <td>Provideniya</td>\n",
       "      <td>RU</td>\n",
       "      <td>2020-04-17 00:06:31</td>\n",
       "      <td>64.38</td>\n",
       "      <td>-173.30</td>\n",
       "      <td>32.00</td>\n",
       "      <td>97</td>\n",
       "      <td>90</td>\n",
       "      <td>13.42</td>\n",
       "    </tr>\n",
       "    <tr>\n",
       "      <th>2</th>\n",
       "      <td>Hobart</td>\n",
       "      <td>AU</td>\n",
       "      <td>2020-04-17 00:06:02</td>\n",
       "      <td>-42.88</td>\n",
       "      <td>147.33</td>\n",
       "      <td>51.80</td>\n",
       "      <td>53</td>\n",
       "      <td>75</td>\n",
       "      <td>21.92</td>\n",
       "    </tr>\n",
       "    <tr>\n",
       "      <th>3</th>\n",
       "      <td>Lebu</td>\n",
       "      <td>CL</td>\n",
       "      <td>2020-04-17 00:07:03</td>\n",
       "      <td>-37.62</td>\n",
       "      <td>-73.65</td>\n",
       "      <td>56.30</td>\n",
       "      <td>87</td>\n",
       "      <td>10</td>\n",
       "      <td>8.70</td>\n",
       "    </tr>\n",
       "    <tr>\n",
       "      <th>4</th>\n",
       "      <td>Mataura</td>\n",
       "      <td>NZ</td>\n",
       "      <td>2020-04-17 00:07:03</td>\n",
       "      <td>-46.19</td>\n",
       "      <td>168.86</td>\n",
       "      <td>46.00</td>\n",
       "      <td>94</td>\n",
       "      <td>100</td>\n",
       "      <td>8.01</td>\n",
       "    </tr>\n",
       "    <tr>\n",
       "      <th>5</th>\n",
       "      <td>Victoria</td>\n",
       "      <td>HK</td>\n",
       "      <td>2020-04-17 00:03:37</td>\n",
       "      <td>22.29</td>\n",
       "      <td>114.16</td>\n",
       "      <td>75.99</td>\n",
       "      <td>73</td>\n",
       "      <td>20</td>\n",
       "      <td>11.41</td>\n",
       "    </tr>\n",
       "    <tr>\n",
       "      <th>6</th>\n",
       "      <td>Lodja</td>\n",
       "      <td>CD</td>\n",
       "      <td>2020-04-17 00:07:04</td>\n",
       "      <td>-3.48</td>\n",
       "      <td>23.43</td>\n",
       "      <td>72.00</td>\n",
       "      <td>85</td>\n",
       "      <td>98</td>\n",
       "      <td>0.69</td>\n",
       "    </tr>\n",
       "    <tr>\n",
       "      <th>7</th>\n",
       "      <td>Djambala</td>\n",
       "      <td>CG</td>\n",
       "      <td>2020-04-17 00:07:04</td>\n",
       "      <td>-2.54</td>\n",
       "      <td>14.75</td>\n",
       "      <td>70.07</td>\n",
       "      <td>76</td>\n",
       "      <td>100</td>\n",
       "      <td>4.52</td>\n",
       "    </tr>\n",
       "    <tr>\n",
       "      <th>8</th>\n",
       "      <td>Saint-Joseph</td>\n",
       "      <td>RE</td>\n",
       "      <td>2020-04-17 00:07:00</td>\n",
       "      <td>-21.37</td>\n",
       "      <td>55.62</td>\n",
       "      <td>75.20</td>\n",
       "      <td>69</td>\n",
       "      <td>19</td>\n",
       "      <td>13.87</td>\n",
       "    </tr>\n",
       "    <tr>\n",
       "      <th>9</th>\n",
       "      <td>Georgetown</td>\n",
       "      <td>MY</td>\n",
       "      <td>2020-04-17 00:04:24</td>\n",
       "      <td>5.41</td>\n",
       "      <td>100.34</td>\n",
       "      <td>80.60</td>\n",
       "      <td>88</td>\n",
       "      <td>40</td>\n",
       "      <td>3.51</td>\n",
       "    </tr>\n",
       "  </tbody>\n",
       "</table>\n",
       "</div>"
      ],
      "text/plain": [
       "           City Country                 Date    Lat     Lng  Max Temp  \\\n",
       "0     Busselton      AU  2020-04-17 00:07:02 -33.65  115.33     55.99   \n",
       "1   Provideniya      RU  2020-04-17 00:06:31  64.38 -173.30     32.00   \n",
       "2        Hobart      AU  2020-04-17 00:06:02 -42.88  147.33     51.80   \n",
       "3          Lebu      CL  2020-04-17 00:07:03 -37.62  -73.65     56.30   \n",
       "4       Mataura      NZ  2020-04-17 00:07:03 -46.19  168.86     46.00   \n",
       "5      Victoria      HK  2020-04-17 00:03:37  22.29  114.16     75.99   \n",
       "6         Lodja      CD  2020-04-17 00:07:04  -3.48   23.43     72.00   \n",
       "7      Djambala      CG  2020-04-17 00:07:04  -2.54   14.75     70.07   \n",
       "8  Saint-Joseph      RE  2020-04-17 00:07:00 -21.37   55.62     75.20   \n",
       "9    Georgetown      MY  2020-04-17 00:04:24   5.41  100.34     80.60   \n",
       "\n",
       "   Humidity  Cloudiness  Wind Speed  \n",
       "0        61          13        8.05  \n",
       "1        97          90       13.42  \n",
       "2        53          75       21.92  \n",
       "3        87          10        8.70  \n",
       "4        94         100        8.01  \n",
       "5        73          20       11.41  \n",
       "6        85          98        0.69  \n",
       "7        76         100        4.52  \n",
       "8        69          19       13.87  \n",
       "9        88          40        3.51  "
      ]
     },
     "execution_count": 42,
     "metadata": {},
     "output_type": "execute_result"
    }
   ],
   "source": [
    "# Convert the array of dictionaries to a Pandas DataFrame.\n",
    "city_data_df = pd.DataFrame(city_data_df)\n",
    "city_data_df.head(10)"
   ]
  },
  {
   "cell_type": "code",
   "execution_count": 43,
   "metadata": {},
   "outputs": [],
   "source": [
    "# Create the output file (CSV).\n",
    "output_data_file = \"weather_data/cities.csv\"\n",
    "\n",
    "# Export the City_Data into a CSV.\n",
    "city_data_df.to_csv(output_data_file, index_label=\"City_ID\")"
   ]
  },
  {
   "cell_type": "code",
   "execution_count": 44,
   "metadata": {},
   "outputs": [],
   "source": [
    "# Extract relevant fields from the DataFrame for plotting.\n",
    "\n",
    "lats = city_data_df[\"Lat\"]\n",
    "max_temps = city_data_df[\"Max Temp\"]\n",
    "humidity = city_data_df[\"Humidity\"]\n",
    "cloudiness = city_data_df[\"Cloudiness\"]\n",
    "wind_speed = city_data_df[\"Wind Speed\"]"
   ]
  },
  {
   "cell_type": "code",
   "execution_count": 45,
   "metadata": {},
   "outputs": [
    {
     "data": {
      "text/plain": [
       "'04/16/20'"
      ]
     },
     "execution_count": 45,
     "metadata": {},
     "output_type": "execute_result"
    }
   ],
   "source": [
    "# Import the time module.\n",
    "import time\n",
    "\n",
    "# Get today's date in seconds.\n",
    "today = time.strftime(\"%x\")\n",
    "today"
   ]
  },
  {
   "cell_type": "code",
   "execution_count": 46,
   "metadata": {},
   "outputs": [
    {
     "data": {
      "image/png": "[encoded data removed]",
      "text/plain": [
       "<Figure size 432x288 with 1 Axes>"
      ]
     },
     "metadata": {
      "needs_background": "light"
     },
     "output_type": "display_data"
    }
   ],
   "source": [
    "# Build the scatter plot for latitude vs. max temperature.\n",
    "\n",
    "plt.scatter(lats,\n",
    "            max_temps,\n",
    "            edgecolor=\"black\", linewidths=1, marker=\"o\",\n",
    "            alpha=0.8, label=\"Cities\")\n",
    "\n",
    "# Incorporate the other graph properties.\n",
    "\n",
    "plt.title(f\"City Latitude vs. Max Temperature \"+ time.strftime(\"%x\"))\n",
    "plt.ylabel(\"Max Temperature (F)\")\n",
    "plt.xlabel(\"Latitude\")\n",
    "plt.grid(True)\n",
    "\n",
    "# Save the figure.\n",
    "plt.savefig(\"weather_data/Fig1.png\")\n",
    "\n",
    "# Show plot.\n",
    "plt.show()"
   ]
  },
  {
   "cell_type": "code",
   "execution_count": 47,
   "metadata": {},
   "outputs": [
    {
     "data": {
      "image/png": "[encoded data removed]",
      "text/plain": [
       "<Figure size 432x288 with 1 Axes>"
      ]
     },
     "metadata": {
      "needs_background": "light"
     },
     "output_type": "display_data"
    }
   ],
   "source": [
    "# Build the scatter plots for latitude vs. humidity.\n",
    "plt.scatter(lats,\n",
    "            humidity,\n",
    "            edgecolor=\"black\", linewidths=1, marker=\"o\",\n",
    "            alpha=0.8, label=\"Cities\")\n",
    "\n",
    "# Incorporate the other graph properties.\n",
    "plt.title(f\"City Latitude vs. Humidity \"+ time.strftime(\"%x\"))\n",
    "plt.ylabel(\"Humidity (%)\")\n",
    "plt.xlabel(\"Latitude\")\n",
    "plt.grid(True)\n",
    "\n",
    "# Save the figure.\n",
    "plt.savefig(\"weather_data/Fig2.png\")\n",
    "\n",
    "# Show plot.\n",
    "plt.show()"
   ]
  },
  {
   "cell_type": "code",
   "execution_count": 48,
   "metadata": {},
   "outputs": [
    {
     "data": {
      "image/png": "[encoded data removed]",
      "text/plain": [
       "<Figure size 432x288 with 1 Axes>"
      ]
     },
     "metadata": {
      "needs_background": "light"
     },
     "output_type": "display_data"
    }
   ],
   "source": [
    "# Build the scatter plots for latitude vs. cloudiness.\n",
    "plt.scatter(lats,\n",
    "            cloudiness,\n",
    "            edgecolor=\"black\", linewidths=1, marker=\"o\",\n",
    "            alpha=0.8, label=\"Cities\")\n",
    "\n",
    "# Incorporate the other graph properties.\n",
    "plt.title(f\"City Latitude vs. Cloudiness (%) \"+ time.strftime(\"%x\"))\n",
    "plt.ylabel(\"Cloudiness (%)\")\n",
    "plt.xlabel(\"Latitude\")\n",
    "plt.grid(True)\n",
    "# Save the figure.\n",
    "plt.savefig(\"weather_data/Fig3.png\")\n",
    "# Show plot.\n",
    "plt.show()"
   ]
  },
  {
   "cell_type": "code",
   "execution_count": 49,
   "metadata": {},
   "outputs": [
    {
     "data": {
      "image/png": "[encoded data removed]",
      "text/plain": [
       "<Figure size 432x288 with 1 Axes>"
      ]
     },
     "metadata": {
      "needs_background": "light"
     },
     "output_type": "display_data"
    }
   ],
   "source": [
    "# Build the scatter plots for latitude vs. wind speed.\n",
    "plt.scatter(lats,\n",
    "            wind_speed,\n",
    "            edgecolor=\"black\", linewidths=1, marker=\"o\",\n",
    "            alpha=0.8, label=\"Cities\")\n",
    "\n",
    "# Incorporate the other graph properties.\n",
    "plt.title(f\"City Latitude vs. Wind Speed \"+ time.strftime(\"%x\"))\n",
    "plt.ylabel(\"Wind Speed (mph)\")\n",
    "plt.xlabel(\"Latitude\")\n",
    "plt.grid(True)\n",
    "\n",
    "# Save the figure.\n",
    "plt.savefig(\"weather_data/Fig4.png\")\n",
    "\n",
    "# Show plot.\n",
    "plt.show()"
   ]
  },
  {
   "cell_type": "code",
   "execution_count": 50,
   "metadata": {},
   "outputs": [],
   "source": [
    "import scipy\n",
    "import matplotlib.pyplot as plt\n",
    "from scipy import stats\n",
    "from scipy.stats import linregress\n",
    "\n",
    "#from scipy import stats\n",
    "#def give_me_scatter(x, y, title, xlabel, ylabel):\n",
    "#The problematic line:\n",
    "#slope, intercept, r_value, p_value, std_err = stats.linregress(x, y)"
   ]
  },
  {
   "cell_type": "code",
   "execution_count": 52,
   "metadata": {},
   "outputs": [],
   "source": [
    "# Create a function to create perform linear regression on the weather data\n",
    "# and plot a regression line and the equation with the data.  \n",
    "def plot_linear_regression(x_values, y_values, title, y_label, text_coordinates):\n",
    "    \n",
    "    # Run regression on hemisphere weather data.\n",
    "    (slope, intercept, r_value, p_value, std_err) = linregress(x_values, y_values)\n",
    "    \n",
    "    # Calculate the regression line \"y values\" from the slope and intercept.\n",
    "    regress_values = x_values * slope + intercept\n",
    "    \n",
    "    # Get the equation of the line.\n",
    "    line_eq = \"y = \" + str(round(slope,2)) + \"x + \" + str(round(intercept,2))\n",
    "    \n",
    "    # Create a scatter plot and plot the regression line.\n",
    "    plt.scatter(x_values,y_values)\n",
    "    plt.plot(x_values,regress_values,\"r\")\n",
    "    \n",
    "    # Annotate the text for the line equation.\n",
    "    plt.annotate(line_eq, text_coordinates, fontsize=15, color=\"red\")\n",
    "    plt.xlabel('Latitude')\n",
    "    plt.ylabel(y_label)\n",
    "    plt.show()"
   ]
  },
  {
   "cell_type": "code",
   "execution_count": 54,
   "metadata": {},
   "outputs": [],
   "source": [
    "# Create Northern and Southern Hemisphere DataFrames\n",
    "northern_hemi_df = city_data_df.loc[(city_data_df[\"Lat\"] >= 0)]\n",
    "southern_hemi_df = city_data_df.loc[(city_data_df[\"Lat\"] < 0)]"
   ]
  },
  {
   "cell_type": "code",
   "execution_count": 56,
   "metadata": {},
   "outputs": [
    {
     "data": {
      "image/png": "[encoded data removed]",
      "text/plain": [
       "<Figure size 432x288 with 1 Axes>"
      ]
     },
     "metadata": {
      "needs_background": "light"
     },
     "output_type": "display_data"
    }
   ],
   "source": [
    "# Linear regression on Southern Hemisphere\n",
    "x_values = southern_hemi_df[\"Lat\"]\n",
    "y_values = southern_hemi_df[\"Max Temp\"]\n",
    "plot_linear_regression(x_values, y_values, 'Max Temp', 'temp',(-55, 90))"
   ]
  },
  {
   "cell_type": "code",
   "execution_count": 62,
   "metadata": {},
   "outputs": [
    {
     "data": {
      "image/png": "[encoded data removed]",
      "text/plain": [
       "<Figure size 432x288 with 1 Axes>"
      ]
     },
     "metadata": {
      "needs_background": "light"
     },
     "output_type": "display_data"
    }
   ],
   "source": [
    "# Linear regression on Northern Hemisphere\n",
    "x_values = northern_hemi_df[\"Lat\"]\n",
    "y_values = northern_hemi_df[\"Max Temp\"]\n",
    "plot_linear_regression(x_values, y_values, 'Max Temp','temp',(10, 40))"
   ]
  },
  {
   "cell_type": "code",
   "execution_count": 60,
   "metadata": {},
   "outputs": [
    {
     "data": {
      "text/html": [
       "<div>\n",
       "<style scoped>\n",
       "    .dataframe tbody tr th:only-of-type {\n",
       "        vertical-align: middle;\n",
       "    }\n",
       "\n",
       "    .dataframe tbody tr th {\n",
       "        vertical-align: top;\n",
       "    }\n",
       "\n",
       "    .dataframe thead th {\n",
       "        text-align: right;\n",
       "    }\n",
       "</style>\n",
       "<table border=\"1\" class=\"dataframe\">\n",
       "  <thead>\n",
       "    <tr style=\"text-align: right;\">\n",
       "      <th></th>\n",
       "      <th>City</th>\n",
       "      <th>Country</th>\n",
       "      <th>Date</th>\n",
       "      <th>Lat</th>\n",
       "      <th>Lng</th>\n",
       "      <th>Max Temp</th>\n",
       "      <th>Humidity</th>\n",
       "      <th>Cloudiness</th>\n",
       "      <th>Wind Speed</th>\n",
       "    </tr>\n",
       "  </thead>\n",
       "  <tbody>\n",
       "    <tr>\n",
       "      <th>1</th>\n",
       "      <td>Provideniya</td>\n",
       "      <td>RU</td>\n",
       "      <td>2020-04-17 00:06:31</td>\n",
       "      <td>64.38</td>\n",
       "      <td>-173.30</td>\n",
       "      <td>32.00</td>\n",
       "      <td>97</td>\n",
       "      <td>90</td>\n",
       "      <td>13.42</td>\n",
       "    </tr>\n",
       "    <tr>\n",
       "      <th>5</th>\n",
       "      <td>Victoria</td>\n",
       "      <td>HK</td>\n",
       "      <td>2020-04-17 00:03:37</td>\n",
       "      <td>22.29</td>\n",
       "      <td>114.16</td>\n",
       "      <td>75.99</td>\n",
       "      <td>73</td>\n",
       "      <td>20</td>\n",
       "      <td>11.41</td>\n",
       "    </tr>\n",
       "    <tr>\n",
       "      <th>9</th>\n",
       "      <td>Georgetown</td>\n",
       "      <td>MY</td>\n",
       "      <td>2020-04-17 00:04:24</td>\n",
       "      <td>5.41</td>\n",
       "      <td>100.34</td>\n",
       "      <td>80.60</td>\n",
       "      <td>88</td>\n",
       "      <td>40</td>\n",
       "      <td>3.51</td>\n",
       "    </tr>\n",
       "    <tr>\n",
       "      <th>10</th>\n",
       "      <td>Upernavik</td>\n",
       "      <td>GL</td>\n",
       "      <td>2020-04-17 00:07:05</td>\n",
       "      <td>72.79</td>\n",
       "      <td>-56.15</td>\n",
       "      <td>24.69</td>\n",
       "      <td>89</td>\n",
       "      <td>100</td>\n",
       "      <td>9.66</td>\n",
       "    </tr>\n",
       "    <tr>\n",
       "      <th>12</th>\n",
       "      <td>Cherskiy</td>\n",
       "      <td>RU</td>\n",
       "      <td>2020-04-17 00:07:05</td>\n",
       "      <td>68.75</td>\n",
       "      <td>161.30</td>\n",
       "      <td>9.72</td>\n",
       "      <td>92</td>\n",
       "      <td>50</td>\n",
       "      <td>5.48</td>\n",
       "    </tr>\n",
       "    <tr>\n",
       "      <th>...</th>\n",
       "      <td>...</td>\n",
       "      <td>...</td>\n",
       "      <td>...</td>\n",
       "      <td>...</td>\n",
       "      <td>...</td>\n",
       "      <td>...</td>\n",
       "      <td>...</td>\n",
       "      <td>...</td>\n",
       "      <td>...</td>\n",
       "    </tr>\n",
       "    <tr>\n",
       "      <th>569</th>\n",
       "      <td>Mangaluru</td>\n",
       "      <td>IN</td>\n",
       "      <td>2020-04-17 00:10:22</td>\n",
       "      <td>12.87</td>\n",
       "      <td>74.88</td>\n",
       "      <td>78.15</td>\n",
       "      <td>84</td>\n",
       "      <td>42</td>\n",
       "      <td>2.19</td>\n",
       "    </tr>\n",
       "    <tr>\n",
       "      <th>570</th>\n",
       "      <td>Birao</td>\n",
       "      <td>CF</td>\n",
       "      <td>2020-04-17 00:10:22</td>\n",
       "      <td>10.28</td>\n",
       "      <td>22.79</td>\n",
       "      <td>74.17</td>\n",
       "      <td>14</td>\n",
       "      <td>0</td>\n",
       "      <td>6.51</td>\n",
       "    </tr>\n",
       "    <tr>\n",
       "      <th>571</th>\n",
       "      <td>Gallup</td>\n",
       "      <td>US</td>\n",
       "      <td>2020-04-17 00:10:23</td>\n",
       "      <td>35.53</td>\n",
       "      <td>-108.74</td>\n",
       "      <td>66.20</td>\n",
       "      <td>15</td>\n",
       "      <td>20</td>\n",
       "      <td>16.11</td>\n",
       "    </tr>\n",
       "    <tr>\n",
       "      <th>572</th>\n",
       "      <td>Ust-Ishim</td>\n",
       "      <td>RU</td>\n",
       "      <td>2020-04-17 00:10:23</td>\n",
       "      <td>57.69</td>\n",
       "      <td>71.17</td>\n",
       "      <td>43.21</td>\n",
       "      <td>77</td>\n",
       "      <td>100</td>\n",
       "      <td>8.01</td>\n",
       "    </tr>\n",
       "    <tr>\n",
       "      <th>573</th>\n",
       "      <td>Drayton Valley</td>\n",
       "      <td>CA</td>\n",
       "      <td>2020-04-17 00:10:23</td>\n",
       "      <td>53.22</td>\n",
       "      <td>-114.99</td>\n",
       "      <td>46.85</td>\n",
       "      <td>60</td>\n",
       "      <td>23</td>\n",
       "      <td>3.36</td>\n",
       "    </tr>\n",
       "  </tbody>\n",
       "</table>\n",
       "<p>387 rows × 9 columns</p>\n",
       "</div>"
      ],
      "text/plain": [
       "               City Country                 Date    Lat     Lng  Max Temp  \\\n",
       "1       Provideniya      RU  2020-04-17 00:06:31  64.38 -173.30     32.00   \n",
       "5          Victoria      HK  2020-04-17 00:03:37  22.29  114.16     75.99   \n",
       "9        Georgetown      MY  2020-04-17 00:04:24   5.41  100.34     80.60   \n",
       "10        Upernavik      GL  2020-04-17 00:07:05  72.79  -56.15     24.69   \n",
       "12         Cherskiy      RU  2020-04-17 00:07:05  68.75  161.30      9.72   \n",
       "..              ...     ...                  ...    ...     ...       ...   \n",
       "569       Mangaluru      IN  2020-04-17 00:10:22  12.87   74.88     78.15   \n",
       "570           Birao      CF  2020-04-17 00:10:22  10.28   22.79     74.17   \n",
       "571          Gallup      US  2020-04-17 00:10:23  35.53 -108.74     66.20   \n",
       "572       Ust-Ishim      RU  2020-04-17 00:10:23  57.69   71.17     43.21   \n",
       "573  Drayton Valley      CA  2020-04-17 00:10:23  53.22 -114.99     46.85   \n",
       "\n",
       "     Humidity  Cloudiness  Wind Speed  \n",
       "1          97          90       13.42  \n",
       "5          73          20       11.41  \n",
       "9          88          40        3.51  \n",
       "10         89         100        9.66  \n",
       "12         92          50        5.48  \n",
       "..        ...         ...         ...  \n",
       "569        84          42        2.19  \n",
       "570        14           0        6.51  \n",
       "571        15          20       16.11  \n",
       "572        77         100        8.01  \n",
       "573        60          23        3.36  \n",
       "\n",
       "[387 rows x 9 columns]"
      ]
     },
     "execution_count": 60,
     "metadata": {},
     "output_type": "execute_result"
    }
   ],
   "source": [
    "city_data_df.loc[(city_data_df[\"Lat\"] >= 0)]"
   ]
  },
  {
   "cell_type": "code",
   "execution_count": 65,
   "metadata": {},
   "outputs": [
    {
     "data": {
      "image/png": "[encoded data removed]",
      "text/plain": [
       "<Figure size 432x288 with 1 Axes>"
      ]
     },
     "metadata": {
      "needs_background": "light"
     },
     "output_type": "display_data"
    }
   ],
   "source": [
    "# Linear regression on the Northern Hemisphere\n",
    "x_values = northern_hemi_df[\"Lat\"]\n",
    "y_values = northern_hemi_df[\"Humidity\"]\n",
    "# Call the function.\n",
    "plot_linear_regression(x_values, y_values,\n",
    "                       'Linear Regression on the Northern Hemisphere \\n for % Humidity', '% Humidity',(40,10))"
   ]
  },
  {
   "cell_type": "code",
   "execution_count": 67,
   "metadata": {},
   "outputs": [
    {
     "data": {
      "image/png": "[encoded data removed]",
      "text/plain": [
       "<Figure size 432x288 with 1 Axes>"
      ]
     },
     "metadata": {
      "needs_background": "light"
     },
     "output_type": "display_data"
    }
   ],
   "source": [
    "# Linear regression on the Southern Hemisphere\n",
    "x_values = southern_hemi_df[\"Lat\"]\n",
    "y_values = southern_hemi_df[\"Humidity\"]\n",
    "# Call the function.\n",
    "plot_linear_regression(x_values, y_values,\n",
    "                       'Linear Regression on the Southern Hemisphere \\n for % Humidity', '% Humidity',(-50,15))"
   ]
  },
  {
   "cell_type": "code",
   "execution_count": 70,
   "metadata": {},
   "outputs": [
    {
     "data": {
      "image/png": "[encoded data removed]",
      "text/plain": [
       "<Figure size 432x288 with 1 Axes>"
      ]
     },
     "metadata": {
      "needs_background": "light"
     },
     "output_type": "display_data"
    }
   ],
   "source": [
    "# Linear regression on the Northern Hemisphere\n",
    "x_values = northern_hemi_df[\"Lat\"]\n",
    "y_values = northern_hemi_df[\"Cloudiness\"]\n",
    "# Call the function.\n",
    "plot_linear_regression(x_values, y_values,\n",
    "                       'Linear Regression on the Northern Hemisphere \\n for % Cloudiness', '% Cloudiness',(10,40))"
   ]
  },
  {
   "cell_type": "code",
   "execution_count": 71,
   "metadata": {},
   "outputs": [
    {
     "data": {
      "image/png": "[encoded data removed]",
      "text/plain": [
       "<Figure size 432x288 with 1 Axes>"
      ]
     },
     "metadata": {
      "needs_background": "light"
     },
     "output_type": "display_data"
    }
   ],
   "source": [
    "# Linear regression on the Southern Hemisphere\n",
    "x_values = southern_hemi_df[\"Lat\"]\n",
    "y_values = southern_hemi_df[\"Cloudiness\"]\n",
    "# Call the function.\n",
    "plot_linear_regression(x_values, y_values,\n",
    "                       'Linear Regression on the Southern Hemisphere \\n for % Cloudiness', '% Cloudiness',(-50,60))"
   ]
  },
  {
   "cell_type": "code",
   "execution_count": 73,
   "metadata": {},
   "outputs": [
    {
     "data": {
      "image/png": "[encoded data removed]",
      "text/plain": [
       "<Figure size 432x288 with 1 Axes>"
      ]
     },
     "metadata": {
      "needs_background": "light"
     },
     "output_type": "display_data"
    }
   ],
   "source": [
    "# Linear regression on the Northern Hemisphere\n",
    "x_values = northern_hemi_df[\"Lat\"]\n",
    "y_values = northern_hemi_df[\"Wind Speed\"]\n",
    "# Call the function.\n",
    "plot_linear_regression(x_values, y_values,\n",
    "                       'Linear Regression on the Northern Hemisphere \\n for Wind Speed', 'Wind Speed',(40,35))"
   ]
  },
  {
   "cell_type": "code",
   "execution_count": 79,
   "metadata": {},
   "outputs": [
    {
     "data": {
      "image/png": "[encoded data removed]",
      "text/plain": [
       "<Figure size 432x288 with 1 Axes>"
      ]
     },
     "metadata": {
      "needs_background": "light"
     },
     "output_type": "display_data"
    }
   ],
   "source": [
    "# Linear regression on the Southern Hemisphere\n",
    "x_values = southern_hemi_df[\"Lat\"]\n",
    "y_values = southern_hemi_df[\"Wind Speed\"]\n",
    "# Call the function.\n",
    "plot_linear_regression(x_values, y_values,\n",
    "                       'Linear Regression on the Southern Hemisphere \\n for Wind Speed', 'Wind Speed',(-50,40))"
   ]
  },
  {
   "cell_type": "code",
   "execution_count": null,
   "metadata": {},
   "outputs": [],
   "source": []
  }
 ],
 "metadata": {
  "kernelspec": {
   "display_name": "PythonData",
   "language": "python",
   "name": "pythondata"
  },
  "language_info": {
   "codemirror_mode": {
    "name": "ipython",
    "version": 3
   },
   "file_extension": ".py",
   "mimetype": "text/x-python",
   "name": "python",
   "nbconvert_exporter": "python",
   "pygments_lexer": "ipython3",
   "version": "3.7.6"
  }
 },
 "nbformat": 4,
 "nbformat_minor": 4
}
