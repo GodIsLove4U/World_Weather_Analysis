{
 "cells": [
  {
   "cell_type": "markdown",
   "metadata": {},
   "source": [
    "## Module 6 Challenge\n",
    "### Doris B. Cohen, April 2020 -------> Part 3\n",
    "\n",
    "Part 3 Instructions\n",
    "Create a Travel Itinerary with a Corresponding Map\n",
    "Finally, you will create a map (travel itinerary) that shows the route between four cities from the customer’s possible travel destinations, and then create a map with pop-up markers for the four cities. To complete these tasks, follow these steps:\n",
    "\n",
    "1. Enable the “Directions API” in your Google account for your API key.\n",
    "    On the Google Cloud Platform, select APIs from the left-hand side.\n",
    "        Viewing the options on the Google Cloud Platform\n",
    "    Then, select \"Directions API.\"\n",
    "        Viewing the APIs on your Google Account\n",
    "    Click “Enable” on the Directions API. \n",
    "         Viewing the APIs on your Google Account. \n",
    "2. Create a new Jupyter Notebook file and label it Vacation_Itinerary.ipynb.\n",
    "3. Import the WeatherPy_vacation.csv file as a new DataFrame.\n",
    "4. From the vacation search map, choose at least four cities in close proximity on your map that are on the same continent that a customer might travel to, and then create a directions layer map.\n",
    "    Hints:\n",
    "\n",
    "    Filter the DataFrame for each city you want to go to and create separate DataFrames for each city.\n",
    "    Use the directions Layer instructions from the gmaps documentation (Links to an external site.).\n",
    "        Use the list indexing and Pandas methods to get the latitude-longitude pairs for each city DataFrame as tuples.\n",
    "5. For the travel_mode, use either DRIVING, BICYCLING, or WALKING.\n",
    "    Hint: If the cities are too far apart, some travel modes will not be available.\n",
    "6. Take a screenshot of the route and save it as WeatherPy_travel_map.png.\n",
    "7. Create a marker layer map for the four cities.\n",
    "    Hint: Create a new DataFrame that has all the individual city DataFrames you created.\n",
    "\n",
    "8. On the marker layer map, make sure each city has a pop-up marker that contains the following:\n",
    "    Hotel name\n",
    "    City\n",
    "    Country\n",
    "    Current weather description with the maximum temperature\n",
    "9. Take a screenshot of the marker layer map for the route and save it as     \n",
    "\n",
    "The directions layer map should look similar to the following image:\n",
    "The directions layer for the vacation itinerary.\n",
    "The pop-up marker for each city in the vacation itinerary look similar to the following image:\n",
    "The pop-up marker for each city for the vacation itinerary."
   ]
  },
  {
   "cell_type": "code",
   "execution_count": 11,
   "metadata": {},
   "outputs": [],
   "source": [
    "# Import the dependencies.\n",
    "import pandas as pd\n",
    "import gmaps\n",
    "import gmaps.datasets\n",
    "import requests\n",
    "# Import the API key.\n",
    "from config import g_key\n",
    "\n",
    "# Import the dependencies.\n",
    "import pandas as pd\n",
    "import matplotlib.pyplot as plt\n",
    "import numpy as np\n",
    "import random\n",
    "import scipy\n",
    "import timeit\n",
    "import requests\n",
    "\n",
    "# Import the commands and config info\n",
    "import citipy\n",
    "from citipy import citipy\n",
    "\n",
    "from scipy import stats\n",
    "from scipy.stats import linregress\n",
    "from config import weather_api_key\n",
    "from datetime import datetime"
   ]
  },
  {
   "cell_type": "code",
   "execution_count": 12,
   "metadata": {},
   "outputs": [
    {
     "data": {
      "text/html": [
       "<div>\n",
       "<style scoped>\n",
       "    .dataframe tbody tr th:only-of-type {\n",
       "        vertical-align: middle;\n",
       "    }\n",
       "\n",
       "    .dataframe tbody tr th {\n",
       "        vertical-align: top;\n",
       "    }\n",
       "\n",
       "    .dataframe thead th {\n",
       "        text-align: right;\n",
       "    }\n",
       "</style>\n",
       "<table border=\"1\" class=\"dataframe\">\n",
       "  <thead>\n",
       "    <tr style=\"text-align: right;\">\n",
       "      <th></th>\n",
       "      <th>City_ID</th>\n",
       "      <th>City</th>\n",
       "      <th>Country</th>\n",
       "      <th>Max Temp</th>\n",
       "      <th>Weather Desc</th>\n",
       "      <th>Lat</th>\n",
       "      <th>Lng</th>\n",
       "      <th>Hotel Name</th>\n",
       "    </tr>\n",
       "  </thead>\n",
       "  <tbody>\n",
       "    <tr>\n",
       "      <th>0</th>\n",
       "      <td>1</td>\n",
       "      <td>Nyaunglebin</td>\n",
       "      <td>MM</td>\n",
       "      <td>74.21</td>\n",
       "      <td>scattered clouds</td>\n",
       "      <td>17.95</td>\n",
       "      <td>96.73</td>\n",
       "      <td>Royal Motel</td>\n",
       "    </tr>\n",
       "    <tr>\n",
       "      <th>1</th>\n",
       "      <td>4</td>\n",
       "      <td>Rikitea</td>\n",
       "      <td>PF</td>\n",
       "      <td>76.87</td>\n",
       "      <td>overcast clouds</td>\n",
       "      <td>-23.12</td>\n",
       "      <td>-134.97</td>\n",
       "      <td>Pension Maro'i</td>\n",
       "    </tr>\n",
       "    <tr>\n",
       "      <th>2</th>\n",
       "      <td>6</td>\n",
       "      <td>Renala Khurd</td>\n",
       "      <td>PK</td>\n",
       "      <td>75.52</td>\n",
       "      <td>few clouds</td>\n",
       "      <td>30.88</td>\n",
       "      <td>73.60</td>\n",
       "      <td>خالد کولنگ سنٹر</td>\n",
       "    </tr>\n",
       "    <tr>\n",
       "      <th>3</th>\n",
       "      <td>7</td>\n",
       "      <td>Kapaa</td>\n",
       "      <td>US</td>\n",
       "      <td>77.00</td>\n",
       "      <td>broken clouds</td>\n",
       "      <td>22.08</td>\n",
       "      <td>-159.32</td>\n",
       "      <td>Hotel Coral Reef</td>\n",
       "    </tr>\n",
       "    <tr>\n",
       "      <th>4</th>\n",
       "      <td>8</td>\n",
       "      <td>Mayo</td>\n",
       "      <td>US</td>\n",
       "      <td>64.99</td>\n",
       "      <td>clear sky</td>\n",
       "      <td>38.89</td>\n",
       "      <td>-76.51</td>\n",
       "      <td>NaN</td>\n",
       "    </tr>\n",
       "  </tbody>\n",
       "</table>\n",
       "</div>"
      ],
      "text/plain": [
       "   City_ID          City Country  Max Temp      Weather Desc    Lat     Lng  \\\n",
       "0        1   Nyaunglebin      MM     74.21  scattered clouds  17.95   96.73   \n",
       "1        4       Rikitea      PF     76.87   overcast clouds -23.12 -134.97   \n",
       "2        6  Renala Khurd      PK     75.52        few clouds  30.88   73.60   \n",
       "3        7         Kapaa      US     77.00     broken clouds  22.08 -159.32   \n",
       "4        8          Mayo      US     64.99         clear sky  38.89  -76.51   \n",
       "\n",
       "         Hotel Name  \n",
       "0       Royal Motel  \n",
       "1    Pension Maro'i  \n",
       "2   خالد کولنگ سنٹر  \n",
       "3  Hotel Coral Reef  \n",
       "4               NaN  "
      ]
     },
     "execution_count": 12,
     "metadata": {},
     "output_type": "execute_result"
    }
   ],
   "source": [
    "#1. Enable the “Directions API” in your Google account for your API key\n",
    "#2. Create a new Jupyter Notebook file and label it Vacation_Itinerary.ipynb.\n",
    "#3. Import the WeatherPy_vacation.csv file as a new DataFrame.\n",
    "\n",
    "# Read file from Part 2\n",
    "vacay_itinerary_df = pd.read_csv(\"weather_data/WeatherPy_vacation.csv\")\n",
    "vacay_itinerary_df.head()"
   ]
  },
  {
   "cell_type": "code",
   "execution_count": 13,
   "metadata": {},
   "outputs": [],
   "source": [
    "# Adding an info box template\n",
    "info_box_template = \"\"\"\n",
    "<dl>\n",
    "<dt>Hotel</dt><dd>{Hotel Name}</dd>\n",
    "<dt>City</dt><dd>{City}</dd>\n",
    "<dt>Country</dt><dd>{Country}</dd>\n",
    "<dt>Current Weather</dt><dd>{Weather Desc} and {Max Temp} °F</dd>\n",
    "</dl>\n",
    "\"\"\"\n",
    "\n",
    "# Store the DataFrame Row.\n",
    "hotel_info = [info_box_template.format(**row) for index, row in vacay_itinerary_df.iterrows()]"
   ]
  },
  {
   "cell_type": "code",
   "execution_count": 14,
   "metadata": {},
   "outputs": [
    {
     "data": {
      "application/vnd.jupyter.widget-view+json": {
       "model_id": "51d0405fcb8f4ddeac45b953e87e91d8",
       "version_major": 2,
       "version_minor": 0
      },
      "text/plain": [
       "Figure(layout=FigureLayout(height='420px'))"
      ]
     },
     "metadata": {},
     "output_type": "display_data"
    }
   ],
   "source": [
    "#4. From the vacation search map, choose at least four cities in close proximity on your map that are on the same continent that a customer might travel to, and then create a directions layer map.\n",
    "\n",
    "# Add a heatmap of temperature for the vacation spots and a pop-up marker for each city.\n",
    "locations = vacay_itinerary_df[[\"Lat\", \"Lng\"]]\n",
    "max_temp = vacay_itinerary_df[\"Max Temp\"]\n",
    "gmaps.configure(api_key=g_key)\n",
    "fig = gmaps.figure(center=(30.0, 31.0), zoom_level=1.5)\n",
    "heat_layer = gmaps.heatmap_layer(locations, weights=max_temp,dissipating=False,\n",
    "             max_intensity=300, point_radius=4)\n",
    "marker_layer = gmaps.marker_layer(locations, info_box_content=hotel_info)\n",
    "fig.add_layer(heat_layer)\n",
    "fig.add_layer(marker_layer)\n",
    "\n",
    "# Call the figure to plot the data.\n",
    "fig"
   ]
  },
  {
   "cell_type": "code",
   "execution_count": 15,
   "metadata": {},
   "outputs": [],
   "source": [
    "# Four Cities on the same continent ---> North America\n",
    "    #Portland Marriott City Center, Portland, OR USA\n",
    "    #Quality Inn Tulalip-Marysville, Marysville, WA USA\n",
    "    #A Snug Harbour Inn, Ucluelet, CANADA\n",
    "    #Hotel Victoria, Lillooet, CANADA    "
   ]
  },
  {
   "cell_type": "code",
   "execution_count": 63,
   "metadata": {},
   "outputs": [
    {
     "data": {
      "text/html": [
       "<div>\n",
       "<style scoped>\n",
       "    .dataframe tbody tr th:only-of-type {\n",
       "        vertical-align: middle;\n",
       "    }\n",
       "\n",
       "    .dataframe tbody tr th {\n",
       "        vertical-align: top;\n",
       "    }\n",
       "\n",
       "    .dataframe thead th {\n",
       "        text-align: right;\n",
       "    }\n",
       "</style>\n",
       "<table border=\"1\" class=\"dataframe\">\n",
       "  <thead>\n",
       "    <tr style=\"text-align: right;\">\n",
       "      <th></th>\n",
       "      <th>Lat</th>\n",
       "      <th>Lng</th>\n",
       "    </tr>\n",
       "  </thead>\n",
       "  <tbody>\n",
       "    <tr>\n",
       "      <th>0</th>\n",
       "      <td>17.95</td>\n",
       "      <td>96.73</td>\n",
       "    </tr>\n",
       "    <tr>\n",
       "      <th>1</th>\n",
       "      <td>-23.12</td>\n",
       "      <td>-134.97</td>\n",
       "    </tr>\n",
       "    <tr>\n",
       "      <th>2</th>\n",
       "      <td>30.88</td>\n",
       "      <td>73.60</td>\n",
       "    </tr>\n",
       "    <tr>\n",
       "      <th>3</th>\n",
       "      <td>22.08</td>\n",
       "      <td>-159.32</td>\n",
       "    </tr>\n",
       "    <tr>\n",
       "      <th>4</th>\n",
       "      <td>38.89</td>\n",
       "      <td>-76.51</td>\n",
       "    </tr>\n",
       "    <tr>\n",
       "      <th>...</th>\n",
       "      <td>...</td>\n",
       "      <td>...</td>\n",
       "    </tr>\n",
       "    <tr>\n",
       "      <th>362</th>\n",
       "      <td>22.57</td>\n",
       "      <td>59.53</td>\n",
       "    </tr>\n",
       "    <tr>\n",
       "      <th>363</th>\n",
       "      <td>-28.78</td>\n",
       "      <td>32.04</td>\n",
       "    </tr>\n",
       "    <tr>\n",
       "      <th>364</th>\n",
       "      <td>-3.37</td>\n",
       "      <td>135.48</td>\n",
       "    </tr>\n",
       "    <tr>\n",
       "      <th>365</th>\n",
       "      <td>42.44</td>\n",
       "      <td>-123.33</td>\n",
       "    </tr>\n",
       "    <tr>\n",
       "      <th>366</th>\n",
       "      <td>39.31</td>\n",
       "      <td>8.54</td>\n",
       "    </tr>\n",
       "  </tbody>\n",
       "</table>\n",
       "<p>367 rows × 2 columns</p>\n",
       "</div>"
      ],
      "text/plain": [
       "       Lat     Lng\n",
       "0    17.95   96.73\n",
       "1   -23.12 -134.97\n",
       "2    30.88   73.60\n",
       "3    22.08 -159.32\n",
       "4    38.89  -76.51\n",
       "..     ...     ...\n",
       "362  22.57   59.53\n",
       "363 -28.78   32.04\n",
       "364  -3.37  135.48\n",
       "365  42.44 -123.33\n",
       "366  39.31    8.54\n",
       "\n",
       "[367 rows x 2 columns]"
      ]
     },
     "execution_count": 63,
     "metadata": {},
     "output_type": "execute_result"
    }
   ],
   "source": [
    "# Create lat/long pairs for each city\n",
    "coordinates_df = locations\n",
    "coordinates_df"
   ]
  },
  {
   "cell_type": "code",
   "execution_count": 16,
   "metadata": {},
   "outputs": [
    {
     "data": {
      "application/vnd.jupyter.widget-view+json": {
       "model_id": "34a1ac7e66c04cc19cab7986ab8d9d61",
       "version_major": 2,
       "version_minor": 0
      },
      "text/plain": [
       "Figure(layout=FigureLayout(height='420px'))"
      ]
     },
     "metadata": {},
     "output_type": "display_data"
    }
   ],
   "source": [
    "# Driving directions 1st stop\n",
    "gmaps.configure(g_key)\n",
    "\n",
    "# Lat/long pairs\n",
    "portland = 45.52, -122.68\n",
    "marysville = 48.05, -122.18\n",
    "ucluelet = 48.93, -125.55\n",
    "lillooet = 50.69, -121.94\n",
    "\n",
    "fig = gmaps.figure()\n",
    "portland2marysville = gmaps.directions_layer(portland, marysville)\n",
    "fig.add_layer(portland2marysville)\n",
    "fig"
   ]
  },
  {
   "cell_type": "code",
   "execution_count": 27,
   "metadata": {},
   "outputs": [
    {
     "data": {
      "application/vnd.jupyter.widget-view+json": {
       "model_id": "890809f21e3d4fb8b47b83b82103d7a6",
       "version_major": 2,
       "version_minor": 0
      },
      "text/plain": [
       "Figure(layout=FigureLayout(height='420px'))"
      ]
     },
     "metadata": {},
     "output_type": "display_data"
    }
   ],
   "source": [
    "# Driving directions 2nd stop\n",
    "\n",
    "fig = gmaps.figure()\n",
    "portland2marysville_via_ucluelet = gmaps.directions_layer(\n",
    "        portland, ucluelet, waypoints=[marysville],\n",
    "        travel_mode='DRIVING')\n",
    "fig.add_layer(portland2marysville_via_ucluelet)\n",
    "fig"
   ]
  },
  {
   "cell_type": "code",
   "execution_count": 26,
   "metadata": {},
   "outputs": [
    {
     "data": {
      "application/vnd.jupyter.widget-view+json": {
       "model_id": "c5e91a3748594bcba627c558fe3d248b",
       "version_major": 2,
       "version_minor": 0
      },
      "text/plain": [
       "Figure(layout=FigureLayout(height='420px'))"
      ]
     },
     "metadata": {},
     "output_type": "display_data"
    }
   ],
   "source": [
    "# Directions by driving, final stop\n",
    "fig = gmaps.figure()\n",
    "portland2marysville_via_ucluelet_via_lillooet = gmaps.directions_layer(\n",
    "        portland, lillooet, waypoints=[marysville, ucluelet],\n",
    "        travel_mode='DRIVING')\n",
    "fig.add_layer(portland2marysville_via_ucluelet_via_lillooet)\n",
    "fig"
   ]
  },
  {
   "cell_type": "code",
   "execution_count": 67,
   "metadata": {},
   "outputs": [
    {
     "data": {
      "application/vnd.jupyter.widget-view+json": {
       "model_id": "6afe44373b92425b83ed4a5f5b0d8b80",
       "version_major": 2,
       "version_minor": 0
      },
      "text/plain": [
       "Figure(layout=FigureLayout(height='420px'))"
      ]
     },
     "metadata": {},
     "output_type": "display_data"
    }
   ],
   "source": [
    "# Directions by driving, final stop\n",
    "fig = gmaps.figure(coordinates_df)\n",
    "portland2marysville_via_ucluelet_via_lillooet = gmaps.directions_layer(\n",
    "        portland, lillooet, waypoints=[marysville, ucluelet],\n",
    "        travel_mode='DRIVING')\n",
    "fig.add_layer(portland2marysville_via_ucluelet_via_lillooet)\n",
    "fig"
   ]
  },
  {
   "cell_type": "code",
   "execution_count": 66,
   "metadata": {},
   "outputs": [
    {
     "data": {
      "application/vnd.jupyter.widget-view+json": {
       "model_id": "62778879bd98468e9fb2741feed9ae1e",
       "version_major": 2,
       "version_minor": 0
      },
      "text/plain": [
       "Figure(layout=FigureLayout(height='420px'))"
      ]
     },
     "metadata": {},
     "output_type": "display_data"
    }
   ],
   "source": [
    "# Adding an info box template\n",
    "info_box_template = \"\"\"\n",
    "<dl>\n",
    "<dt>Hotel</dt><dd>{Hotel Name}</dd>\n",
    "<dt>City</dt><dd>{City}</dd>\n",
    "<dt>Country</dt><dd>{Country}</dd>\n",
    "<dt>Current Weather</dt><dd>{Weather Desc} and {Max Temp} °F</dd>\n",
    "</dl>\n",
    "\"\"\"\n",
    "\n",
    "# Store the DataFrame Row.\n",
    "coordinates_df = [info_box_template.format]\n",
    "fig"
   ]
  },
  {
   "cell_type": "code",
   "execution_count": 65,
   "metadata": {},
   "outputs": [
    {
     "data": {
      "application/vnd.jupyter.widget-view+json": {
       "model_id": "62778879bd98468e9fb2741feed9ae1e",
       "version_major": 2,
       "version_minor": 0
      },
      "text/plain": [
       "Figure(layout=FigureLayout(height='420px'))"
      ]
     },
     "metadata": {},
     "output_type": "display_data"
    }
   ],
   "source": [
    "# Directions by driving, final stop\n",
    "fig = gmaps.figure()\n",
    "portland2marysville_via_ucluelet_via_lillooet = gmaps.directions_layer(\n",
    "        portland, lillooet, waypoints=[marysville, ucluelet],\n",
    "        travel_mode='DRIVING')\n",
    "fig.add_layer(portland2marysville_via_ucluelet_via_lillooet)\n",
    "fig"
   ]
  },
  {
   "cell_type": "code",
   "execution_count": null,
   "metadata": {},
   "outputs": [],
   "source": []
  },
  {
   "cell_type": "code",
   "execution_count": null,
   "metadata": {},
   "outputs": [],
   "source": []
  },
  {
   "cell_type": "code",
   "execution_count": null,
   "metadata": {},
   "outputs": [],
   "source": []
  },
  {
   "cell_type": "code",
   "execution_count": null,
   "metadata": {},
   "outputs": [],
   "source": []
  }
 ],
 "metadata": {
  "kernelspec": {
   "display_name": "PythonData",
   "language": "python",
   "name": "pythondata"
  },
  "language_info": {
   "codemirror_mode": {
    "name": "ipython",
    "version": 3
   },
   "file_extension": ".py",
   "mimetype": "text/x-python",
   "name": "python",
   "nbconvert_exporter": "python",
   "pygments_lexer": "ipython3",
   "version": "3.7.6"
  }
 },
 "nbformat": 4,
 "nbformat_minor": 4
}
