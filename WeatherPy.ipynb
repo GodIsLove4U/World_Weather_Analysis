{
 "cells": [
  {
   "cell_type": "code",
   "execution_count": 1,
   "metadata": {},
   "outputs": [],
   "source": [
    "# Import the dependencies.\n",
    "import pandas as pd\n",
    "import matplotlib.pyplot as plt\n",
    "import numpy as np\n",
    "import random\n",
    "\n",
    "# Import timeit.\n",
    "import timeit"
   ]
  },
  {
   "cell_type": "code",
   "execution_count": 2,
   "metadata": {},
   "outputs": [
    {
     "data": {
      "text/plain": [
       "-10"
      ]
     },
     "execution_count": 2,
     "metadata": {},
     "output_type": "execute_result"
    }
   ],
   "source": [
    "random.randint(-90,90)"
   ]
  },
  {
   "cell_type": "code",
   "execution_count": 3,
   "metadata": {},
   "outputs": [
    {
     "data": {
      "text/plain": [
       "0.8706903626353382"
      ]
     },
     "execution_count": 3,
     "metadata": {},
     "output_type": "execute_result"
    }
   ],
   "source": [
    "random.random()"
   ]
  },
  {
   "cell_type": "code",
   "execution_count": 4,
   "metadata": {},
   "outputs": [
    {
     "data": {
      "text/plain": [
       "-38.95839945515247"
      ]
     },
     "execution_count": 4,
     "metadata": {},
     "output_type": "execute_result"
    }
   ],
   "source": [
    "random_number = random.randint(-90,90) + random.random()\n",
    "random_number"
   ]
  },
  {
   "cell_type": "code",
   "execution_count": 5,
   "metadata": {},
   "outputs": [
    {
     "data": {
      "text/plain": [
       "[64.99680561769323,\n",
       " -75.38121209602062,\n",
       " -46.042007423574525,\n",
       " 63.25926990286818,\n",
       " -54.749993086660126,\n",
       " 65.28278010564432,\n",
       " 87.81924984748585,\n",
       " -17.31693101827083,\n",
       " 38.4556706212852,\n",
       " 10.059044174872135]"
      ]
     },
     "execution_count": 5,
     "metadata": {},
     "output_type": "execute_result"
    }
   ],
   "source": [
    "x = 1\n",
    "latitudes = []\n",
    "while x < 11:\n",
    "    random_lat = random.randint(-90, 90) + random.random()\n",
    "    latitudes.append(random_lat)\n",
    "    x += 1\n",
    "latitudes"
   ]
  },
  {
   "cell_type": "code",
   "execution_count": 6,
   "metadata": {},
   "outputs": [
    {
     "data": {
      "text/plain": [
       "-19"
      ]
     },
     "execution_count": 6,
     "metadata": {},
     "output_type": "execute_result"
    }
   ],
   "source": [
    "random.randrange(-90,90, step=1)"
   ]
  },
  {
   "cell_type": "code",
   "execution_count": 7,
   "metadata": {},
   "outputs": [
    {
     "data": {
      "text/plain": [
       "72"
      ]
     },
     "execution_count": 7,
     "metadata": {},
     "output_type": "execute_result"
    }
   ],
   "source": [
    "random.randrange(-90,90, step=3)"
   ]
  },
  {
   "cell_type": "code",
   "execution_count": 8,
   "metadata": {},
   "outputs": [
    {
     "data": {
      "text/plain": [
       "-34.49658956869412"
      ]
     },
     "execution_count": 8,
     "metadata": {},
     "output_type": "execute_result"
    }
   ],
   "source": [
    "random.uniform(-90,90)"
   ]
  },
  {
   "cell_type": "code",
   "execution_count": 9,
   "metadata": {},
   "outputs": [
    {
     "data": {
      "text/plain": [
       "array([-8.28098799e+01, -2.34142051e+01,  3.23124999e+01, -2.30001348e+01,\n",
       "        6.02352950e+01,  1.79243529e+01,  8.05134137e-02,  4.96250466e+00,\n",
       "       -3.30642922e+01, -8.91234193e+01,  4.94425725e+00,  2.39167185e+01,\n",
       "       -1.74660857e+01,  3.43108735e+01, -8.84174485e+00,  4.83280603e+01,\n",
       "        2.60696836e+01, -7.77979753e+01, -4.90972059e+01, -7.39621833e+01,\n",
       "       -3.27027611e+01, -1.70938232e+01,  2.79329164e+01,  6.49850382e+01,\n",
       "       -4.65657450e+01,  4.27247068e+01,  3.37132056e+01, -6.37311396e-01,\n",
       "       -4.16613221e+01, -5.68846380e+01, -6.43422934e+01,  8.74386346e+01,\n",
       "        4.36826112e+00,  4.43770331e+01, -8.42292768e+01,  5.08747387e+01,\n",
       "       -8.28929932e+01,  3.00444847e+01, -8.19418261e+01, -8.47432926e+01,\n",
       "        5.42312079e+01,  3.98661949e+01, -1.31202502e+01,  7.23554754e+01,\n",
       "        2.36855895e+01, -2.10027910e+01,  8.06449237e+01, -5.53425060e+01,\n",
       "       -4.06099866e-01,  6.59076044e+01])"
      ]
     },
     "execution_count": 9,
     "metadata": {},
     "output_type": "execute_result"
    }
   ],
   "source": [
    "np.random.uniform(-90.000,90.000, size=50)"
   ]
  },
  {
   "cell_type": "code",
   "execution_count": 10,
   "metadata": {},
   "outputs": [
    {
     "name": "stdout",
     "output_type": "stream",
     "text": [
      "49.8 µs ± 10.3 µs per loop (mean ± std. dev. of 7 runs, 10000 loops each)\n"
     ]
    }
   ],
   "source": [
    "%timeit np.random.uniform(-90.000, 90.000, size=1500)"
   ]
  },
  {
   "cell_type": "code",
   "execution_count": 11,
   "metadata": {},
   "outputs": [
    {
     "name": "stdout",
     "output_type": "stream",
     "text": [
      "4.81 ms ± 805 µs per loop (mean ± std. dev. of 7 runs, 100 loops each)\n"
     ]
    }
   ],
   "source": [
    "def latitudes(size):\n",
    "    latitudes = []\n",
    "    x = 0\n",
    "    while x < (size):\n",
    "        random_lat = random.randint(-90, 90) + random.random()\n",
    "        latitudes.append(random_lat)\n",
    "        x += 1\n",
    "    return latitudes\n",
    "# Call the function with 1500. \n",
    "%timeit latitudes(1500)"
   ]
  },
  {
   "cell_type": "code",
   "execution_count": 12,
   "metadata": {},
   "outputs": [
    {
     "data": {
      "text/plain": [
       "array([ 56.29801671,  30.11773729, -61.81346209, ..., -40.7362536 ,\n",
       "        -8.86898774,  46.30359602])"
      ]
     },
     "execution_count": 12,
     "metadata": {},
     "output_type": "execute_result"
    }
   ],
   "source": [
    "np.random.uniform(-90.000,90.000, size=1500)"
   ]
  },
  {
   "cell_type": "code",
   "execution_count": 13,
   "metadata": {},
   "outputs": [],
   "source": [
    "# Create a practice set of random latitude and longitude combinations.\n",
    "x = [25.12903645, 25.92017388, 26.62509167, -59.98969384, 37.30571269]\n",
    "y = [-67.59741259, 11.09532135, 74.84233102, -76.89176677, -61.13376282]\n",
    "coordinates = zip(x, y)"
   ]
  },
  {
   "cell_type": "code",
   "execution_count": 14,
   "metadata": {},
   "outputs": [
    {
     "data": {
      "text/plain": [
       "<zip at 0x178b9d44b48>"
      ]
     },
     "execution_count": 14,
     "metadata": {},
     "output_type": "execute_result"
    }
   ],
   "source": [
    "# Create a set of random latitude and longitude combinations.\n",
    "lats = np.random.uniform(low=-90.000, high=90.000, size=1500)\n",
    "lngs = np.random.uniform(low=-180.000, high=180.000, size=1500)\n",
    "lat_lngs = zip(lats, lngs)\n",
    "lat_lngs"
   ]
  },
  {
   "cell_type": "code",
   "execution_count": 15,
   "metadata": {},
   "outputs": [
    {
     "name": "stdout",
     "output_type": "stream",
     "text": [
      "25.12903645 -67.59741259\n",
      "25.92017388 11.09532135\n",
      "26.62509167 74.84233102\n",
      "-59.98969384 -76.89176677\n",
      "37.30571269 -61.13376282\n"
     ]
    }
   ],
   "source": [
    "# Use the tuple() function to display the latitude and longitude combinations.\n",
    "for coordinate in coordinates:\n",
    "    print(coordinate[0], coordinate[1])"
   ]
  },
  {
   "cell_type": "code",
   "execution_count": 16,
   "metadata": {},
   "outputs": [],
   "source": [
    "# Add the latitudes and longitudes to a list.\n",
    "coordinates = list(lat_lngs)"
   ]
  },
  {
   "cell_type": "code",
   "execution_count": 17,
   "metadata": {},
   "outputs": [],
   "source": [
    "import citipy\n",
    "from citipy import citipy"
   ]
  },
  {
   "cell_type": "code",
   "execution_count": 18,
   "metadata": {},
   "outputs": [
    {
     "data": {
      "text/plain": [
       "615"
      ]
     },
     "execution_count": 18,
     "metadata": {},
     "output_type": "execute_result"
    }
   ],
   "source": [
    "# Create a list for holding the cities.\n",
    "cities = []\n",
    "# Identify the nearest city for each latitude and longitude combination.\n",
    "for coordinate in coordinates:\n",
    "    city = citipy.nearest_city(coordinate[0], coordinate[1]).city_name\n",
    "    \n",
    "    # If the city is unique, then we will add it to the cities list.\n",
    "    if city not in cities:\n",
    "        cities.append(city)\n",
    "# Print the city count to confirm sufficient count.\n",
    "len(cities)"
   ]
  },
  {
   "cell_type": "code",
   "execution_count": 19,
   "metadata": {},
   "outputs": [
    {
     "data": {
      "text/plain": [
       "'2.23.0'"
      ]
     },
     "execution_count": 19,
     "metadata": {},
     "output_type": "execute_result"
    }
   ],
   "source": [
    "import requests\n",
    "requests.__version__"
   ]
  },
  {
   "cell_type": "code",
   "execution_count": 20,
   "metadata": {},
   "outputs": [],
   "source": [
    "# Import the requests library.\n",
    "import requests\n",
    "\n",
    "# Import the API key.\n",
    "from config import weather_api_key"
   ]
  },
  {
   "cell_type": "code",
   "execution_count": 21,
   "metadata": {},
   "outputs": [
    {
     "name": "stdout",
     "output_type": "stream",
     "text": [
      "http://api.openweathermap.org/data/2.5/weather?units=Imperial&APPID=6235ab836a483e7e2fa7008844d35986\n"
     ]
    }
   ],
   "source": [
    "#https://samples.openweathermap.org/data/2.5/weather?q=London,uk&appid=439d4b804bc8187953eb36d2a8c26a02\n",
    "\n",
    "# Starting URL for Weather Map API Call.\n",
    "url = \"http://api.openweathermap.org/data/2.5/weather?units=Imperial&APPID=\" + weather_api_key\n",
    "print(url)"
   ]
  },
  {
   "cell_type": "code",
   "execution_count": 22,
   "metadata": {},
   "outputs": [
    {
     "name": "stdout",
     "output_type": "stream",
     "text": [
      "http://api.openweathermap.org/data/2.5/weather?units=Imperial&APPID=6235ab836a483e7e2fa7008844d35986&q=Boston\n"
     ]
    }
   ],
   "source": [
    "# Create an endpoint URL for a city.\n",
    "city_url = url + \"&q=\" + \"Boston\"\n",
    "print(city_url)"
   ]
  },
  {
   "cell_type": "code",
   "execution_count": 23,
   "metadata": {},
   "outputs": [],
   "source": [
    "#weather_response = requests.get(city_url)\n",
    "#weather_json = weather_respons.json()"
   ]
  },
  {
   "cell_type": "code",
   "execution_count": 24,
   "metadata": {},
   "outputs": [
    {
     "data": {
      "text/plain": [
       "<Response [200]>"
      ]
     },
     "execution_count": 24,
     "metadata": {},
     "output_type": "execute_result"
    }
   ],
   "source": [
    "# Make a 'Get' request for the city weather.\n",
    "city_weather = requests.get(city_url)\n",
    "city_weather"
   ]
  },
  {
   "cell_type": "code",
   "execution_count": 25,
   "metadata": {},
   "outputs": [
    {
     "data": {
      "text/plain": [
       "<Response [200]>"
      ]
     },
     "execution_count": 25,
     "metadata": {},
     "output_type": "execute_result"
    }
   ],
   "source": [
    "# Create an endpoint URL for a city.\n",
    "city_url = url + \"&q=\" + \"Boston\"\n",
    "city_weather = requests.get(city_url)\n",
    "city_weather"
   ]
  },
  {
   "cell_type": "code",
   "execution_count": 26,
   "metadata": {},
   "outputs": [
    {
     "data": {
      "text/plain": [
       "'{\"coord\":{\"lon\":-71.06,\"lat\":42.36},\"weather\":[{\"id\":804,\"main\":\"Clouds\",\"description\":\"overcast clouds\",\"icon\":\"04n\"}],\"base\":\"stations\",\"main\":{\"temp\":47.19,\"feels_like\":37.72,\"temp_min\":44.01,\"temp_max\":50,\"pressure\":1015,\"humidity\":25},\"visibility\":16093,\"wind\":{\"speed\":6.93,\"deg\":300},\"clouds\":{\"all\":90},\"dt\":1586924725,\"sys\":{\"type\":1,\"id\":3486,\"country\":\"US\",\"sunrise\":1586944936,\"sunset\":1586993134},\"timezone\":-14400,\"id\":4930956,\"name\":\"Boston\",\"cod\":200}'"
      ]
     },
     "execution_count": 26,
     "metadata": {},
     "output_type": "execute_result"
    }
   ],
   "source": [
    "# Get the text of the 'Get' request.\n",
    "city_weather.text"
   ]
  },
  {
   "cell_type": "code",
   "execution_count": 27,
   "metadata": {},
   "outputs": [
    {
     "data": {
      "text/plain": [
       "{'coord': {'lon': -71.06, 'lat': 42.36},\n",
       " 'weather': [{'id': 804,\n",
       "   'main': 'Clouds',\n",
       "   'description': 'overcast clouds',\n",
       "   'icon': '04n'}],\n",
       " 'base': 'stations',\n",
       " 'main': {'temp': 47.19,\n",
       "  'feels_like': 37.72,\n",
       "  'temp_min': 44.01,\n",
       "  'temp_max': 50,\n",
       "  'pressure': 1015,\n",
       "  'humidity': 25},\n",
       " 'visibility': 16093,\n",
       " 'wind': {'speed': 6.93, 'deg': 300},\n",
       " 'clouds': {'all': 90},\n",
       " 'dt': 1586924725,\n",
       " 'sys': {'type': 1,\n",
       "  'id': 3486,\n",
       "  'country': 'US',\n",
       "  'sunrise': 1586944936,\n",
       "  'sunset': 1586993134},\n",
       " 'timezone': -14400,\n",
       " 'id': 4930956,\n",
       " 'name': 'Boston',\n",
       " 'cod': 200}"
      ]
     },
     "execution_count": 27,
     "metadata": {},
     "output_type": "execute_result"
    }
   ],
   "source": [
    "# Get the JSON text of the 'Get' request.\n",
    "city_weather.json()"
   ]
  },
  {
   "cell_type": "code",
   "execution_count": 28,
   "metadata": {},
   "outputs": [
    {
     "name": "stdout",
     "output_type": "stream",
     "text": [
      "City Weather found.\n"
     ]
    }
   ],
   "source": [
    "# Create an endpoint URL for a city.\n",
    "city_url = url + \"&q=\" + \"Boston\"\n",
    "city_weather = requests.get(city_url)\n",
    "if city_weather.status_code == 200:\n",
    "    print(f\"City Weather found.\")\n",
    "else:\n",
    "    print(f\"City weather not found.\")"
   ]
  },
  {
   "cell_type": "code",
   "execution_count": 29,
   "metadata": {},
   "outputs": [
    {
     "name": "stdout",
     "output_type": "stream",
     "text": [
      "City Weather found.\n"
     ]
    }
   ],
   "source": [
    "# Create an endpoint URL for a city.\n",
    "city_url = url + \"&q=\" + \"Bston\"\n",
    "city_weather = requests.get(city_url)\n",
    "if city_weather.json():\n",
    "    print(f\"City Weather found.\")\n",
    "else:\n",
    "    print(f\"City weather not found.\")"
   ]
  },
  {
   "cell_type": "code",
   "execution_count": 30,
   "metadata": {},
   "outputs": [
    {
     "name": "stdout",
     "output_type": "stream",
     "text": [
      "http://api.openweathermap.org/data/2.5/weather?units=Imperial&APPID=6235ab836a483e7e2fa7008844d35986&q=Bston\n"
     ]
    }
   ],
   "source": [
    "print(city_url)"
   ]
  },
  {
   "cell_type": "code",
   "execution_count": 31,
   "metadata": {},
   "outputs": [
    {
     "data": {
      "text/plain": [
       "{'coord': {'lon': -71.06, 'lat': 42.36},\n",
       " 'weather': [{'id': 804,\n",
       "   'main': 'Clouds',\n",
       "   'description': 'overcast clouds',\n",
       "   'icon': '04n'}],\n",
       " 'base': 'stations',\n",
       " 'main': {'temp': 47.19,\n",
       "  'feels_like': 37.72,\n",
       "  'temp_min': 44.01,\n",
       "  'temp_max': 50,\n",
       "  'pressure': 1015,\n",
       "  'humidity': 25},\n",
       " 'visibility': 16093,\n",
       " 'wind': {'speed': 6.93, 'deg': 300},\n",
       " 'clouds': {'all': 90},\n",
       " 'dt': 1586924725,\n",
       " 'sys': {'type': 1,\n",
       "  'id': 3486,\n",
       "  'country': 'US',\n",
       "  'sunrise': 1586944936,\n",
       "  'sunset': 1586993134},\n",
       " 'timezone': -14400,\n",
       " 'id': 4930956,\n",
       " 'name': 'Boston',\n",
       " 'cod': 200}"
      ]
     },
     "execution_count": 31,
     "metadata": {},
     "output_type": "execute_result"
    }
   ],
   "source": [
    "# Create an endpoint URL for a city.\n",
    "city_url = url + \"&q=\" + \"Boston\"\n",
    "city_weather = requests.get(city_url)\n",
    "city_weather.json()"
   ]
  },
  {
   "cell_type": "code",
   "execution_count": 34,
   "metadata": {},
   "outputs": [],
   "source": [
    "boston_data = city_weather.json()"
   ]
  },
  {
   "cell_type": "code",
   "execution_count": 35,
   "metadata": {},
   "outputs": [
    {
     "data": {
      "text/plain": [
       "{'coord': {'lon': -71.06, 'lat': 42.36},\n",
       " 'weather': [{'id': 804,\n",
       "   'main': 'Clouds',\n",
       "   'description': 'overcast clouds',\n",
       "   'icon': '04n'}],\n",
       " 'base': 'stations',\n",
       " 'main': {'temp': 47.19,\n",
       "  'feels_like': 37.72,\n",
       "  'temp_min': 44.01,\n",
       "  'temp_max': {'coord': {'lon': -71.06, 'lat': 42.36},\n",
       "   'weather': [{'id': 804,\n",
       "     'main': 'Clouds',\n",
       "     'description': 'overcast clouds',\n",
       "     'icon': '04n'}],\n",
       "   'base': 'stations',\n",
       "   'main': {'temp': 47.19,\n",
       "    'feels_like': 37.72,\n",
       "    'temp_min': 44.01,\n",
       "    'temp_max': 50,\n",
       "    'pressure': 1015,\n",
       "    'humidity': 25},\n",
       "   'visibility': 16093,\n",
       "   'wind': {'speed': 6.93, 'deg': 300},\n",
       "   'clouds': {'all': 90},\n",
       "   'dt': 1586924725,\n",
       "   'sys': {'type': 1,\n",
       "    'id': 3486,\n",
       "    'country': 'US',\n",
       "    'sunrise': 1586944936,\n",
       "    'sunset': 1586993134},\n",
       "   'timezone': -14400,\n",
       "   'id': 4930956,\n",
       "   'name': 'Boston',\n",
       "   'cod': 200},\n",
       "  'pressure': 1015,\n",
       "  'humidity': 25},\n",
       " 'visibility': 16093,\n",
       " 'wind': {'speed': 6.93, 'deg': 300},\n",
       " 'clouds': {'all': 90},\n",
       " 'dt': 1586924725,\n",
       " 'sys': {'type': 1,\n",
       "  'id': 3486,\n",
       "  'country': 'US',\n",
       "  'sunrise': 1586944936,\n",
       "  'sunset': 1586993134},\n",
       " 'timezone': -14400,\n",
       " 'id': 4930956,\n",
       " 'name': 'Boston',\n",
       " 'cod': 200}"
      ]
     },
     "execution_count": 35,
     "metadata": {},
     "output_type": "execute_result"
    }
   ],
   "source": [
    "# Get the JSON data.\n",
    "#boston_data['coord']['lat'] = city_weather.json()\n",
    "boston_data['main']['temp_max'] = city_weather.json()\n",
    "boston_data"
   ]
  },
  {
   "cell_type": "code",
   "execution_count": 36,
   "metadata": {},
   "outputs": [
    {
     "name": "stdout",
     "output_type": "stream",
     "text": [
      "42.36 -71.06 {'coord': {'lon': -71.06, 'lat': 42.36}, 'weather': [{'id': 804, 'main': 'Clouds', 'description': 'overcast clouds', 'icon': '04n'}], 'base': 'stations', 'main': {'temp': 47.19, 'feels_like': 37.72, 'temp_min': 44.01, 'temp_max': 50, 'pressure': 1015, 'humidity': 25}, 'visibility': 16093, 'wind': {'speed': 6.93, 'deg': 300}, 'clouds': {'all': 90}, 'dt': 1586924725, 'sys': {'type': 1, 'id': 3486, 'country': 'US', 'sunrise': 1586944936, 'sunset': 1586993134}, 'timezone': -14400, 'id': 4930956, 'name': 'Boston', 'cod': 200} 25 90 6.93\n"
     ]
    }
   ],
   "source": [
    "lat = boston_data[\"coord\"][\"lat\"]\n",
    "lng = boston_data[\"coord\"][\"lon\"]\n",
    "max_temp = boston_data[\"main\"][\"temp_max\"]\n",
    "humidity = boston_data[\"main\"][\"humidity\"]\n",
    "clouds = boston_data[\"clouds\"][\"all\"]\n",
    "wind = boston_data[\"wind\"][\"speed\"]\n",
    "print(lat, lng, max_temp, humidity, clouds, wind)"
   ]
  },
  {
   "cell_type": "code",
   "execution_count": 37,
   "metadata": {},
   "outputs": [
    {
     "data": {
      "text/plain": [
       "'2020-04-15 04:25:25'"
      ]
     },
     "execution_count": 37,
     "metadata": {},
     "output_type": "execute_result"
    }
   ],
   "source": [
    "# Import the datetime module from the datetime library.\n",
    "from datetime import datetime\n",
    "# Get the date from the JSON file.\n",
    "date = boston_data[\"dt\"]\n",
    "# Convert the UTC date to a date format with year, month, day, hours, minutes, and seconds.\n",
    "datetime.utcfromtimestamp(date).strftime('%Y-%m-%d %H:%M:%S')"
   ]
  },
  {
   "cell_type": "code",
   "execution_count": 38,
   "metadata": {},
   "outputs": [
    {
     "name": "stdout",
     "output_type": "stream",
     "text": [
      "Beginning Data Retrieval     \n",
      "-----------------------------\n"
     ]
    }
   ],
   "source": [
    "# Create an empty list to hold the weather data.\n",
    "city_data = []\n",
    "# Print the beginning of the logging.\n",
    "print(\"Beginning Data Retrieval     \")\n",
    "print(\"-----------------------------\")\n",
    "\n",
    "# Create counters.\n",
    "record_count = 1\n",
    "set_count = 1"
   ]
  },
  {
   "cell_type": "code",
   "execution_count": 39,
   "metadata": {},
   "outputs": [
    {
     "name": "stdout",
     "output_type": "stream",
     "text": [
      "Processing Record 1 of Set 1 | rikitea\n",
      "Processing Record 2 of Set 1 | bonthe\n",
      "Processing Record 3 of Set 1 | warqla\n",
      "City not found. Skipping...\n",
      "Processing Record 4 of Set 1 | barentsburg\n",
      "City not found. Skipping...\n",
      "Processing Record 5 of Set 1 | noumea\n",
      "Processing Record 6 of Set 1 | bengkulu\n",
      "Processing Record 7 of Set 1 | waipawa\n",
      "Processing Record 8 of Set 1 | victoria\n",
      "Processing Record 9 of Set 1 | arraial do cabo\n",
      "Processing Record 10 of Set 1 | birao\n",
      "Processing Record 11 of Set 1 | shangrao\n",
      "Processing Record 12 of Set 1 | hithadhoo\n",
      "Processing Record 13 of Set 1 | avarua\n",
      "Processing Record 14 of Set 1 | kapaa\n",
      "Processing Record 15 of Set 1 | katsuura\n",
      "Processing Record 16 of Set 1 | mataura\n",
      "Processing Record 17 of Set 1 | tuktoyaktuk\n",
      "Processing Record 18 of Set 1 | nishihara\n",
      "Processing Record 19 of Set 1 | vaini\n",
      "Processing Record 20 of Set 1 | punta arenas\n",
      "Processing Record 21 of Set 1 | tasiilaq\n",
      "Processing Record 22 of Set 1 | tumannyy\n",
      "City not found. Skipping...\n",
      "Processing Record 23 of Set 1 | aitape\n",
      "Processing Record 24 of Set 1 | nizhneyansk\n",
      "City not found. Skipping...\n",
      "Processing Record 25 of Set 1 | hobart\n",
      "Processing Record 26 of Set 1 | hualmay\n",
      "Processing Record 27 of Set 1 | loukhi\n",
      "Processing Record 28 of Set 1 | lensk\n",
      "Processing Record 29 of Set 1 | catamarca\n",
      "Processing Record 30 of Set 1 | ushuaia\n",
      "Processing Record 31 of Set 1 | nuuk\n",
      "Processing Record 32 of Set 1 | fallon\n",
      "Processing Record 33 of Set 1 | tomatlan\n",
      "Processing Record 34 of Set 1 | mitchell\n",
      "Processing Record 35 of Set 1 | fairbanks\n",
      "Processing Record 36 of Set 1 | east london\n",
      "Processing Record 37 of Set 1 | cidreira\n",
      "Processing Record 38 of Set 1 | taolanaro\n",
      "City not found. Skipping...\n",
      "Processing Record 39 of Set 1 | agucadoura\n",
      "Processing Record 40 of Set 1 | bandarbeyla\n",
      "Processing Record 41 of Set 1 | upernavik\n",
      "Processing Record 42 of Set 1 | mar del plata\n",
      "Processing Record 43 of Set 1 | butaritari\n",
      "Processing Record 44 of Set 1 | portland\n",
      "Processing Record 45 of Set 1 | port lincoln\n",
      "Processing Record 46 of Set 1 | plettenberg bay\n",
      "Processing Record 47 of Set 1 | vila do maio\n",
      "Processing Record 48 of Set 1 | albany\n",
      "Processing Record 49 of Set 1 | georgetown\n",
      "Processing Record 50 of Set 1 | itaituba\n",
      "Processing Record 1 of Set 2 | verkhnyaya inta\n",
      "Processing Record 2 of Set 2 | faya\n",
      "Processing Record 3 of Set 2 | tawkar\n",
      "City not found. Skipping...\n",
      "Processing Record 4 of Set 2 | amderma\n",
      "City not found. Skipping...\n",
      "Processing Record 5 of Set 2 | bluff\n",
      "Processing Record 6 of Set 2 | bairiki\n",
      "Processing Record 7 of Set 2 | constitucion\n",
      "Processing Record 8 of Set 2 | norman wells\n",
      "Processing Record 9 of Set 2 | santa maria\n",
      "Processing Record 10 of Set 2 | iqaluit\n",
      "Processing Record 11 of Set 2 | maragogi\n",
      "Processing Record 12 of Set 2 | port hawkesbury\n",
      "Processing Record 13 of Set 2 | asmara\n",
      "Processing Record 14 of Set 2 | puerto ayora\n",
      "Processing Record 15 of Set 2 | busselton\n",
      "Processing Record 16 of Set 2 | hermanus\n",
      "Processing Record 17 of Set 2 | lompoc\n",
      "Processing Record 18 of Set 2 | tazovskiy\n",
      "Processing Record 19 of Set 2 | ponta do sol\n",
      "Processing Record 20 of Set 2 | pangnirtung\n",
      "Processing Record 21 of Set 2 | port alfred\n",
      "Processing Record 22 of Set 2 | coquimbo\n",
      "Processing Record 23 of Set 2 | tahta\n",
      "Processing Record 24 of Set 2 | saskylakh\n",
      "Processing Record 25 of Set 2 | illoqqortoormiut\n",
      "City not found. Skipping...\n",
      "Processing Record 26 of Set 2 | faanui\n",
      "Processing Record 27 of Set 2 | harer\n",
      "Processing Record 28 of Set 2 | cape town\n",
      "Processing Record 29 of Set 2 | thongwa\n",
      "Processing Record 30 of Set 2 | atuona\n",
      "Processing Record 31 of Set 2 | palmer\n",
      "Processing Record 32 of Set 2 | qaanaaq\n",
      "Processing Record 33 of Set 2 | bereda\n",
      "Processing Record 34 of Set 2 | basco\n",
      "Processing Record 35 of Set 2 | yellowknife\n",
      "Processing Record 36 of Set 2 | hilo\n",
      "Processing Record 37 of Set 2 | ojinaga\n",
      "Processing Record 38 of Set 2 | leh\n",
      "Processing Record 39 of Set 2 | pacific grove\n",
      "Processing Record 40 of Set 2 | ngukurr\n",
      "City not found. Skipping...\n",
      "Processing Record 41 of Set 2 | ketchikan\n",
      "Processing Record 42 of Set 2 | mount isa\n",
      "Processing Record 43 of Set 2 | dabakala\n",
      "Processing Record 44 of Set 2 | attawapiskat\n",
      "City not found. Skipping...\n",
      "Processing Record 45 of Set 2 | inta\n",
      "Processing Record 46 of Set 2 | jamestown\n",
      "Processing Record 47 of Set 2 | castro\n",
      "Processing Record 48 of Set 2 | thompson\n",
      "Processing Record 49 of Set 2 | barrow\n",
      "Processing Record 50 of Set 2 | louisbourg\n",
      "City not found. Skipping...\n",
      "Processing Record 1 of Set 3 | liepaja\n",
      "Processing Record 2 of Set 3 | balaipungut\n",
      "Processing Record 3 of Set 3 | ust-maya\n",
      "Processing Record 4 of Set 3 | noshiro\n",
      "Processing Record 5 of Set 3 | berlevag\n",
      "Processing Record 6 of Set 3 | rawson\n",
      "Processing Record 7 of Set 3 | longyearbyen\n",
      "Processing Record 8 of Set 3 | mys shmidta\n",
      "City not found. Skipping...\n",
      "Processing Record 9 of Set 3 | panama city\n",
      "Processing Record 10 of Set 3 | kaoma\n",
      "Processing Record 11 of Set 3 | victor harbor\n",
      "Processing Record 12 of Set 3 | te anau\n",
      "Processing Record 13 of Set 3 | lavrentiya\n",
      "Processing Record 14 of Set 3 | mahebourg\n",
      "Processing Record 15 of Set 3 | dikson\n",
      "Processing Record 16 of Set 3 | guaraniacu\n",
      "Processing Record 17 of Set 3 | bafq\n",
      "Processing Record 18 of Set 3 | new norfolk\n",
      "Processing Record 19 of Set 3 | miraflores\n",
      "Processing Record 20 of Set 3 | ponta delgada\n",
      "Processing Record 21 of Set 3 | bilibino\n",
      "Processing Record 22 of Set 3 | ongole\n",
      "Processing Record 23 of Set 3 | bilma\n",
      "Processing Record 24 of Set 3 | atambua\n",
      "Processing Record 25 of Set 3 | calama\n",
      "Processing Record 26 of Set 3 | male\n",
      "Processing Record 27 of Set 3 | torbay\n",
      "Processing Record 28 of Set 3 | ancud\n",
      "Processing Record 29 of Set 3 | randazzo\n",
      "Processing Record 30 of Set 3 | tiksi\n",
      "Processing Record 31 of Set 3 | straseni\n",
      "Processing Record 32 of Set 3 | neryungri\n",
      "Processing Record 33 of Set 3 | sioux lookout\n",
      "Processing Record 34 of Set 3 | chihuahua\n",
      "Processing Record 35 of Set 3 | westport\n",
      "Processing Record 36 of Set 3 | oskarshamn\n",
      "Processing Record 37 of Set 3 | port elizabeth\n",
      "Processing Record 38 of Set 3 | tuatapere\n",
      "Processing Record 39 of Set 3 | san quintin\n",
      "Processing Record 40 of Set 3 | kruisfontein\n",
      "Processing Record 41 of Set 3 | abalak\n",
      "Processing Record 42 of Set 3 | kodiak\n",
      "Processing Record 43 of Set 3 | rasra\n",
      "Processing Record 44 of Set 3 | luanda\n",
      "Processing Record 45 of Set 3 | narsaq\n",
      "Processing Record 46 of Set 3 | vila velha\n",
      "Processing Record 47 of Set 3 | zima\n",
      "Processing Record 48 of Set 3 | yarmouth\n",
      "Processing Record 49 of Set 3 | geraldton\n",
      "Processing Record 50 of Set 3 | vaitupu\n",
      "City not found. Skipping...\n",
      "Processing Record 1 of Set 4 | vardo\n",
      "Processing Record 2 of Set 4 | inhambane\n",
      "Processing Record 3 of Set 4 | yeghegnavan\n",
      "Processing Record 4 of Set 4 | santa rosalia\n",
      "Processing Record 5 of Set 4 | dezful\n",
      "Processing Record 6 of Set 4 | kavieng\n",
      "Processing Record 7 of Set 4 | srednekolymsk\n",
      "Processing Record 8 of Set 4 | hirara\n",
      "Processing Record 9 of Set 4 | lata\n",
      "Processing Record 10 of Set 4 | namangan\n",
      "Processing Record 11 of Set 4 | sheltozero\n",
      "Processing Record 12 of Set 4 | nemuro\n",
      "Processing Record 13 of Set 4 | turbat\n",
      "Processing Record 14 of Set 4 | balykshi\n",
      "City not found. Skipping...\n",
      "Processing Record 15 of Set 4 | tashtagol\n",
      "Processing Record 16 of Set 4 | blantyre\n",
      "Processing Record 17 of Set 4 | talesh\n",
      "City not found. Skipping...\n",
      "Processing Record 18 of Set 4 | bonavista\n",
      "Processing Record 19 of Set 4 | chokurdakh\n",
      "Processing Record 20 of Set 4 | bakchar\n",
      "Processing Record 21 of Set 4 | bathsheba\n",
      "Processing Record 22 of Set 4 | selenginsk\n",
      "Processing Record 23 of Set 4 | tadine\n",
      "Processing Record 24 of Set 4 | snihurivka\n",
      "Processing Record 25 of Set 4 | sukhoverkovo\n",
      "City not found. Skipping...\n",
      "Processing Record 26 of Set 4 | saint george\n",
      "Processing Record 27 of Set 4 | kautokeino\n",
      "Processing Record 28 of Set 4 | qaqortoq\n",
      "Processing Record 29 of Set 4 | lagoa\n",
      "Processing Record 30 of Set 4 | belushya guba\n",
      "City not found. Skipping...\n",
      "Processing Record 31 of Set 4 | bubaque\n",
      "Processing Record 32 of Set 4 | saint-augustin\n",
      "Processing Record 33 of Set 4 | ilhabela\n",
      "Processing Record 34 of Set 4 | nouakchott\n",
      "Processing Record 35 of Set 4 | huarmey\n",
      "Processing Record 36 of Set 4 | longlac\n",
      "City not found. Skipping...\n",
      "Processing Record 37 of Set 4 | grand gaube\n"
     ]
    },
    {
     "name": "stdout",
     "output_type": "stream",
     "text": [
      "Processing Record 38 of Set 4 | chicama\n",
      "Processing Record 39 of Set 4 | chuy\n",
      "Processing Record 40 of Set 4 | askarovo\n",
      "Processing Record 41 of Set 4 | ilulissat\n",
      "Processing Record 42 of Set 4 | ust-ilimsk\n",
      "Processing Record 43 of Set 4 | sabang\n",
      "Processing Record 44 of Set 4 | kamenskoye\n",
      "City not found. Skipping...\n",
      "Processing Record 45 of Set 4 | aquiraz\n",
      "Processing Record 46 of Set 4 | lingao\n",
      "Processing Record 47 of Set 4 | bandiagara\n",
      "Processing Record 48 of Set 4 | aklavik\n",
      "Processing Record 49 of Set 4 | sentyabrskiy\n",
      "City not found. Skipping...\n",
      "Processing Record 50 of Set 4 | krasnaya poyma\n",
      "Processing Record 1 of Set 5 | fortuna\n",
      "Processing Record 2 of Set 5 | kouango\n",
      "Processing Record 3 of Set 5 | beringovskiy\n",
      "Processing Record 4 of Set 5 | leshukonskoye\n",
      "Processing Record 5 of Set 5 | anadyr\n",
      "Processing Record 6 of Set 5 | pevek\n",
      "Processing Record 7 of Set 5 | lebu\n",
      "Processing Record 8 of Set 5 | erzin\n",
      "Processing Record 9 of Set 5 | port moresby\n",
      "Processing Record 10 of Set 5 | jaszladany\n",
      "Processing Record 11 of Set 5 | lobito\n",
      "Processing Record 12 of Set 5 | manokwari\n",
      "Processing Record 13 of Set 5 | bolotnoye\n",
      "Processing Record 14 of Set 5 | severo-kurilsk\n",
      "Processing Record 15 of Set 5 | carnarvon\n",
      "Processing Record 16 of Set 5 | almaznyy\n",
      "Processing Record 17 of Set 5 | marcona\n",
      "City not found. Skipping...\n",
      "Processing Record 18 of Set 5 | ternate\n",
      "Processing Record 19 of Set 5 | gurgan\n",
      "City not found. Skipping...\n",
      "Processing Record 20 of Set 5 | tashtyp\n",
      "Processing Record 21 of Set 5 | tessalit\n",
      "Processing Record 22 of Set 5 | bowen\n",
      "Processing Record 23 of Set 5 | sobolevo\n",
      "Processing Record 24 of Set 5 | suicheng\n",
      "Processing Record 25 of Set 5 | edd\n",
      "Processing Record 26 of Set 5 | tres arroyos\n",
      "Processing Record 27 of Set 5 | port macquarie\n",
      "Processing Record 28 of Set 5 | yulara\n",
      "Processing Record 29 of Set 5 | tay ninh\n",
      "Processing Record 30 of Set 5 | saint-philippe\n",
      "Processing Record 31 of Set 5 | kelso\n",
      "Processing Record 32 of Set 5 | bardiyah\n",
      "Processing Record 33 of Set 5 | hamza\n",
      "Processing Record 34 of Set 5 | kavaratti\n",
      "Processing Record 35 of Set 5 | tsihombe\n",
      "City not found. Skipping...\n",
      "Processing Record 36 of Set 5 | atar\n",
      "Processing Record 37 of Set 5 | hervey bay\n",
      "Processing Record 38 of Set 5 | kembe\n",
      "Processing Record 39 of Set 5 | nokaneng\n",
      "Processing Record 40 of Set 5 | neiafu\n",
      "Processing Record 41 of Set 5 | moron\n",
      "Processing Record 42 of Set 5 | gambela\n",
      "Processing Record 43 of Set 5 | cutro\n",
      "Processing Record 44 of Set 5 | ludinghausen\n",
      "Processing Record 45 of Set 5 | namibe\n",
      "Processing Record 46 of Set 5 | kahului\n",
      "Processing Record 47 of Set 5 | necochea\n",
      "Processing Record 48 of Set 5 | airai\n",
      "Processing Record 49 of Set 5 | salalah\n",
      "Processing Record 50 of Set 5 | boende\n",
      "Processing Record 1 of Set 6 | ghanzi\n",
      "Processing Record 2 of Set 6 | luba\n",
      "Processing Record 3 of Set 6 | cockburn town\n",
      "Processing Record 4 of Set 6 | khatanga\n",
      "Processing Record 5 of Set 6 | walvis bay\n",
      "Processing Record 6 of Set 6 | la ronge\n",
      "Processing Record 7 of Set 6 | jinchang\n",
      "Processing Record 8 of Set 6 | changuinola\n",
      "Processing Record 9 of Set 6 | saint-pierre\n",
      "Processing Record 10 of Set 6 | talaya\n",
      "Processing Record 11 of Set 6 | palabuhanratu\n",
      "City not found. Skipping...\n",
      "Processing Record 12 of Set 6 | sinnamary\n",
      "Processing Record 13 of Set 6 | buchanan\n",
      "Processing Record 14 of Set 6 | puli\n",
      "Processing Record 15 of Set 6 | canton\n",
      "Processing Record 16 of Set 6 | saldanha\n",
      "Processing Record 17 of Set 6 | ulladulla\n",
      "Processing Record 18 of Set 6 | kashi\n",
      "Processing Record 19 of Set 6 | pinheiro machado\n",
      "Processing Record 20 of Set 6 | san patricio\n",
      "Processing Record 21 of Set 6 | jacareacanga\n",
      "Processing Record 22 of Set 6 | alofi\n",
      "Processing Record 23 of Set 6 | shambu\n",
      "Processing Record 24 of Set 6 | yerbogachen\n",
      "Processing Record 25 of Set 6 | mayo\n",
      "Processing Record 26 of Set 6 | raga\n",
      "Processing Record 27 of Set 6 | huitzo\n",
      "Processing Record 28 of Set 6 | akyab\n",
      "Processing Record 29 of Set 6 | thinadhoo\n",
      "Processing Record 30 of Set 6 | margate\n",
      "Processing Record 31 of Set 6 | ribeira grande\n",
      "Processing Record 32 of Set 6 | viedma\n",
      "Processing Record 33 of Set 6 | miri\n",
      "Processing Record 34 of Set 6 | pimentel\n",
      "Processing Record 35 of Set 6 | kota kinabalu\n",
      "Processing Record 36 of Set 6 | cabo san lucas\n",
      "Processing Record 37 of Set 6 | sarbogard\n",
      "Processing Record 38 of Set 6 | port-de-bouc\n",
      "Processing Record 39 of Set 6 | terrace\n",
      "Processing Record 40 of Set 6 | leningradskiy\n",
      "Processing Record 41 of Set 6 | muravlenko\n",
      "Processing Record 42 of Set 6 | merauke\n",
      "Processing Record 43 of Set 6 | luderitz\n",
      "Processing Record 44 of Set 6 | kaitangata\n",
      "Processing Record 45 of Set 6 | cayenne\n",
      "Processing Record 46 of Set 6 | bambous virieux\n",
      "Processing Record 47 of Set 6 | winona\n",
      "Processing Record 48 of Set 6 | standerton\n",
      "Processing Record 49 of Set 6 | ambanja\n",
      "Processing Record 50 of Set 6 | isla mujeres\n",
      "Processing Record 1 of Set 7 | broome\n",
      "Processing Record 2 of Set 7 | nikolskoye\n",
      "Processing Record 3 of Set 7 | luganville\n",
      "Processing Record 4 of Set 7 | rio grande\n",
      "Processing Record 5 of Set 7 | olinda\n",
      "Processing Record 6 of Set 7 | mount gambier\n",
      "Processing Record 7 of Set 7 | talnakh\n",
      "Processing Record 8 of Set 7 | provideniya\n",
      "Processing Record 9 of Set 7 | angoche\n",
      "Processing Record 10 of Set 7 | burgeo\n",
      "Processing Record 11 of Set 7 | bredasdorp\n",
      "Processing Record 12 of Set 7 | umba\n",
      "Processing Record 13 of Set 7 | dhadar\n",
      "Processing Record 14 of Set 7 | lasa\n",
      "Processing Record 15 of Set 7 | les ponts-de-ce\n",
      "Processing Record 16 of Set 7 | kegayli\n",
      "City not found. Skipping...\n",
      "Processing Record 17 of Set 7 | cherskiy\n",
      "Processing Record 18 of Set 7 | sola\n",
      "Processing Record 19 of Set 7 | tilichiki\n",
      "Processing Record 20 of Set 7 | itoman\n",
      "Processing Record 21 of Set 7 | acapulco\n",
      "Processing Record 22 of Set 7 | port-gentil\n",
      "Processing Record 23 of Set 7 | tefe\n",
      "Processing Record 24 of Set 7 | rancho palos verdes\n",
      "Processing Record 25 of Set 7 | zhangye\n",
      "Processing Record 26 of Set 7 | hoa binh\n",
      "Processing Record 27 of Set 7 | weligama\n",
      "Processing Record 28 of Set 7 | santiago del estero\n",
      "Processing Record 29 of Set 7 | muzhi\n",
      "Processing Record 30 of Set 7 | pisco\n",
      "Processing Record 31 of Set 7 | springdale\n",
      "Processing Record 32 of Set 7 | iquique\n",
      "Processing Record 33 of Set 7 | codrington\n",
      "Processing Record 34 of Set 7 | mackay\n",
      "Processing Record 35 of Set 7 | nago\n",
      "Processing Record 36 of Set 7 | san cristobal\n",
      "Processing Record 37 of Set 7 | manzil jamil\n",
      "City not found. Skipping...\n",
      "Processing Record 38 of Set 7 | sao joao da barra\n",
      "Processing Record 39 of Set 7 | kano\n",
      "Processing Record 40 of Set 7 | san andres\n",
      "Processing Record 41 of Set 7 | puerto armuelles\n",
      "Processing Record 42 of Set 7 | deputatskiy\n",
      "Processing Record 43 of Set 7 | caravelas\n",
      "Processing Record 44 of Set 7 | ferme-neuve\n",
      "Processing Record 45 of Set 7 | ust-kalmanka\n",
      "Processing Record 46 of Set 7 | henties bay\n",
      "Processing Record 47 of Set 7 | singkang\n",
      "Processing Record 48 of Set 7 | katherine\n",
      "Processing Record 49 of Set 7 | odda\n",
      "Processing Record 50 of Set 7 | santa marta\n",
      "Processing Record 1 of Set 8 | aykhal\n",
      "Processing Record 2 of Set 8 | shakawe\n",
      "Processing Record 3 of Set 8 | erdenet\n",
      "Processing Record 4 of Set 8 | sorvag\n",
      "City not found. Skipping...\n",
      "Processing Record 5 of Set 8 | nova varos\n",
      "Processing Record 6 of Set 8 | padang\n",
      "Processing Record 7 of Set 8 | skelleftea\n",
      "Processing Record 8 of Set 8 | yirol\n",
      "City not found. Skipping...\n",
      "Processing Record 9 of Set 8 | ixtapa\n",
      "Processing Record 10 of Set 8 | morondava\n",
      "Processing Record 11 of Set 8 | port hardy\n",
      "Processing Record 12 of Set 8 | cilegon\n",
      "Processing Record 13 of Set 8 | fairfield\n",
      "Processing Record 14 of Set 8 | changping\n",
      "Processing Record 15 of Set 8 | harper\n",
      "Processing Record 16 of Set 8 | temaraia\n",
      "City not found. Skipping...\n",
      "Processing Record 17 of Set 8 | meulaboh\n",
      "Processing Record 18 of Set 8 | hemsedal\n",
      "Processing Record 19 of Set 8 | paslek\n",
      "Processing Record 20 of Set 8 | manthani\n",
      "Processing Record 21 of Set 8 | samusu\n",
      "City not found. Skipping...\n",
      "Processing Record 22 of Set 8 | kananga\n",
      "Processing Record 23 of Set 8 | maceio\n",
      "Processing Record 24 of Set 8 | tupik\n",
      "Processing Record 25 of Set 8 | zherdevka\n",
      "Processing Record 26 of Set 8 | fukue\n",
      "Processing Record 27 of Set 8 | buala\n",
      "Processing Record 28 of Set 8 | zhigansk\n",
      "Processing Record 29 of Set 8 | huntsville\n"
     ]
    },
    {
     "name": "stdout",
     "output_type": "stream",
     "text": [
      "Processing Record 30 of Set 8 | tambura\n",
      "Processing Record 31 of Set 8 | rathdrum\n",
      "Processing Record 32 of Set 8 | nome\n",
      "Processing Record 33 of Set 8 | saint-louis\n",
      "Processing Record 34 of Set 8 | kampene\n",
      "Processing Record 35 of Set 8 | stornoway\n",
      "Processing Record 36 of Set 8 | cururupu\n",
      "Processing Record 37 of Set 8 | chilca\n",
      "Processing Record 38 of Set 8 | natal\n",
      "Processing Record 39 of Set 8 | vestmannaeyjar\n",
      "Processing Record 40 of Set 8 | avera\n",
      "Processing Record 41 of Set 8 | ahuimanu\n",
      "Processing Record 42 of Set 8 | siemiatycze\n",
      "Processing Record 43 of Set 8 | jumla\n",
      "Processing Record 44 of Set 8 | mana\n",
      "Processing Record 45 of Set 8 | nelson bay\n",
      "Processing Record 46 of Set 8 | baiao\n",
      "Processing Record 47 of Set 8 | port-cartier\n",
      "Processing Record 48 of Set 8 | fare\n",
      "Processing Record 49 of Set 8 | sitka\n",
      "Processing Record 50 of Set 8 | moindou\n",
      "Processing Record 1 of Set 9 | luoyang\n",
      "Processing Record 2 of Set 9 | cozumel\n",
      "Processing Record 3 of Set 9 | kazachinskoye\n",
      "Processing Record 4 of Set 9 | tokur\n",
      "Processing Record 5 of Set 9 | balkanabat\n",
      "Processing Record 6 of Set 9 | cap malheureux\n",
      "Processing Record 7 of Set 9 | clyde river\n",
      "Processing Record 8 of Set 9 | alpine\n",
      "Processing Record 9 of Set 9 | dunedin\n",
      "Processing Record 10 of Set 9 | sisimiut\n",
      "Processing Record 11 of Set 9 | satitoa\n",
      "City not found. Skipping...\n",
      "Processing Record 12 of Set 9 | lufilufi\n",
      "Processing Record 13 of Set 9 | ponnani\n",
      "Processing Record 14 of Set 9 | mae ramat\n",
      "Processing Record 15 of Set 9 | salvador\n",
      "Processing Record 16 of Set 9 | ulundi\n",
      "Processing Record 17 of Set 9 | labuhan\n",
      "Processing Record 18 of Set 9 | gorin\n",
      "Processing Record 19 of Set 9 | touros\n",
      "Processing Record 20 of Set 9 | vagay\n",
      "Processing Record 21 of Set 9 | moa\n",
      "Processing Record 22 of Set 9 | newport\n",
      "Processing Record 23 of Set 9 | chokwe\n",
      "Processing Record 24 of Set 9 | flinders\n",
      "Processing Record 25 of Set 9 | camacha\n",
      "Processing Record 26 of Set 9 | aflu\n",
      "City not found. Skipping...\n",
      "Processing Record 27 of Set 9 | negele\n",
      "City not found. Skipping...\n",
      "Processing Record 28 of Set 9 | kiruna\n",
      "Processing Record 29 of Set 9 | la palma\n",
      "Processing Record 30 of Set 9 | arlit\n",
      "Processing Record 31 of Set 9 | miles city\n",
      "Processing Record 32 of Set 9 | marawi\n",
      "Processing Record 33 of Set 9 | alta floresta\n",
      "Processing Record 34 of Set 9 | strezhevoy\n",
      "Processing Record 35 of Set 9 | dingle\n",
      "Processing Record 36 of Set 9 | larsnes\n",
      "Processing Record 37 of Set 9 | paradwip\n",
      "City not found. Skipping...\n",
      "Processing Record 38 of Set 9 | katsiveli\n",
      "City not found. Skipping...\n",
      "Processing Record 39 of Set 9 | reconquista\n",
      "Processing Record 40 of Set 9 | asau\n",
      "Processing Record 41 of Set 9 | klaksvik\n",
      "Processing Record 42 of Set 9 | malakal\n",
      "Processing Record 43 of Set 9 | terra boa\n",
      "Processing Record 44 of Set 9 | chabahar\n",
      "Processing Record 45 of Set 9 | presidencia roque saenz pena\n",
      "Processing Record 46 of Set 9 | west plains\n",
      "Processing Record 47 of Set 9 | krasnoselkup\n",
      "Processing Record 48 of Set 9 | zhangjiakou\n",
      "Processing Record 49 of Set 9 | krasnogorsk\n",
      "Processing Record 50 of Set 9 | oranjemund\n",
      "Processing Record 1 of Set 10 | saleaula\n",
      "City not found. Skipping...\n",
      "Processing Record 2 of Set 10 | isangel\n",
      "Processing Record 3 of Set 10 | buin\n",
      "Processing Record 4 of Set 10 | malanje\n",
      "Processing Record 5 of Set 10 | sao jose da coroa grande\n",
      "Processing Record 6 of Set 10 | chaman\n",
      "Processing Record 7 of Set 10 | willowmore\n",
      "Processing Record 8 of Set 10 | adrar\n",
      "Processing Record 9 of Set 10 | mahajanga\n",
      "Processing Record 10 of Set 10 | half moon bay\n",
      "Processing Record 11 of Set 10 | tura\n",
      "Processing Record 12 of Set 10 | granadilla de abona\n",
      "Processing Record 13 of Set 10 | juba\n",
      "Processing Record 14 of Set 10 | calderitas\n",
      "Processing Record 15 of Set 10 | kuznechikha\n",
      "Processing Record 16 of Set 10 | fort nelson\n",
      "Processing Record 17 of Set 10 | carambei\n",
      "Processing Record 18 of Set 10 | koronowo\n",
      "Processing Record 19 of Set 10 | acarau\n",
      "Processing Record 20 of Set 10 | santa rosa\n",
      "Processing Record 21 of Set 10 | tlahualilo\n",
      "City not found. Skipping...\n",
      "Processing Record 22 of Set 10 | tepetitlan\n",
      "Processing Record 23 of Set 10 | alugan\n",
      "Processing Record 24 of Set 10 | hasaki\n",
      "Processing Record 25 of Set 10 | challans\n",
      "Processing Record 26 of Set 10 | hamilton\n",
      "Processing Record 27 of Set 10 | morehead\n",
      "Processing Record 28 of Set 10 | deh rawud\n",
      "City not found. Skipping...\n",
      "Processing Record 29 of Set 10 | shenjiamen\n",
      "Processing Record 30 of Set 10 | charters towers\n",
      "Processing Record 31 of Set 10 | obregon\n",
      "Processing Record 32 of Set 10 | khasan\n",
      "Processing Record 33 of Set 10 | tautira\n",
      "Processing Record 34 of Set 10 | montrose\n",
      "Processing Record 35 of Set 10 | bargal\n",
      "City not found. Skipping...\n",
      "Processing Record 36 of Set 10 | zalegoshch\n",
      "Processing Record 37 of Set 10 | hay river\n",
      "Processing Record 38 of Set 10 | belfast\n",
      "Processing Record 39 of Set 10 | midland\n",
      "Processing Record 40 of Set 10 | karratha\n",
      "Processing Record 41 of Set 10 | uri\n",
      "Processing Record 42 of Set 10 | high level\n",
      "Processing Record 43 of Set 10 | barbar\n",
      "City not found. Skipping...\n",
      "Processing Record 44 of Set 10 | lorengau\n",
      "Processing Record 45 of Set 10 | mnogovershinnyy\n",
      "Processing Record 46 of Set 10 | matagami\n",
      "Processing Record 47 of Set 10 | udachnyy\n",
      "Processing Record 48 of Set 10 | davenda\n",
      "Processing Record 49 of Set 10 | broken hill\n",
      "Processing Record 50 of Set 10 | khani\n",
      "Processing Record 1 of Set 11 | takoradi\n",
      "Processing Record 2 of Set 11 | ostersund\n",
      "Processing Record 3 of Set 11 | catuday\n",
      "Processing Record 4 of Set 11 | sarny\n",
      "Processing Record 5 of Set 11 | penzance\n",
      "Processing Record 6 of Set 11 | sande\n",
      "Processing Record 7 of Set 11 | tabou\n",
      "Processing Record 8 of Set 11 | cabedelo\n",
      "Processing Record 9 of Set 11 | albacete\n",
      "Processing Record 10 of Set 11 | porto-vecchio\n",
      "Processing Record 11 of Set 11 | namatanai\n",
      "Processing Record 12 of Set 11 | lolua\n",
      "City not found. Skipping...\n",
      "Processing Record 13 of Set 11 | bethel\n",
      "Processing Record 14 of Set 11 | vastervik\n",
      "City not found. Skipping...\n",
      "Processing Record 15 of Set 11 | saint-joseph\n",
      "Processing Record 16 of Set 11 | poum\n",
      "Processing Record 17 of Set 11 | aleysk\n",
      "Processing Record 18 of Set 11 | kadykchan\n",
      "City not found. Skipping...\n",
      "Processing Record 19 of Set 11 | shache\n",
      "Processing Record 20 of Set 11 | mehamn\n",
      "Processing Record 21 of Set 11 | tarudant\n",
      "City not found. Skipping...\n",
      "Processing Record 22 of Set 11 | acuna\n",
      "City not found. Skipping...\n",
      "Processing Record 23 of Set 11 | west bay\n",
      "Processing Record 24 of Set 11 | luwuk\n",
      "Processing Record 25 of Set 11 | souillac\n",
      "Processing Record 26 of Set 11 | sonoita\n",
      "Processing Record 27 of Set 11 | kashira\n",
      "Processing Record 28 of Set 11 | greenwood\n",
      "Processing Record 29 of Set 11 | vangaindrano\n",
      "Processing Record 30 of Set 11 | umzimvubu\n",
      "City not found. Skipping...\n",
      "Processing Record 31 of Set 11 | benguela\n",
      "Processing Record 32 of Set 11 | rumuruti\n",
      "Processing Record 33 of Set 11 | gornopravdinsk\n",
      "Processing Record 34 of Set 11 | estelle\n",
      "Processing Record 35 of Set 11 | taoudenni\n",
      "Processing Record 36 of Set 11 | richards bay\n",
      "Processing Record 37 of Set 11 | quatre cocos\n",
      "Processing Record 38 of Set 11 | palafrugell\n",
      "Processing Record 39 of Set 11 | vestmanna\n",
      "Processing Record 40 of Set 11 | liverpool\n",
      "Processing Record 41 of Set 11 | mvuma\n",
      "Processing Record 42 of Set 11 | kholodnyy\n",
      "Processing Record 43 of Set 11 | lac du bonnet\n",
      "Processing Record 44 of Set 11 | solovetskiy\n",
      "City not found. Skipping...\n",
      "Processing Record 45 of Set 11 | ferrol\n",
      "Processing Record 46 of Set 11 | kalaiya\n",
      "Processing Record 47 of Set 11 | garowe\n",
      "Processing Record 48 of Set 11 | vanimo\n",
      "Processing Record 49 of Set 11 | anloga\n",
      "Processing Record 50 of Set 11 | karkaralinsk\n",
      "City not found. Skipping...\n",
      "Processing Record 1 of Set 12 | ranghulu\n",
      "Processing Record 2 of Set 12 | yar-sale\n",
      "Processing Record 3 of Set 12 | nigran\n",
      "Processing Record 4 of Set 12 | sao filipe\n",
      "Processing Record 5 of Set 12 | am timan\n",
      "Processing Record 6 of Set 12 | mount pleasant\n",
      "Processing Record 7 of Set 12 | verkhnevilyuysk\n",
      "Processing Record 8 of Set 12 | hambantota\n",
      "Processing Record 9 of Set 12 | parintins\n",
      "Processing Record 10 of Set 12 | buraydah\n",
      "Processing Record 11 of Set 12 | edzell\n",
      "Processing Record 12 of Set 12 | kysyl-syr\n",
      "Processing Record 13 of Set 12 | sitrah\n",
      "Processing Record 14 of Set 12 | liku\n"
     ]
    },
    {
     "name": "stdout",
     "output_type": "stream",
     "text": [
      "Processing Record 15 of Set 12 | ostrovnoy\n",
      "Processing Record 16 of Set 12 | kefamenanu\n",
      "Processing Record 17 of Set 12 | susaki\n",
      "Processing Record 18 of Set 12 | flin flon\n",
      "Processing Record 19 of Set 12 | nanortalik\n",
      "Processing Record 20 of Set 12 | malinovoye ozero\n",
      "Processing Record 21 of Set 12 | sharjah\n",
      "Processing Record 22 of Set 12 | juxtlahuaca\n",
      "Processing Record 23 of Set 12 | primorsk\n",
      "Processing Record 24 of Set 12 | canatlan\n",
      "Processing Record 25 of Set 12 | urengoy\n",
      "Processing Record 26 of Set 12 | paamiut\n",
      "Processing Record 27 of Set 12 | komsomolskiy\n",
      "Processing Record 28 of Set 12 | contepec\n",
      "Processing Record 29 of Set 12 | pimenta bueno\n",
      "Processing Record 30 of Set 12 | esperance\n",
      "Processing Record 31 of Set 12 | howard springs\n",
      "Processing Record 32 of Set 12 | kolda\n",
      "Processing Record 33 of Set 12 | itarema\n",
      "Processing Record 34 of Set 12 | beira\n",
      "Processing Record 35 of Set 12 | ceyranbatan\n",
      "Processing Record 36 of Set 12 | banepa\n",
      "Processing Record 37 of Set 12 | gariaband\n",
      "Processing Record 38 of Set 12 | beloha\n",
      "Processing Record 39 of Set 12 | lethem\n",
      "Processing Record 40 of Set 12 | ibra\n",
      "Processing Record 41 of Set 12 | kununurra\n",
      "Processing Record 42 of Set 12 | tarbagatay\n",
      "Processing Record 43 of Set 12 | invermere\n",
      "Processing Record 44 of Set 12 | banda aceh\n",
      "Processing Record 45 of Set 12 | valentin gomez farias\n",
      "Processing Record 46 of Set 12 | waingapu\n",
      "Processing Record 47 of Set 12 | maua\n",
      "Processing Record 48 of Set 12 | bajo baudo\n",
      "City not found. Skipping...\n",
      "Processing Record 49 of Set 12 | itacoatiara\n",
      "Processing Record 50 of Set 12 | kyzyl-suu\n",
      "Processing Record 1 of Set 13 | beroroha\n",
      "Processing Record 2 of Set 13 | moravita\n",
      "Processing Record 3 of Set 13 | porbandar\n",
      "Processing Record 4 of Set 13 | canto do buriti\n",
      "Processing Record 5 of Set 13 | zavet\n",
      "Processing Record 6 of Set 13 | ambon\n",
      "Processing Record 7 of Set 13 | glendive\n",
      "Processing Record 8 of Set 13 | lamar\n",
      "Processing Record 9 of Set 13 | roald\n",
      "Processing Record 10 of Set 13 | jiroft\n",
      "City not found. Skipping...\n",
      "Processing Record 11 of Set 13 | chara\n",
      "Processing Record 12 of Set 13 | sabratah\n",
      "Processing Record 13 of Set 13 | temiscaming\n",
      "Processing Record 14 of Set 13 | opuwo\n",
      "Processing Record 15 of Set 13 | samarai\n",
      "-----------------------------\n",
      "Data Retrieval Complete      \n",
      "-----------------------------\n"
     ]
    }
   ],
   "source": [
    "# Loop through all the cities in the list.\n",
    "for i, city in enumerate(cities):\n",
    "\n",
    "    # Group cities in sets of 50 for logging purposes.\n",
    "    if (i % 50 == 0 and i >= 50):\n",
    "        set_count += 1\n",
    "        record_count = 1\n",
    "    # Create endpoint URL with each city.\n",
    "    city_url = url + \"&q=\" + city\n",
    "\n",
    "    # Log the URL, record, and set numbers and the city.\n",
    "    print(f\"Processing Record {record_count} of Set {set_count} | {city}\")\n",
    "    # Add 1 to the record count.\n",
    "    record_count += 1\n",
    "    \n",
    "    # Run an API request for each of the cities.\n",
    "    try:\n",
    "        # Parse the JSON and retrieve data.\n",
    "        city_weather = requests.get(city_url).json()\n",
    "        # Parse out the needed data.\n",
    "        city_lat = city_weather[\"coord\"][\"lat\"]\n",
    "        city_lng = city_weather[\"coord\"][\"lon\"]\n",
    "        city_max_temp = city_weather[\"main\"][\"temp_max\"]\n",
    "        city_humidity = city_weather[\"main\"][\"humidity\"]\n",
    "        city_clouds = city_weather[\"clouds\"][\"all\"]\n",
    "        city_wind = city_weather[\"wind\"][\"speed\"]\n",
    "        city_country = city_weather[\"sys\"][\"country\"]\n",
    "        # Convert the date to ISO standard.\n",
    "        city_date = datetime.utcfromtimestamp(city_weather[\"dt\"]).strftime('%Y-%m-%d %H:%M:%S')\n",
    "        # Append the city information into city_data list.\n",
    "        city_data.append({\"City\": city.title(),\n",
    "                          \"Lat\": city_lat,\n",
    "                          \"Lng\": city_lng,\n",
    "                          \"Max Temp\": city_max_temp,\n",
    "                          \"Humidity\": city_humidity,\n",
    "                          \"Cloudiness\": city_clouds,\n",
    "                          \"Wind Speed\": city_wind,\n",
    "                          \"Country\": city_country,\n",
    "                          \"Date\": city_date})\n",
    "\n",
    "    # If an error is experienced, skip the city.\n",
    "    except:\n",
    "        print(\"City not found. Skipping...\")\n",
    "        pass\n",
    "\n",
    "# Indicate that Data Loading is complete.\n",
    "print(\"-----------------------------\")\n",
    "print(\"Data Retrieval Complete      \")\n",
    "print(\"-----------------------------\")"
   ]
  },
  {
   "cell_type": "code",
   "execution_count": 40,
   "metadata": {},
   "outputs": [
    {
     "data": {
      "text/html": [
       "<div>\n",
       "<style scoped>\n",
       "    .dataframe tbody tr th:only-of-type {\n",
       "        vertical-align: middle;\n",
       "    }\n",
       "\n",
       "    .dataframe tbody tr th {\n",
       "        vertical-align: top;\n",
       "    }\n",
       "\n",
       "    .dataframe thead th {\n",
       "        text-align: right;\n",
       "    }\n",
       "</style>\n",
       "<table border=\"1\" class=\"dataframe\">\n",
       "  <thead>\n",
       "    <tr style=\"text-align: right;\">\n",
       "      <th></th>\n",
       "      <th>City</th>\n",
       "      <th>Lat</th>\n",
       "      <th>Lng</th>\n",
       "      <th>Max Temp</th>\n",
       "      <th>Humidity</th>\n",
       "      <th>Cloudiness</th>\n",
       "      <th>Wind Speed</th>\n",
       "      <th>Country</th>\n",
       "      <th>Date</th>\n",
       "    </tr>\n",
       "  </thead>\n",
       "  <tbody>\n",
       "    <tr>\n",
       "      <th>0</th>\n",
       "      <td>Rikitea</td>\n",
       "      <td>-23.12</td>\n",
       "      <td>-134.97</td>\n",
       "      <td>75.96</td>\n",
       "      <td>65</td>\n",
       "      <td>34</td>\n",
       "      <td>4.68</td>\n",
       "      <td>PF</td>\n",
       "      <td>2020-04-15 04:36:12</td>\n",
       "    </tr>\n",
       "    <tr>\n",
       "      <th>1</th>\n",
       "      <td>Bonthe</td>\n",
       "      <td>7.53</td>\n",
       "      <td>-12.51</td>\n",
       "      <td>79.36</td>\n",
       "      <td>85</td>\n",
       "      <td>100</td>\n",
       "      <td>4.23</td>\n",
       "      <td>SL</td>\n",
       "      <td>2020-04-15 04:36:12</td>\n",
       "    </tr>\n",
       "    <tr>\n",
       "      <th>2</th>\n",
       "      <td>Noumea</td>\n",
       "      <td>-22.28</td>\n",
       "      <td>166.46</td>\n",
       "      <td>81.00</td>\n",
       "      <td>69</td>\n",
       "      <td>89</td>\n",
       "      <td>13.87</td>\n",
       "      <td>NC</td>\n",
       "      <td>2020-04-15 04:35:38</td>\n",
       "    </tr>\n",
       "    <tr>\n",
       "      <th>3</th>\n",
       "      <td>Bengkulu</td>\n",
       "      <td>-3.80</td>\n",
       "      <td>102.27</td>\n",
       "      <td>83.84</td>\n",
       "      <td>75</td>\n",
       "      <td>94</td>\n",
       "      <td>2.82</td>\n",
       "      <td>ID</td>\n",
       "      <td>2020-04-15 04:31:31</td>\n",
       "    </tr>\n",
       "    <tr>\n",
       "      <th>4</th>\n",
       "      <td>Waipawa</td>\n",
       "      <td>-41.41</td>\n",
       "      <td>175.52</td>\n",
       "      <td>55.99</td>\n",
       "      <td>50</td>\n",
       "      <td>58</td>\n",
       "      <td>8.05</td>\n",
       "      <td>NZ</td>\n",
       "      <td>2020-04-15 04:33:54</td>\n",
       "    </tr>\n",
       "    <tr>\n",
       "      <th>5</th>\n",
       "      <td>Victoria</td>\n",
       "      <td>22.29</td>\n",
       "      <td>114.16</td>\n",
       "      <td>79.00</td>\n",
       "      <td>53</td>\n",
       "      <td>20</td>\n",
       "      <td>6.93</td>\n",
       "      <td>HK</td>\n",
       "      <td>2020-04-15 04:33:11</td>\n",
       "    </tr>\n",
       "    <tr>\n",
       "      <th>6</th>\n",
       "      <td>Arraial Do Cabo</td>\n",
       "      <td>-22.97</td>\n",
       "      <td>-42.03</td>\n",
       "      <td>75.20</td>\n",
       "      <td>88</td>\n",
       "      <td>20</td>\n",
       "      <td>12.75</td>\n",
       "      <td>BR</td>\n",
       "      <td>2020-04-15 04:36:14</td>\n",
       "    </tr>\n",
       "    <tr>\n",
       "      <th>7</th>\n",
       "      <td>Birao</td>\n",
       "      <td>10.28</td>\n",
       "      <td>22.79</td>\n",
       "      <td>81.50</td>\n",
       "      <td>12</td>\n",
       "      <td>66</td>\n",
       "      <td>14.88</td>\n",
       "      <td>CF</td>\n",
       "      <td>2020-04-15 04:36:14</td>\n",
       "    </tr>\n",
       "    <tr>\n",
       "      <th>8</th>\n",
       "      <td>Shangrao</td>\n",
       "      <td>28.45</td>\n",
       "      <td>117.97</td>\n",
       "      <td>74.16</td>\n",
       "      <td>45</td>\n",
       "      <td>2</td>\n",
       "      <td>7.20</td>\n",
       "      <td>CN</td>\n",
       "      <td>2020-04-15 04:36:14</td>\n",
       "    </tr>\n",
       "    <tr>\n",
       "      <th>9</th>\n",
       "      <td>Hithadhoo</td>\n",
       "      <td>-0.60</td>\n",
       "      <td>73.08</td>\n",
       "      <td>84.97</td>\n",
       "      <td>65</td>\n",
       "      <td>34</td>\n",
       "      <td>1.86</td>\n",
       "      <td>MV</td>\n",
       "      <td>2020-04-15 04:32:38</td>\n",
       "    </tr>\n",
       "  </tbody>\n",
       "</table>\n",
       "</div>"
      ],
      "text/plain": [
       "              City    Lat     Lng  Max Temp  Humidity  Cloudiness  Wind Speed  \\\n",
       "0          Rikitea -23.12 -134.97     75.96        65          34        4.68   \n",
       "1           Bonthe   7.53  -12.51     79.36        85         100        4.23   \n",
       "2           Noumea -22.28  166.46     81.00        69          89       13.87   \n",
       "3         Bengkulu  -3.80  102.27     83.84        75          94        2.82   \n",
       "4          Waipawa -41.41  175.52     55.99        50          58        8.05   \n",
       "5         Victoria  22.29  114.16     79.00        53          20        6.93   \n",
       "6  Arraial Do Cabo -22.97  -42.03     75.20        88          20       12.75   \n",
       "7            Birao  10.28   22.79     81.50        12          66       14.88   \n",
       "8         Shangrao  28.45  117.97     74.16        45           2        7.20   \n",
       "9        Hithadhoo  -0.60   73.08     84.97        65          34        1.86   \n",
       "\n",
       "  Country                 Date  \n",
       "0      PF  2020-04-15 04:36:12  \n",
       "1      SL  2020-04-15 04:36:12  \n",
       "2      NC  2020-04-15 04:35:38  \n",
       "3      ID  2020-04-15 04:31:31  \n",
       "4      NZ  2020-04-15 04:33:54  \n",
       "5      HK  2020-04-15 04:33:11  \n",
       "6      BR  2020-04-15 04:36:14  \n",
       "7      CF  2020-04-15 04:36:14  \n",
       "8      CN  2020-04-15 04:36:14  \n",
       "9      MV  2020-04-15 04:32:38  "
      ]
     },
     "execution_count": 40,
     "metadata": {},
     "output_type": "execute_result"
    }
   ],
   "source": [
    "# Convert the array of dictionaries to a Pandas DataFrame.\n",
    "city_data_df = pd.DataFrame(city_data)\n",
    "city_data_df.head(10)"
   ]
  },
  {
   "cell_type": "code",
   "execution_count": 52,
   "metadata": {},
   "outputs": [],
   "source": [
    "new_column_order = [\"City\",\"Country\",\"Date\",\"Lat\",\"Lng\",\"Max Temp\",\"Humidity\",\"Cloudiness\",\"Wind Speed\"]"
   ]
  },
  {
   "cell_type": "code",
   "execution_count": 53,
   "metadata": {},
   "outputs": [],
   "source": [
    "city_data_df = city_data_df[new_column_order]"
   ]
  },
  {
   "cell_type": "code",
   "execution_count": 54,
   "metadata": {},
   "outputs": [
    {
     "data": {
      "text/plain": [
       "565"
      ]
     },
     "execution_count": 54,
     "metadata": {},
     "output_type": "execute_result"
    }
   ],
   "source": [
    "len(city_data)"
   ]
  },
  {
   "cell_type": "code",
   "execution_count": 55,
   "metadata": {},
   "outputs": [
    {
     "data": {
      "text/html": [
       "<div>\n",
       "<style scoped>\n",
       "    .dataframe tbody tr th:only-of-type {\n",
       "        vertical-align: middle;\n",
       "    }\n",
       "\n",
       "    .dataframe tbody tr th {\n",
       "        vertical-align: top;\n",
       "    }\n",
       "\n",
       "    .dataframe thead th {\n",
       "        text-align: right;\n",
       "    }\n",
       "</style>\n",
       "<table border=\"1\" class=\"dataframe\">\n",
       "  <thead>\n",
       "    <tr style=\"text-align: right;\">\n",
       "      <th></th>\n",
       "      <th>City</th>\n",
       "      <th>Country</th>\n",
       "      <th>Date</th>\n",
       "      <th>Lat</th>\n",
       "      <th>Lng</th>\n",
       "      <th>Max Temp</th>\n",
       "      <th>Humidity</th>\n",
       "      <th>Cloudiness</th>\n",
       "      <th>Wind Speed</th>\n",
       "    </tr>\n",
       "  </thead>\n",
       "  <tbody>\n",
       "    <tr>\n",
       "      <th>0</th>\n",
       "      <td>Rikitea</td>\n",
       "      <td>PF</td>\n",
       "      <td>2020-04-15 04:36:12</td>\n",
       "      <td>-23.12</td>\n",
       "      <td>-134.97</td>\n",
       "      <td>75.96</td>\n",
       "      <td>65</td>\n",
       "      <td>34</td>\n",
       "      <td>4.68</td>\n",
       "    </tr>\n",
       "    <tr>\n",
       "      <th>1</th>\n",
       "      <td>Bonthe</td>\n",
       "      <td>SL</td>\n",
       "      <td>2020-04-15 04:36:12</td>\n",
       "      <td>7.53</td>\n",
       "      <td>-12.51</td>\n",
       "      <td>79.36</td>\n",
       "      <td>85</td>\n",
       "      <td>100</td>\n",
       "      <td>4.23</td>\n",
       "    </tr>\n",
       "    <tr>\n",
       "      <th>2</th>\n",
       "      <td>Noumea</td>\n",
       "      <td>NC</td>\n",
       "      <td>2020-04-15 04:35:38</td>\n",
       "      <td>-22.28</td>\n",
       "      <td>166.46</td>\n",
       "      <td>81.00</td>\n",
       "      <td>69</td>\n",
       "      <td>89</td>\n",
       "      <td>13.87</td>\n",
       "    </tr>\n",
       "    <tr>\n",
       "      <th>3</th>\n",
       "      <td>Bengkulu</td>\n",
       "      <td>ID</td>\n",
       "      <td>2020-04-15 04:31:31</td>\n",
       "      <td>-3.80</td>\n",
       "      <td>102.27</td>\n",
       "      <td>83.84</td>\n",
       "      <td>75</td>\n",
       "      <td>94</td>\n",
       "      <td>2.82</td>\n",
       "    </tr>\n",
       "    <tr>\n",
       "      <th>4</th>\n",
       "      <td>Waipawa</td>\n",
       "      <td>NZ</td>\n",
       "      <td>2020-04-15 04:33:54</td>\n",
       "      <td>-41.41</td>\n",
       "      <td>175.52</td>\n",
       "      <td>55.99</td>\n",
       "      <td>50</td>\n",
       "      <td>58</td>\n",
       "      <td>8.05</td>\n",
       "    </tr>\n",
       "    <tr>\n",
       "      <th>5</th>\n",
       "      <td>Victoria</td>\n",
       "      <td>HK</td>\n",
       "      <td>2020-04-15 04:33:11</td>\n",
       "      <td>22.29</td>\n",
       "      <td>114.16</td>\n",
       "      <td>79.00</td>\n",
       "      <td>53</td>\n",
       "      <td>20</td>\n",
       "      <td>6.93</td>\n",
       "    </tr>\n",
       "    <tr>\n",
       "      <th>6</th>\n",
       "      <td>Arraial Do Cabo</td>\n",
       "      <td>BR</td>\n",
       "      <td>2020-04-15 04:36:14</td>\n",
       "      <td>-22.97</td>\n",
       "      <td>-42.03</td>\n",
       "      <td>75.20</td>\n",
       "      <td>88</td>\n",
       "      <td>20</td>\n",
       "      <td>12.75</td>\n",
       "    </tr>\n",
       "    <tr>\n",
       "      <th>7</th>\n",
       "      <td>Birao</td>\n",
       "      <td>CF</td>\n",
       "      <td>2020-04-15 04:36:14</td>\n",
       "      <td>10.28</td>\n",
       "      <td>22.79</td>\n",
       "      <td>81.50</td>\n",
       "      <td>12</td>\n",
       "      <td>66</td>\n",
       "      <td>14.88</td>\n",
       "    </tr>\n",
       "    <tr>\n",
       "      <th>8</th>\n",
       "      <td>Shangrao</td>\n",
       "      <td>CN</td>\n",
       "      <td>2020-04-15 04:36:14</td>\n",
       "      <td>28.45</td>\n",
       "      <td>117.97</td>\n",
       "      <td>74.16</td>\n",
       "      <td>45</td>\n",
       "      <td>2</td>\n",
       "      <td>7.20</td>\n",
       "    </tr>\n",
       "    <tr>\n",
       "      <th>9</th>\n",
       "      <td>Hithadhoo</td>\n",
       "      <td>MV</td>\n",
       "      <td>2020-04-15 04:32:38</td>\n",
       "      <td>-0.60</td>\n",
       "      <td>73.08</td>\n",
       "      <td>84.97</td>\n",
       "      <td>65</td>\n",
       "      <td>34</td>\n",
       "      <td>1.86</td>\n",
       "    </tr>\n",
       "  </tbody>\n",
       "</table>\n",
       "</div>"
      ],
      "text/plain": [
       "              City Country                 Date    Lat     Lng  Max Temp  \\\n",
       "0          Rikitea      PF  2020-04-15 04:36:12 -23.12 -134.97     75.96   \n",
       "1           Bonthe      SL  2020-04-15 04:36:12   7.53  -12.51     79.36   \n",
       "2           Noumea      NC  2020-04-15 04:35:38 -22.28  166.46     81.00   \n",
       "3         Bengkulu      ID  2020-04-15 04:31:31  -3.80  102.27     83.84   \n",
       "4          Waipawa      NZ  2020-04-15 04:33:54 -41.41  175.52     55.99   \n",
       "5         Victoria      HK  2020-04-15 04:33:11  22.29  114.16     79.00   \n",
       "6  Arraial Do Cabo      BR  2020-04-15 04:36:14 -22.97  -42.03     75.20   \n",
       "7            Birao      CF  2020-04-15 04:36:14  10.28   22.79     81.50   \n",
       "8         Shangrao      CN  2020-04-15 04:36:14  28.45  117.97     74.16   \n",
       "9        Hithadhoo      MV  2020-04-15 04:32:38  -0.60   73.08     84.97   \n",
       "\n",
       "   Humidity  Cloudiness  Wind Speed  \n",
       "0        65          34        4.68  \n",
       "1        85         100        4.23  \n",
       "2        69          89       13.87  \n",
       "3        75          94        2.82  \n",
       "4        50          58        8.05  \n",
       "5        53          20        6.93  \n",
       "6        88          20       12.75  \n",
       "7        12          66       14.88  \n",
       "8        45           2        7.20  \n",
       "9        65          34        1.86  "
      ]
     },
     "execution_count": 55,
     "metadata": {},
     "output_type": "execute_result"
    }
   ],
   "source": [
    "# Convert the array of dictionaries to a Pandas DataFrame.\n",
    "city_data_df = pd.DataFrame(city_data_df)\n",
    "city_data_df.head(10)"
   ]
  },
  {
   "cell_type": "code",
   "execution_count": 58,
   "metadata": {},
   "outputs": [],
   "source": [
    "# Create the output file (CSV).\n",
    "output_data_file = \"weather_data/cities.csv\"\n",
    "\n",
    "# Export the City_Data into a CSV.\n",
    "city_data_df.to_csv(output_data_file, index_label=\"City_ID\")"
   ]
  },
  {
   "cell_type": "code",
   "execution_count": 59,
   "metadata": {},
   "outputs": [],
   "source": [
    "# Extract relevant fields from the DataFrame for plotting.\n",
    "\n",
    "lats = city_data_df[\"Lat\"]\n",
    "max_temps = city_data_df[\"Max Temp\"]\n",
    "humidity = city_data_df[\"Humidity\"]\n",
    "cloudiness = city_data_df[\"Cloudiness\"]\n",
    "wind_speed = city_data_df[\"Wind Speed\"]"
   ]
  },
  {
   "cell_type": "code",
   "execution_count": null,
   "metadata": {},
   "outputs": [],
   "source": [
    "# Import the time module.\n",
    "import time\n",
    " # Get today's date in seconds.\n",
    "today = time.time()\n",
    "today"
   ]
  }
 ],
 "metadata": {
  "kernelspec": {
   "display_name": "PythonData",
   "language": "python",
   "name": "pythondata"
  },
  "language_info": {
   "codemirror_mode": {
    "name": "ipython",
    "version": 3
   },
   "file_extension": ".py",
   "mimetype": "text/x-python",
   "name": "python",
   "nbconvert_exporter": "python",
   "pygments_lexer": "ipython3",
   "version": "3.7.6"
  }
 },
 "nbformat": 4,
 "nbformat_minor": 4
}
