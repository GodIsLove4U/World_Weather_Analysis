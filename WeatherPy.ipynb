{
 "cells": [
  {
   "cell_type": "code",
   "execution_count": 1,
   "metadata": {},
   "outputs": [],
   "source": [
    "# Import the dependencies.\n",
    "import pandas as pd\n",
    "import matplotlib.pyplot as plt\n",
    "import numpy as np\n",
    "import random\n",
    "\n",
    "# Import timeit.\n",
    "import timeit"
   ]
  },
  {
   "cell_type": "code",
   "execution_count": 2,
   "metadata": {},
   "outputs": [
    {
     "data": {
      "text/plain": [
       "87"
      ]
     },
     "execution_count": 2,
     "metadata": {},
     "output_type": "execute_result"
    }
   ],
   "source": [
    "random.randint(-90,90)"
   ]
  },
  {
   "cell_type": "code",
   "execution_count": 3,
   "metadata": {},
   "outputs": [
    {
     "data": {
      "text/plain": [
       "0.025240804719074972"
      ]
     },
     "execution_count": 3,
     "metadata": {},
     "output_type": "execute_result"
    }
   ],
   "source": [
    "random.random()"
   ]
  },
  {
   "cell_type": "code",
   "execution_count": 4,
   "metadata": {},
   "outputs": [
    {
     "data": {
      "text/plain": [
       "35.11977399871799"
      ]
     },
     "execution_count": 4,
     "metadata": {},
     "output_type": "execute_result"
    }
   ],
   "source": [
    "random_number = random.randint(-90,90) + random.random()\n",
    "random_number"
   ]
  },
  {
   "cell_type": "code",
   "execution_count": 5,
   "metadata": {},
   "outputs": [
    {
     "data": {
      "text/plain": [
       "[43.83857378472485,\n",
       " -19.36894273060621,\n",
       " 20.307952109037164,\n",
       " 63.63539169575188,\n",
       " -59.922877832260646,\n",
       " -59.6726132623379,\n",
       " 43.252979446013434,\n",
       " 72.1122493889161,\n",
       " 72.1170643989362,\n",
       " 60.738741478495825]"
      ]
     },
     "execution_count": 5,
     "metadata": {},
     "output_type": "execute_result"
    }
   ],
   "source": [
    "x = 1\n",
    "latitudes = []\n",
    "while x < 11:\n",
    "    random_lat = random.randint(-90, 90) + random.random()\n",
    "    latitudes.append(random_lat)\n",
    "    x += 1\n",
    "latitudes"
   ]
  },
  {
   "cell_type": "code",
   "execution_count": 6,
   "metadata": {},
   "outputs": [
    {
     "data": {
      "text/plain": [
       "-82"
      ]
     },
     "execution_count": 6,
     "metadata": {},
     "output_type": "execute_result"
    }
   ],
   "source": [
    "random.randrange(-90,90, step=1)"
   ]
  },
  {
   "cell_type": "code",
   "execution_count": 7,
   "metadata": {},
   "outputs": [
    {
     "data": {
      "text/plain": [
       "27"
      ]
     },
     "execution_count": 7,
     "metadata": {},
     "output_type": "execute_result"
    }
   ],
   "source": [
    "random.randrange(-90,90, step=3)"
   ]
  },
  {
   "cell_type": "code",
   "execution_count": 8,
   "metadata": {},
   "outputs": [
    {
     "data": {
      "text/plain": [
       "48.950931732773"
      ]
     },
     "execution_count": 8,
     "metadata": {},
     "output_type": "execute_result"
    }
   ],
   "source": [
    "random.uniform(-90,90)"
   ]
  },
  {
   "cell_type": "code",
   "execution_count": 9,
   "metadata": {},
   "outputs": [
    {
     "data": {
      "text/plain": [
       "array([-67.59541194,  76.67275363,  86.11795921,  19.24554975,\n",
       "        75.12218017,  78.43516646,   2.35651691,  88.37865027,\n",
       "       -47.71741991,  72.75922172,  14.90060856,   1.00502625,\n",
       "       -42.2957261 ,  83.98931284,  89.88094218, -74.05311175,\n",
       "       -18.40492992,  64.00296225,  57.1466878 ,  88.04081323,\n",
       "         1.90411252, -42.49415508,   3.68119215,  74.96434073,\n",
       "       -85.65402488, -88.42103362,  63.06195498,  66.24373311,\n",
       "        36.23661705,  52.49905545,  29.68095203, -14.20091029,\n",
       "       -10.73050902, -49.05914914,  51.15026408,  39.25671089,\n",
       "        15.46976822,  21.63386765, -33.91013201,  10.63170592,\n",
       "        71.11010361, -11.66628788,  87.19736949, -35.3700458 ,\n",
       "       -56.43481288,  65.98375424, -14.470962  , -55.88111424,\n",
       "       -20.34732832, -30.31352286])"
      ]
     },
     "execution_count": 9,
     "metadata": {},
     "output_type": "execute_result"
    }
   ],
   "source": [
    "np.random.uniform(-90.000,90.000, size=50)"
   ]
  },
  {
   "cell_type": "code",
   "execution_count": 10,
   "metadata": {},
   "outputs": [
    {
     "name": "stdout",
     "output_type": "stream",
     "text": [
      "45.5 µs ± 4.07 µs per loop (mean ± std. dev. of 7 runs, 10000 loops each)\n"
     ]
    }
   ],
   "source": [
    "%timeit np.random.uniform(-90.000, 90.000, size=1500)"
   ]
  },
  {
   "cell_type": "code",
   "execution_count": 11,
   "metadata": {},
   "outputs": [
    {
     "name": "stdout",
     "output_type": "stream",
     "text": [
      "8.01 ms ± 379 µs per loop (mean ± std. dev. of 7 runs, 100 loops each)\n"
     ]
    }
   ],
   "source": [
    "def latitudes(size):\n",
    "    latitudes = []\n",
    "    x = 0\n",
    "    while x < (size):\n",
    "        random_lat = random.randint(-90, 90) + random.random()\n",
    "        latitudes.append(random_lat)\n",
    "        x += 1\n",
    "    return latitudes\n",
    "# Call the function with 1500. \n",
    "%timeit latitudes(1500)"
   ]
  },
  {
   "cell_type": "code",
   "execution_count": 12,
   "metadata": {},
   "outputs": [
    {
     "data": {
      "text/plain": [
       "array([ 82.67717633,  47.270502  , -85.63204508, ...,  85.55154163,\n",
       "       -65.32862432,  42.9231508 ])"
      ]
     },
     "execution_count": 12,
     "metadata": {},
     "output_type": "execute_result"
    }
   ],
   "source": [
    "np.random.uniform(-90.000,90.000, size=1500)"
   ]
  },
  {
   "cell_type": "code",
   "execution_count": 13,
   "metadata": {},
   "outputs": [],
   "source": [
    "# Create a practice set of random latitude and longitude combinations.\n",
    "x = [25.12903645, 25.92017388, 26.62509167, -59.98969384, 37.30571269]\n",
    "y = [-67.59741259, 11.09532135, 74.84233102, -76.89176677, -61.13376282]\n",
    "coordinates = zip(x, y)"
   ]
  },
  {
   "cell_type": "code",
   "execution_count": 14,
   "metadata": {},
   "outputs": [
    {
     "data": {
      "text/plain": [
       "<zip at 0x20074c22188>"
      ]
     },
     "execution_count": 14,
     "metadata": {},
     "output_type": "execute_result"
    }
   ],
   "source": [
    "# Create a set of random latitude and longitude combinations.\n",
    "lats = np.random.uniform(low=-90.000, high=90.000, size=1500)\n",
    "lngs = np.random.uniform(low=-180.000, high=180.000, size=1500)\n",
    "lat_lngs = zip(lats, lngs)\n",
    "lat_lngs"
   ]
  },
  {
   "cell_type": "code",
   "execution_count": 15,
   "metadata": {},
   "outputs": [
    {
     "name": "stdout",
     "output_type": "stream",
     "text": [
      "25.12903645 -67.59741259\n",
      "25.92017388 11.09532135\n",
      "26.62509167 74.84233102\n",
      "-59.98969384 -76.89176677\n",
      "37.30571269 -61.13376282\n"
     ]
    }
   ],
   "source": [
    "# Use the tuple() function to display the latitude and longitude combinations.\n",
    "for coordinate in coordinates:\n",
    "    print(coordinate[0], coordinate[1])"
   ]
  },
  {
   "cell_type": "code",
   "execution_count": 16,
   "metadata": {},
   "outputs": [],
   "source": [
    "# Add the latitudes and longitudes to a list.\n",
    "coordinates = list(lat_lngs)"
   ]
  },
  {
   "cell_type": "code",
   "execution_count": 17,
   "metadata": {},
   "outputs": [],
   "source": [
    "import citipy\n",
    "from citipy import citipy"
   ]
  },
  {
   "cell_type": "code",
   "execution_count": 18,
   "metadata": {},
   "outputs": [
    {
     "data": {
      "text/plain": [
       "615"
      ]
     },
     "execution_count": 18,
     "metadata": {},
     "output_type": "execute_result"
    }
   ],
   "source": [
    "# Create a list for holding the cities.\n",
    "cities = []\n",
    "# Identify the nearest city for each latitude and longitude combination.\n",
    "for coordinate in coordinates:\n",
    "    city = citipy.nearest_city(coordinate[0], coordinate[1]).city_name\n",
    "    \n",
    "    # If the city is unique, then we will add it to the cities list.\n",
    "    if city not in cities:\n",
    "        cities.append(city)\n",
    "# Print the city count to confirm sufficient count.\n",
    "len(cities)"
   ]
  },
  {
   "cell_type": "code",
   "execution_count": 19,
   "metadata": {},
   "outputs": [
    {
     "data": {
      "text/plain": [
       "'2.23.0'"
      ]
     },
     "execution_count": 19,
     "metadata": {},
     "output_type": "execute_result"
    }
   ],
   "source": [
    "import requests\n",
    "requests.__version__"
   ]
  },
  {
   "cell_type": "code",
   "execution_count": 1,
   "metadata": {},
   "outputs": [],
   "source": [
    "# Import the requests library.\n",
    "import requests\n",
    "\n",
    "# Import the API key.\n",
    "from config import weather_api_key"
   ]
  },
  {
   "cell_type": "code",
   "execution_count": 21,
   "metadata": {},
   "outputs": [
    {
     "name": "stdout",
     "output_type": "stream",
     "text": [
      "http://api.openweathermap.org/data/2.5/weather?units=Imperial&APPID=6235ab836a483e7e2fa7008844d35986\n"
     ]
    }
   ],
   "source": [
    "#https://samples.openweathermap.org/data/2.5/weather?q=London,uk&appid=439d4b804bc8187953eb36d2a8c26a02\n",
    "\n",
    "# Starting URL for Weather Map API Call.\n",
    "url = \"http://api.openweathermap.org/data/2.5/weather?units=Imperial&APPID=\" + weather_api_key\n",
    "print(url)"
   ]
  },
  {
   "cell_type": "code",
   "execution_count": 22,
   "metadata": {},
   "outputs": [
    {
     "name": "stdout",
     "output_type": "stream",
     "text": [
      "http://api.openweathermap.org/data/2.5/weather?units=Imperial&APPID=6235ab836a483e7e2fa7008844d35986&q=Boston\n"
     ]
    }
   ],
   "source": [
    "# Create an endpoint URL for a city.\n",
    "city_url = url + \"&q=\" + \"Boston\"\n",
    "print(city_url)"
   ]
  },
  {
   "cell_type": "code",
   "execution_count": 23,
   "metadata": {},
   "outputs": [],
   "source": [
    "#weather_response = requests.get(city_url)\n",
    "#weather_json = weather_respons.json()"
   ]
  },
  {
   "cell_type": "code",
   "execution_count": 24,
   "metadata": {},
   "outputs": [
    {
     "data": {
      "text/plain": [
       "<Response [200]>"
      ]
     },
     "execution_count": 24,
     "metadata": {},
     "output_type": "execute_result"
    }
   ],
   "source": [
    "# Make a 'Get' request for the city weather.\n",
    "city_weather = requests.get(city_url)\n",
    "city_weather"
   ]
  },
  {
   "cell_type": "code",
   "execution_count": 25,
   "metadata": {},
   "outputs": [
    {
     "data": {
      "text/plain": [
       "<Response [200]>"
      ]
     },
     "execution_count": 25,
     "metadata": {},
     "output_type": "execute_result"
    }
   ],
   "source": [
    "# Create an endpoint URL for a city.\n",
    "city_url = url + \"&q=\" + \"Boston\"\n",
    "city_weather = requests.get(city_url)\n",
    "city_weather"
   ]
  },
  {
   "cell_type": "code",
   "execution_count": 26,
   "metadata": {},
   "outputs": [
    {
     "data": {
      "text/plain": [
       "'{\"coord\":{\"lon\":-71.06,\"lat\":42.36},\"weather\":[{\"id\":800,\"main\":\"Clear\",\"description\":\"clear sky\",\"icon\":\"01n\"}],\"base\":\"stations\",\"main\":{\"temp\":34.27,\"feels_like\":25.77,\"temp_min\":30,\"temp_max\":39.99,\"pressure\":1014,\"humidity\":64},\"visibility\":16093,\"wind\":{\"speed\":6.8,\"deg\":280},\"clouds\":{\"all\":1},\"dt\":1587009485,\"sys\":{\"type\":1,\"id\":5255,\"country\":\"US\",\"sunrise\":1587031241,\"sunset\":1587079602},\"timezone\":-14400,\"id\":4930956,\"name\":\"Boston\",\"cod\":200}'"
      ]
     },
     "execution_count": 26,
     "metadata": {},
     "output_type": "execute_result"
    }
   ],
   "source": [
    "# Get the text of the 'Get' request.\n",
    "city_weather.text"
   ]
  },
  {
   "cell_type": "code",
   "execution_count": 27,
   "metadata": {},
   "outputs": [
    {
     "data": {
      "text/plain": [
       "{'coord': {'lon': -71.06, 'lat': 42.36},\n",
       " 'weather': [{'id': 800,\n",
       "   'main': 'Clear',\n",
       "   'description': 'clear sky',\n",
       "   'icon': '01n'}],\n",
       " 'base': 'stations',\n",
       " 'main': {'temp': 34.27,\n",
       "  'feels_like': 25.77,\n",
       "  'temp_min': 30,\n",
       "  'temp_max': 39.99,\n",
       "  'pressure': 1014,\n",
       "  'humidity': 64},\n",
       " 'visibility': 16093,\n",
       " 'wind': {'speed': 6.8, 'deg': 280},\n",
       " 'clouds': {'all': 1},\n",
       " 'dt': 1587009485,\n",
       " 'sys': {'type': 1,\n",
       "  'id': 5255,\n",
       "  'country': 'US',\n",
       "  'sunrise': 1587031241,\n",
       "  'sunset': 1587079602},\n",
       " 'timezone': -14400,\n",
       " 'id': 4930956,\n",
       " 'name': 'Boston',\n",
       " 'cod': 200}"
      ]
     },
     "execution_count": 27,
     "metadata": {},
     "output_type": "execute_result"
    }
   ],
   "source": [
    "# Get the JSON text of the 'Get' request.\n",
    "city_weather.json()"
   ]
  },
  {
   "cell_type": "code",
   "execution_count": 28,
   "metadata": {},
   "outputs": [
    {
     "name": "stdout",
     "output_type": "stream",
     "text": [
      "City Weather found.\n"
     ]
    }
   ],
   "source": [
    "# Create an endpoint URL for a city.\n",
    "city_url = url + \"&q=\" + \"Boston\"\n",
    "city_weather = requests.get(city_url)\n",
    "if city_weather.status_code == 200:\n",
    "    print(f\"City Weather found.\")\n",
    "else:\n",
    "    print(f\"City weather not found.\")"
   ]
  },
  {
   "cell_type": "code",
   "execution_count": 29,
   "metadata": {},
   "outputs": [
    {
     "name": "stdout",
     "output_type": "stream",
     "text": [
      "City Weather found.\n"
     ]
    }
   ],
   "source": [
    "# Create an endpoint URL for a city.\n",
    "city_url = url + \"&q=\" + \"Bston\"\n",
    "city_weather = requests.get(city_url)\n",
    "if city_weather.json():\n",
    "    print(f\"City Weather found.\")\n",
    "else:\n",
    "    print(f\"City weather not found.\")"
   ]
  },
  {
   "cell_type": "code",
   "execution_count": 30,
   "metadata": {},
   "outputs": [
    {
     "name": "stdout",
     "output_type": "stream",
     "text": [
      "http://api.openweathermap.org/data/2.5/weather?units=Imperial&APPID=6235ab836a483e7e2fa7008844d35986&q=Bston\n"
     ]
    }
   ],
   "source": [
    "print(city_url)"
   ]
  },
  {
   "cell_type": "code",
   "execution_count": 31,
   "metadata": {},
   "outputs": [
    {
     "data": {
      "text/plain": [
       "{'coord': {'lon': -71.06, 'lat': 42.36},\n",
       " 'weather': [{'id': 800,\n",
       "   'main': 'Clear',\n",
       "   'description': 'clear sky',\n",
       "   'icon': '01n'}],\n",
       " 'base': 'stations',\n",
       " 'main': {'temp': 34.27,\n",
       "  'feels_like': 25.77,\n",
       "  'temp_min': 30,\n",
       "  'temp_max': 39.99,\n",
       "  'pressure': 1014,\n",
       "  'humidity': 64},\n",
       " 'visibility': 16093,\n",
       " 'wind': {'speed': 6.8, 'deg': 280},\n",
       " 'clouds': {'all': 1},\n",
       " 'dt': 1587009485,\n",
       " 'sys': {'type': 1,\n",
       "  'id': 5255,\n",
       "  'country': 'US',\n",
       "  'sunrise': 1587031241,\n",
       "  'sunset': 1587079602},\n",
       " 'timezone': -14400,\n",
       " 'id': 4930956,\n",
       " 'name': 'Boston',\n",
       " 'cod': 200}"
      ]
     },
     "execution_count": 31,
     "metadata": {},
     "output_type": "execute_result"
    }
   ],
   "source": [
    "# Create an endpoint URL for a city.\n",
    "city_url = url + \"&q=\" + \"Boston\"\n",
    "city_weather = requests.get(city_url)\n",
    "city_weather.json()"
   ]
  },
  {
   "cell_type": "code",
   "execution_count": 32,
   "metadata": {},
   "outputs": [],
   "source": [
    "boston_data = city_weather.json()"
   ]
  },
  {
   "cell_type": "code",
   "execution_count": 33,
   "metadata": {},
   "outputs": [
    {
     "data": {
      "text/plain": [
       "{'coord': {'lon': -71.06, 'lat': 42.36},\n",
       " 'weather': [{'id': 800,\n",
       "   'main': 'Clear',\n",
       "   'description': 'clear sky',\n",
       "   'icon': '01n'}],\n",
       " 'base': 'stations',\n",
       " 'main': {'temp': 34.27,\n",
       "  'feels_like': 25.77,\n",
       "  'temp_min': 30,\n",
       "  'temp_max': {'coord': {'lon': -71.06, 'lat': 42.36},\n",
       "   'weather': [{'id': 800,\n",
       "     'main': 'Clear',\n",
       "     'description': 'clear sky',\n",
       "     'icon': '01n'}],\n",
       "   'base': 'stations',\n",
       "   'main': {'temp': 34.27,\n",
       "    'feels_like': 25.77,\n",
       "    'temp_min': 30,\n",
       "    'temp_max': 39.99,\n",
       "    'pressure': 1014,\n",
       "    'humidity': 64},\n",
       "   'visibility': 16093,\n",
       "   'wind': {'speed': 6.8, 'deg': 280},\n",
       "   'clouds': {'all': 1},\n",
       "   'dt': 1587009485,\n",
       "   'sys': {'type': 1,\n",
       "    'id': 5255,\n",
       "    'country': 'US',\n",
       "    'sunrise': 1587031241,\n",
       "    'sunset': 1587079602},\n",
       "   'timezone': -14400,\n",
       "   'id': 4930956,\n",
       "   'name': 'Boston',\n",
       "   'cod': 200},\n",
       "  'pressure': 1014,\n",
       "  'humidity': 64},\n",
       " 'visibility': 16093,\n",
       " 'wind': {'speed': 6.8, 'deg': 280},\n",
       " 'clouds': {'all': 1},\n",
       " 'dt': 1587009485,\n",
       " 'sys': {'type': 1,\n",
       "  'id': 5255,\n",
       "  'country': 'US',\n",
       "  'sunrise': 1587031241,\n",
       "  'sunset': 1587079602},\n",
       " 'timezone': -14400,\n",
       " 'id': 4930956,\n",
       " 'name': 'Boston',\n",
       " 'cod': 200}"
      ]
     },
     "execution_count": 33,
     "metadata": {},
     "output_type": "execute_result"
    }
   ],
   "source": [
    "# Get the JSON data.\n",
    "#boston_data['coord']['lat'] = city_weather.json()\n",
    "boston_data['main']['temp_max'] = city_weather.json()\n",
    "boston_data"
   ]
  },
  {
   "cell_type": "code",
   "execution_count": 34,
   "metadata": {},
   "outputs": [
    {
     "name": "stdout",
     "output_type": "stream",
     "text": [
      "42.36 -71.06 {'coord': {'lon': -71.06, 'lat': 42.36}, 'weather': [{'id': 800, 'main': 'Clear', 'description': 'clear sky', 'icon': '01n'}], 'base': 'stations', 'main': {'temp': 34.27, 'feels_like': 25.77, 'temp_min': 30, 'temp_max': 39.99, 'pressure': 1014, 'humidity': 64}, 'visibility': 16093, 'wind': {'speed': 6.8, 'deg': 280}, 'clouds': {'all': 1}, 'dt': 1587009485, 'sys': {'type': 1, 'id': 5255, 'country': 'US', 'sunrise': 1587031241, 'sunset': 1587079602}, 'timezone': -14400, 'id': 4930956, 'name': 'Boston', 'cod': 200} 64 1 6.8\n"
     ]
    }
   ],
   "source": [
    "lat = boston_data[\"coord\"][\"lat\"]\n",
    "lng = boston_data[\"coord\"][\"lon\"]\n",
    "max_temp = boston_data[\"main\"][\"temp_max\"]\n",
    "humidity = boston_data[\"main\"][\"humidity\"]\n",
    "clouds = boston_data[\"clouds\"][\"all\"]\n",
    "wind = boston_data[\"wind\"][\"speed\"]\n",
    "print(lat, lng, max_temp, humidity, clouds, wind)"
   ]
  },
  {
   "cell_type": "code",
   "execution_count": 35,
   "metadata": {},
   "outputs": [
    {
     "data": {
      "text/plain": [
       "'2020-04-16 03:58:05'"
      ]
     },
     "execution_count": 35,
     "metadata": {},
     "output_type": "execute_result"
    }
   ],
   "source": [
    "# Import the datetime module from the datetime library.\n",
    "from datetime import datetime\n",
    "# Get the date from the JSON file.\n",
    "date = boston_data[\"dt\"]\n",
    "# Convert the UTC date to a date format with year, month, day, hours, minutes, and seconds.\n",
    "datetime.utcfromtimestamp(date).strftime('%Y-%m-%d %H:%M:%S')"
   ]
  },
  {
   "cell_type": "code",
   "execution_count": 36,
   "metadata": {},
   "outputs": [
    {
     "name": "stdout",
     "output_type": "stream",
     "text": [
      "Beginning Data Retrieval     \n",
      "-----------------------------\n"
     ]
    }
   ],
   "source": [
    "# Create an empty list to hold the weather data.\n",
    "city_data = []\n",
    "# Print the beginning of the logging.\n",
    "print(\"Beginning Data Retrieval     \")\n",
    "print(\"-----------------------------\")\n",
    "\n",
    "# Create counters.\n",
    "record_count = 1\n",
    "set_count = 1"
   ]
  },
  {
   "cell_type": "code",
   "execution_count": 37,
   "metadata": {},
   "outputs": [
    {
     "name": "stdout",
     "output_type": "stream",
     "text": [
      "Processing Record 1 of Set 1 | soskovo\n",
      "Processing Record 2 of Set 1 | chuy\n",
      "Processing Record 3 of Set 1 | castro\n",
      "Processing Record 4 of Set 1 | hasaki\n",
      "Processing Record 5 of Set 1 | xudat\n",
      "Processing Record 6 of Set 1 | faanui\n",
      "Processing Record 7 of Set 1 | ugoofaaru\n",
      "Processing Record 8 of Set 1 | amapa\n",
      "Processing Record 9 of Set 1 | rikitea\n",
      "Processing Record 10 of Set 1 | port elizabeth\n",
      "Processing Record 11 of Set 1 | kamenskoye\n",
      "City not found. Skipping...\n",
      "Processing Record 12 of Set 1 | sungairaya\n",
      "Processing Record 13 of Set 1 | keti bandar\n",
      "Processing Record 14 of Set 1 | vila\n",
      "Processing Record 15 of Set 1 | yangjiang\n",
      "Processing Record 16 of Set 1 | pierre\n",
      "Processing Record 17 of Set 1 | kapaa\n",
      "Processing Record 18 of Set 1 | mataura\n",
      "Processing Record 19 of Set 1 | kerema\n",
      "Processing Record 20 of Set 1 | mahon\n",
      "Processing Record 21 of Set 1 | albany\n",
      "Processing Record 22 of Set 1 | bakchar\n",
      "Processing Record 23 of Set 1 | tuktoyaktuk\n",
      "Processing Record 24 of Set 1 | saint george\n",
      "Processing Record 25 of Set 1 | hermanus\n",
      "Processing Record 26 of Set 1 | nanortalik\n",
      "Processing Record 27 of Set 1 | hofn\n",
      "Processing Record 28 of Set 1 | punta arenas\n",
      "Processing Record 29 of Set 1 | taolanaro\n",
      "City not found. Skipping...\n",
      "Processing Record 30 of Set 1 | wurzburg\n",
      "Processing Record 31 of Set 1 | cabanas\n",
      "Processing Record 32 of Set 1 | mar del plata\n",
      "Processing Record 33 of Set 1 | ruatoria\n",
      "City not found. Skipping...\n",
      "Processing Record 34 of Set 1 | ushuaia\n",
      "Processing Record 35 of Set 1 | trincomalee\n",
      "Processing Record 36 of Set 1 | sakakah\n",
      "Processing Record 37 of Set 1 | hithadhoo\n",
      "Processing Record 38 of Set 1 | quesnel\n",
      "Processing Record 39 of Set 1 | la peca\n",
      "Processing Record 40 of Set 1 | isangel\n",
      "Processing Record 41 of Set 1 | georgetown\n",
      "Processing Record 42 of Set 1 | srandakan\n",
      "Processing Record 43 of Set 1 | palmer\n",
      "Processing Record 44 of Set 1 | butaritari\n",
      "Processing Record 45 of Set 1 | talnakh\n",
      "Processing Record 46 of Set 1 | dikson\n",
      "Processing Record 47 of Set 1 | guerrero negro\n",
      "Processing Record 48 of Set 1 | dicabisagan\n",
      "Processing Record 49 of Set 1 | leh\n",
      "Processing Record 50 of Set 1 | rodnykove\n",
      "Processing Record 1 of Set 2 | hobart\n",
      "Processing Record 2 of Set 2 | eravur\n",
      "Processing Record 3 of Set 2 | qaanaaq\n",
      "Processing Record 4 of Set 2 | yellowknife\n",
      "Processing Record 5 of Set 2 | bambous virieux\n",
      "Processing Record 6 of Set 2 | saint-philippe\n",
      "Processing Record 7 of Set 2 | bluff\n",
      "Processing Record 8 of Set 2 | samarai\n",
      "Processing Record 9 of Set 2 | bandarbeyla\n",
      "Processing Record 10 of Set 2 | adre\n",
      "Processing Record 11 of Set 2 | illoqqortoormiut\n",
      "City not found. Skipping...\n",
      "Processing Record 12 of Set 2 | nizhneyansk\n",
      "City not found. Skipping...\n",
      "Processing Record 13 of Set 2 | mys shmidta\n",
      "City not found. Skipping...\n",
      "Processing Record 14 of Set 2 | abilene\n",
      "Processing Record 15 of Set 2 | souillac\n",
      "Processing Record 16 of Set 2 | cidreira\n",
      "Processing Record 17 of Set 2 | kargasok\n",
      "Processing Record 18 of Set 2 | san patricio\n",
      "Processing Record 19 of Set 2 | barrow\n",
      "Processing Record 20 of Set 2 | ipixuna\n",
      "Processing Record 21 of Set 2 | carutapera\n",
      "Processing Record 22 of Set 2 | atuona\n",
      "Processing Record 23 of Set 2 | severo-kurilsk\n",
      "Processing Record 24 of Set 2 | attawapiskat\n",
      "City not found. Skipping...\n",
      "Processing Record 25 of Set 2 | pogranichnyy\n",
      "Processing Record 26 of Set 2 | khatanga\n",
      "Processing Record 27 of Set 2 | vaini\n",
      "Processing Record 28 of Set 2 | grenfell\n",
      "Processing Record 29 of Set 2 | kodiak\n",
      "Processing Record 30 of Set 2 | acarau\n",
      "Processing Record 31 of Set 2 | san juan\n",
      "Processing Record 32 of Set 2 | hovd\n",
      "Processing Record 33 of Set 2 | matagami\n",
      "Processing Record 34 of Set 2 | agadez\n",
      "Processing Record 35 of Set 2 | ilulissat\n",
      "Processing Record 36 of Set 2 | shelburne\n",
      "Processing Record 37 of Set 2 | chokurdakh\n",
      "Processing Record 38 of Set 2 | sentyabrskiy\n",
      "City not found. Skipping...\n",
      "Processing Record 39 of Set 2 | lakatoro\n",
      "Processing Record 40 of Set 2 | narsaq\n",
      "Processing Record 41 of Set 2 | pasir gudang\n",
      "Processing Record 42 of Set 2 | lavrentiya\n",
      "Processing Record 43 of Set 2 | airai\n",
      "Processing Record 44 of Set 2 | upernavik\n",
      "Processing Record 45 of Set 2 | cape town\n",
      "Processing Record 46 of Set 2 | tommot\n",
      "Processing Record 47 of Set 2 | victoria\n",
      "Processing Record 48 of Set 2 | elumalai\n",
      "Processing Record 49 of Set 2 | busselton\n",
      "Processing Record 50 of Set 2 | fort nelson\n",
      "Processing Record 1 of Set 3 | andros town\n",
      "Processing Record 2 of Set 3 | xuddur\n",
      "Processing Record 3 of Set 3 | umba\n",
      "Processing Record 4 of Set 3 | la primavera\n",
      "Processing Record 5 of Set 3 | brae\n",
      "Processing Record 6 of Set 3 | jalu\n",
      "Processing Record 7 of Set 3 | nizwa\n",
      "Processing Record 8 of Set 3 | kaitangata\n",
      "Processing Record 9 of Set 3 | lebu\n",
      "Processing Record 10 of Set 3 | avarua\n",
      "Processing Record 11 of Set 3 | puerto ayora\n",
      "Processing Record 12 of Set 3 | sioux lookout\n",
      "Processing Record 13 of Set 3 | xiongzhou\n",
      "Processing Record 14 of Set 3 | jamestown\n",
      "Processing Record 15 of Set 3 | nikolskoye\n",
      "Processing Record 16 of Set 3 | nemuro\n",
      "Processing Record 17 of Set 3 | imeni morozova\n",
      "Processing Record 18 of Set 3 | saint anthony\n",
      "Processing Record 19 of Set 3 | coruripe\n",
      "Processing Record 20 of Set 3 | havre-saint-pierre\n",
      "Processing Record 21 of Set 3 | saskylakh\n",
      "Processing Record 22 of Set 3 | lianzhou\n",
      "Processing Record 23 of Set 3 | codrington\n",
      "Processing Record 24 of Set 3 | wahiawa\n",
      "Processing Record 25 of Set 3 | bethel\n",
      "Processing Record 26 of Set 3 | bredasdorp\n",
      "Processing Record 27 of Set 3 | pilar\n",
      "Processing Record 28 of Set 3 | bilibino\n",
      "Processing Record 29 of Set 3 | arlit\n",
      "Processing Record 30 of Set 3 | lata\n",
      "Processing Record 31 of Set 3 | pevek\n",
      "Processing Record 32 of Set 3 | arraial do cabo\n",
      "Processing Record 33 of Set 3 | tsihombe\n",
      "City not found. Skipping...\n",
      "Processing Record 34 of Set 3 | taksimo\n",
      "Processing Record 35 of Set 3 | emerald\n",
      "Processing Record 36 of Set 3 | ostrovnoy\n",
      "Processing Record 37 of Set 3 | marcona\n",
      "City not found. Skipping...\n",
      "Processing Record 38 of Set 3 | karratha\n",
      "Processing Record 39 of Set 3 | mountain home\n",
      "Processing Record 40 of Set 3 | umm lajj\n",
      "Processing Record 41 of Set 3 | neuquen\n",
      "Processing Record 42 of Set 3 | belushya guba\n",
      "City not found. Skipping...\n",
      "Processing Record 43 of Set 3 | hambantota\n",
      "Processing Record 44 of Set 3 | esperance\n",
      "Processing Record 45 of Set 3 | clyde river\n",
      "Processing Record 46 of Set 3 | kaoma\n",
      "Processing Record 47 of Set 3 | srednekolymsk\n",
      "Processing Record 48 of Set 3 | port alfred\n",
      "Processing Record 49 of Set 3 | kropotkin\n",
      "Processing Record 50 of Set 3 | matara\n",
      "Processing Record 1 of Set 4 | warrnambool\n",
      "Processing Record 2 of Set 4 | quatre cocos\n",
      "Processing Record 3 of Set 4 | boden\n",
      "Processing Record 4 of Set 4 | thompson\n",
      "Processing Record 5 of Set 4 | olafsvik\n",
      "Processing Record 6 of Set 4 | dahanu\n",
      "Processing Record 7 of Set 4 | uusikaupunki\n",
      "Processing Record 8 of Set 4 | black river\n",
      "Processing Record 9 of Set 4 | tual\n",
      "Processing Record 10 of Set 4 | buon me thuot\n",
      "City not found. Skipping...\n",
      "Processing Record 11 of Set 4 | purpe\n",
      "Processing Record 12 of Set 4 | cherskiy\n",
      "Processing Record 13 of Set 4 | meulaboh\n",
      "Processing Record 14 of Set 4 | steinbach\n",
      "Processing Record 15 of Set 4 | shimoda\n",
      "Processing Record 16 of Set 4 | tiksi\n",
      "Processing Record 17 of Set 4 | samalaeulu\n",
      "City not found. Skipping...\n",
      "Processing Record 18 of Set 4 | sahrak\n",
      "City not found. Skipping...\n",
      "Processing Record 19 of Set 4 | port hardy\n",
      "Processing Record 20 of Set 4 | saint-pierre\n",
      "Processing Record 21 of Set 4 | tasiilaq\n",
      "Processing Record 22 of Set 4 | kankaanpaa\n",
      "Processing Record 23 of Set 4 | senneterre\n",
      "Processing Record 24 of Set 4 | buraydah\n",
      "Processing Record 25 of Set 4 | poronaysk\n",
      "Processing Record 26 of Set 4 | henties bay\n",
      "Processing Record 27 of Set 4 | tiarei\n",
      "Processing Record 28 of Set 4 | copiapo\n",
      "Processing Record 29 of Set 4 | altmunster\n",
      "Processing Record 30 of Set 4 | tevaitoa\n",
      "Processing Record 31 of Set 4 | road town\n",
      "Processing Record 32 of Set 4 | tornio\n",
      "Processing Record 33 of Set 4 | san andres\n",
      "Processing Record 34 of Set 4 | strezhevoy\n",
      "Processing Record 35 of Set 4 | alofi\n",
      "Processing Record 36 of Set 4 | choma\n",
      "Processing Record 37 of Set 4 | vredendal\n",
      "Processing Record 38 of Set 4 | bayir\n",
      "Processing Record 39 of Set 4 | waipawa\n",
      "Processing Record 40 of Set 4 | moshi\n"
     ]
    },
    {
     "name": "stdout",
     "output_type": "stream",
     "text": [
      "Processing Record 41 of Set 4 | vanimo\n",
      "Processing Record 42 of Set 4 | egvekinot\n",
      "Processing Record 43 of Set 4 | ribeira grande\n",
      "Processing Record 44 of Set 4 | fairbanks\n",
      "Processing Record 45 of Set 4 | new norfolk\n",
      "Processing Record 46 of Set 4 | byron bay\n",
      "Processing Record 47 of Set 4 | torbay\n",
      "Processing Record 48 of Set 4 | sarankhola\n",
      "Processing Record 49 of Set 4 | carnarvon\n",
      "Processing Record 50 of Set 4 | narasannapeta\n",
      "Processing Record 1 of Set 5 | saint-georges\n",
      "Processing Record 2 of Set 5 | jinxiang\n",
      "Processing Record 3 of Set 5 | barentsburg\n",
      "City not found. Skipping...\n",
      "Processing Record 4 of Set 5 | pombas\n",
      "Processing Record 5 of Set 5 | lasa\n",
      "Processing Record 6 of Set 5 | fairview\n",
      "Processing Record 7 of Set 5 | barranca\n",
      "Processing Record 8 of Set 5 | anadyr\n",
      "Processing Record 9 of Set 5 | delijan\n",
      "Processing Record 10 of Set 5 | grand river south east\n",
      "City not found. Skipping...\n",
      "Processing Record 11 of Set 5 | zhurivka\n",
      "Processing Record 12 of Set 5 | bilma\n",
      "Processing Record 13 of Set 5 | kavieng\n",
      "Processing Record 14 of Set 5 | twin falls\n",
      "Processing Record 15 of Set 5 | saleaula\n",
      "City not found. Skipping...\n",
      "Processing Record 16 of Set 5 | padang\n",
      "Processing Record 17 of Set 5 | college\n",
      "Processing Record 18 of Set 5 | san quintin\n",
      "Processing Record 19 of Set 5 | meadow lake\n",
      "Processing Record 20 of Set 5 | abu dhabi\n",
      "Processing Record 21 of Set 5 | lovington\n",
      "Processing Record 22 of Set 5 | faya\n",
      "Processing Record 23 of Set 5 | rumphi\n",
      "Processing Record 24 of Set 5 | norman wells\n",
      "Processing Record 25 of Set 5 | te anau\n",
      "Processing Record 26 of Set 5 | tinjah\n",
      "City not found. Skipping...\n",
      "Processing Record 27 of Set 5 | spring valley\n",
      "Processing Record 28 of Set 5 | xacmaz\n",
      "Processing Record 29 of Set 5 | bengkulu\n",
      "Processing Record 30 of Set 5 | east london\n",
      "Processing Record 31 of Set 5 | mercedes\n",
      "Processing Record 32 of Set 5 | poum\n",
      "Processing Record 33 of Set 5 | ponta do sol\n",
      "Processing Record 34 of Set 5 | melnikovo\n",
      "Processing Record 35 of Set 5 | tuatapere\n",
      "Processing Record 36 of Set 5 | erenhot\n",
      "Processing Record 37 of Set 5 | bathsheba\n",
      "Processing Record 38 of Set 5 | rawannawi\n",
      "City not found. Skipping...\n",
      "Processing Record 39 of Set 5 | puerto madero\n",
      "Processing Record 40 of Set 5 | eufaula\n",
      "Processing Record 41 of Set 5 | mahina\n",
      "Processing Record 42 of Set 5 | lompoc\n",
      "Processing Record 43 of Set 5 | pangnirtung\n",
      "Processing Record 44 of Set 5 | lolua\n",
      "City not found. Skipping...\n",
      "Processing Record 45 of Set 5 | valdivia\n",
      "Processing Record 46 of Set 5 | altay\n",
      "Processing Record 47 of Set 5 | saryshagan\n",
      "City not found. Skipping...\n",
      "Processing Record 48 of Set 5 | pacific grove\n",
      "Processing Record 49 of Set 5 | aswan\n",
      "Processing Record 50 of Set 5 | saint-joseph\n",
      "Processing Record 1 of Set 6 | okmulgee\n",
      "Processing Record 2 of Set 6 | sechura\n",
      "Processing Record 3 of Set 6 | turka\n",
      "Processing Record 4 of Set 6 | kedrovyy\n",
      "Processing Record 5 of Set 6 | tieling\n",
      "Processing Record 6 of Set 6 | klaksvik\n",
      "Processing Record 7 of Set 6 | ladario\n",
      "Processing Record 8 of Set 6 | ucluelet\n",
      "Processing Record 9 of Set 6 | inuvik\n",
      "Processing Record 10 of Set 6 | sur\n",
      "Processing Record 11 of Set 6 | mitchell\n",
      "Processing Record 12 of Set 6 | mwinilunga\n",
      "Processing Record 13 of Set 6 | shiloh\n",
      "Processing Record 14 of Set 6 | touros\n",
      "Processing Record 15 of Set 6 | lorengau\n",
      "Processing Record 16 of Set 6 | kathmandu\n",
      "Processing Record 17 of Set 6 | cabo san lucas\n",
      "Processing Record 18 of Set 6 | halalo\n",
      "City not found. Skipping...\n",
      "Processing Record 19 of Set 6 | solsvik\n",
      "City not found. Skipping...\n",
      "Processing Record 20 of Set 6 | ixtapa\n",
      "Processing Record 21 of Set 6 | zhezkazgan\n",
      "Processing Record 22 of Set 6 | fare\n",
      "Processing Record 23 of Set 6 | sri aman\n",
      "Processing Record 24 of Set 6 | iqaluit\n",
      "Processing Record 25 of Set 6 | severo-yeniseyskiy\n",
      "Processing Record 26 of Set 6 | antofagasta\n",
      "Processing Record 27 of Set 6 | hilo\n",
      "Processing Record 28 of Set 6 | richards bay\n",
      "Processing Record 29 of Set 6 | sao joao da barra\n",
      "Processing Record 30 of Set 6 | bardsir\n",
      "Processing Record 31 of Set 6 | verkhnevilyuysk\n",
      "Processing Record 32 of Set 6 | salekhard\n",
      "Processing Record 33 of Set 6 | keetmanshoop\n",
      "Processing Record 34 of Set 6 | el alto\n",
      "Processing Record 35 of Set 6 | nantucket\n",
      "Processing Record 36 of Set 6 | marsberg\n",
      "Processing Record 37 of Set 6 | ketchikan\n",
      "Processing Record 38 of Set 6 | kudat\n",
      "Processing Record 39 of Set 6 | pinheiral\n",
      "Processing Record 40 of Set 6 | broome\n",
      "Processing Record 41 of Set 6 | coihaique\n",
      "Processing Record 42 of Set 6 | mount gambier\n",
      "Processing Record 43 of Set 6 | tatarsk\n",
      "Processing Record 44 of Set 6 | husavik\n",
      "Processing Record 45 of Set 6 | satitoa\n",
      "City not found. Skipping...\n",
      "Processing Record 46 of Set 6 | yulara\n",
      "Processing Record 47 of Set 6 | aripuana\n",
      "Processing Record 48 of Set 6 | teluk nibung\n",
      "Processing Record 49 of Set 6 | romitan\n",
      "Processing Record 50 of Set 6 | spearfish\n",
      "Processing Record 1 of Set 7 | brazzaville\n",
      "Processing Record 2 of Set 7 | ayame\n",
      "Processing Record 3 of Set 7 | portland\n",
      "Processing Record 4 of Set 7 | penzance\n",
      "Processing Record 5 of Set 7 | tura\n",
      "Processing Record 6 of Set 7 | jabiru\n",
      "City not found. Skipping...\n",
      "Processing Record 7 of Set 7 | huanren\n",
      "Processing Record 8 of Set 7 | chapais\n",
      "Processing Record 9 of Set 7 | aklavik\n",
      "Processing Record 10 of Set 7 | sedelnikovo\n",
      "City not found. Skipping...\n",
      "Processing Record 11 of Set 7 | altamira\n",
      "Processing Record 12 of Set 7 | saint paul\n",
      "Processing Record 13 of Set 7 | fraserburgh\n",
      "Processing Record 14 of Set 7 | marzuq\n",
      "Processing Record 15 of Set 7 | alyangula\n",
      "Processing Record 16 of Set 7 | huilong\n",
      "Processing Record 17 of Set 7 | jodiya\n",
      "Processing Record 18 of Set 7 | panguna\n",
      "Processing Record 19 of Set 7 | mahajanga\n",
      "Processing Record 20 of Set 7 | naze\n",
      "Processing Record 21 of Set 7 | pasco\n",
      "Processing Record 22 of Set 7 | pionerskiy\n",
      "Processing Record 23 of Set 7 | deputatskiy\n",
      "Processing Record 24 of Set 7 | sorong\n",
      "Processing Record 25 of Set 7 | beipiao\n",
      "Processing Record 26 of Set 7 | batagay-alyta\n",
      "Processing Record 27 of Set 7 | anqing\n",
      "Processing Record 28 of Set 7 | aljezur\n",
      "Processing Record 29 of Set 7 | macamic\n",
      "Processing Record 30 of Set 7 | kabinda\n",
      "Processing Record 31 of Set 7 | oyama\n",
      "Processing Record 32 of Set 7 | camabatela\n",
      "Processing Record 33 of Set 7 | wau\n",
      "Processing Record 34 of Set 7 | kungurtug\n",
      "Processing Record 35 of Set 7 | coahuayana\n",
      "Processing Record 36 of Set 7 | saldanha\n",
      "Processing Record 37 of Set 7 | vaitupu\n",
      "City not found. Skipping...\n",
      "Processing Record 38 of Set 7 | kruisfontein\n",
      "Processing Record 39 of Set 7 | cravo norte\n",
      "Processing Record 40 of Set 7 | aban\n",
      "Processing Record 41 of Set 7 | douglas\n",
      "Processing Record 42 of Set 7 | kuchinarai\n",
      "Processing Record 43 of Set 7 | lardos\n",
      "Processing Record 44 of Set 7 | ancud\n",
      "Processing Record 45 of Set 7 | sarangani\n",
      "Processing Record 46 of Set 7 | smithers\n",
      "Processing Record 47 of Set 7 | turan\n",
      "Processing Record 48 of Set 7 | puerto baquerizo moreno\n",
      "Processing Record 49 of Set 7 | lodja\n",
      "Processing Record 50 of Set 7 | sankheda\n",
      "Processing Record 1 of Set 8 | sahuaripa\n",
      "Processing Record 2 of Set 8 | banda aceh\n",
      "Processing Record 3 of Set 8 | palana\n",
      "Processing Record 4 of Set 8 | salalah\n",
      "Processing Record 5 of Set 8 | los llanos de aridane\n",
      "Processing Record 6 of Set 8 | tanete\n",
      "Processing Record 7 of Set 8 | asau\n",
      "Processing Record 8 of Set 8 | berbera\n",
      "Processing Record 9 of Set 8 | bandundu\n",
      "Processing Record 10 of Set 8 | davila\n",
      "Processing Record 11 of Set 8 | suluq\n",
      "Processing Record 12 of Set 8 | kankon\n",
      "Processing Record 13 of Set 8 | sitka\n",
      "Processing Record 14 of Set 8 | wajir\n",
      "Processing Record 15 of Set 8 | mayo\n",
      "Processing Record 16 of Set 8 | avrille\n",
      "Processing Record 17 of Set 8 | morro bay\n",
      "Processing Record 18 of Set 8 | winneba\n",
      "Processing Record 19 of Set 8 | dukat\n",
      "Processing Record 20 of Set 8 | broken hill\n",
      "Processing Record 21 of Set 8 | ornskoldsvik\n",
      "Processing Record 22 of Set 8 | kapoeta\n",
      "Processing Record 23 of Set 8 | le port\n",
      "Processing Record 24 of Set 8 | bolungarvik\n",
      "City not found. Skipping...\n",
      "Processing Record 25 of Set 8 | carroll\n",
      "Processing Record 26 of Set 8 | strelka\n",
      "Processing Record 27 of Set 8 | islamkot\n",
      "Processing Record 28 of Set 8 | iberia\n",
      "Processing Record 29 of Set 8 | honningsvag\n",
      "Processing Record 30 of Set 8 | palaikastron\n"
     ]
    },
    {
     "name": "stdout",
     "output_type": "stream",
     "text": [
      "Processing Record 31 of Set 8 | lamar\n",
      "Processing Record 32 of Set 8 | tessalit\n",
      "Processing Record 33 of Set 8 | tulum\n",
      "Processing Record 34 of Set 8 | grand gaube\n",
      "Processing Record 35 of Set 8 | boundiali\n",
      "Processing Record 36 of Set 8 | cherepovets\n",
      "Processing Record 37 of Set 8 | ypsonas\n",
      "Processing Record 38 of Set 8 | maroantsetra\n",
      "Processing Record 39 of Set 8 | umm kaddadah\n",
      "Processing Record 40 of Set 8 | amderma\n",
      "City not found. Skipping...\n",
      "Processing Record 41 of Set 8 | hornepayne\n",
      "Processing Record 42 of Set 8 | high level\n",
      "Processing Record 43 of Set 8 | kushima\n",
      "Processing Record 44 of Set 8 | marsa matruh\n",
      "Processing Record 45 of Set 8 | rundu\n",
      "Processing Record 46 of Set 8 | puerto leguizamo\n",
      "Processing Record 47 of Set 8 | senanga\n",
      "Processing Record 48 of Set 8 | gonzales\n",
      "Processing Record 49 of Set 8 | laurel\n",
      "Processing Record 50 of Set 8 | scarborough\n",
      "Processing Record 1 of Set 9 | hohhot\n",
      "Processing Record 2 of Set 9 | contai\n",
      "Processing Record 3 of Set 9 | mecca\n",
      "Processing Record 4 of Set 9 | altea\n",
      "Processing Record 5 of Set 9 | manicore\n",
      "Processing Record 6 of Set 9 | umzimvubu\n",
      "City not found. Skipping...\n",
      "Processing Record 7 of Set 9 | faire\n",
      "City not found. Skipping...\n",
      "Processing Record 8 of Set 9 | rio grande\n",
      "Processing Record 9 of Set 9 | itaituba\n",
      "Processing Record 10 of Set 9 | luderitz\n",
      "Processing Record 11 of Set 9 | vestmanna\n",
      "Processing Record 12 of Set 9 | constitucion\n",
      "Processing Record 13 of Set 9 | baykalsk\n",
      "Processing Record 14 of Set 9 | samusu\n",
      "City not found. Skipping...\n",
      "Processing Record 15 of Set 9 | port macquarie\n",
      "Processing Record 16 of Set 9 | chagda\n",
      "City not found. Skipping...\n",
      "Processing Record 17 of Set 9 | ossora\n",
      "Processing Record 18 of Set 9 | luanda\n",
      "Processing Record 19 of Set 9 | gonda\n",
      "Processing Record 20 of Set 9 | mujiayingzi\n",
      "Processing Record 21 of Set 9 | laguna\n",
      "Processing Record 22 of Set 9 | port lincoln\n",
      "Processing Record 23 of Set 9 | taltal\n",
      "Processing Record 24 of Set 9 | paragominas\n",
      "Processing Record 25 of Set 9 | lazaro cardenas\n",
      "Processing Record 26 of Set 9 | rolim de moura\n",
      "City not found. Skipping...\n",
      "Processing Record 27 of Set 9 | dickinson\n",
      "Processing Record 28 of Set 9 | cockburn harbour\n",
      "City not found. Skipping...\n",
      "Processing Record 29 of Set 9 | ulagan\n",
      "Processing Record 30 of Set 9 | arica\n",
      "Processing Record 31 of Set 9 | bestobe\n",
      "Processing Record 32 of Set 9 | vangaindrano\n",
      "Processing Record 33 of Set 9 | pisco\n",
      "Processing Record 34 of Set 9 | matameye\n",
      "City not found. Skipping...\n",
      "Processing Record 35 of Set 9 | sao filipe\n",
      "Processing Record 36 of Set 9 | chilliwack\n",
      "Processing Record 37 of Set 9 | araguaina\n",
      "Processing Record 38 of Set 9 | kaeo\n",
      "Processing Record 39 of Set 9 | san jeronimo\n",
      "Processing Record 40 of Set 9 | caconda\n",
      "Processing Record 41 of Set 9 | kanigoro\n",
      "Processing Record 42 of Set 9 | cimarron hills\n",
      "Processing Record 43 of Set 9 | polson\n",
      "Processing Record 44 of Set 9 | yura\n",
      "Processing Record 45 of Set 9 | kahului\n",
      "Processing Record 46 of Set 9 | namatanai\n",
      "Processing Record 47 of Set 9 | komsomolskiy\n",
      "Processing Record 48 of Set 9 | viedma\n",
      "Processing Record 49 of Set 9 | acopiara\n",
      "Processing Record 50 of Set 9 | mount isa\n",
      "Processing Record 1 of Set 10 | flin flon\n",
      "Processing Record 2 of Set 10 | goderich\n",
      "Processing Record 3 of Set 10 | labuan\n",
      "Processing Record 4 of Set 10 | helena\n",
      "Processing Record 5 of Set 10 | mangan\n",
      "Processing Record 6 of Set 10 | balkhash\n",
      "Processing Record 7 of Set 10 | liaoyang\n",
      "Processing Record 8 of Set 10 | owando\n",
      "Processing Record 9 of Set 10 | ulaanbaatar\n",
      "Processing Record 10 of Set 10 | santa cruz\n",
      "Processing Record 11 of Set 10 | falealupo\n",
      "City not found. Skipping...\n",
      "Processing Record 12 of Set 10 | nautla\n",
      "Processing Record 13 of Set 10 | longyearbyen\n",
      "Processing Record 14 of Set 10 | soyo\n",
      "Processing Record 15 of Set 10 | impfondo\n",
      "Processing Record 16 of Set 10 | moose factory\n",
      "Processing Record 17 of Set 10 | yarmouth\n",
      "Processing Record 18 of Set 10 | longlac\n",
      "City not found. Skipping...\n",
      "Processing Record 19 of Set 10 | bac lieu\n",
      "Processing Record 20 of Set 10 | warqla\n",
      "City not found. Skipping...\n",
      "Processing Record 21 of Set 10 | xiongyue\n",
      "Processing Record 22 of Set 10 | vostok\n",
      "Processing Record 23 of Set 10 | hualmay\n",
      "Processing Record 24 of Set 10 | churumuco\n",
      "City not found. Skipping...\n",
      "Processing Record 25 of Set 10 | saint-augustin\n",
      "Processing Record 26 of Set 10 | isla mujeres\n",
      "Processing Record 27 of Set 10 | kutum\n",
      "Processing Record 28 of Set 10 | brownsville\n",
      "Processing Record 29 of Set 10 | mocuba\n",
      "Processing Record 30 of Set 10 | staryy nadym\n",
      "Processing Record 31 of Set 10 | businga\n",
      "Processing Record 32 of Set 10 | krasnoselkup\n",
      "Processing Record 33 of Set 10 | turtkul\n",
      "City not found. Skipping...\n",
      "Processing Record 34 of Set 10 | batagay\n",
      "Processing Record 35 of Set 10 | temaraia\n",
      "City not found. Skipping...\n",
      "Processing Record 36 of Set 10 | wamba\n",
      "Processing Record 37 of Set 10 | kawalu\n",
      "Processing Record 38 of Set 10 | tucuman\n",
      "Processing Record 39 of Set 10 | cockburn town\n",
      "Processing Record 40 of Set 10 | devonport\n",
      "Processing Record 41 of Set 10 | talcahuano\n",
      "Processing Record 42 of Set 10 | seynod\n",
      "Processing Record 43 of Set 10 | ouargaye\n",
      "Processing Record 44 of Set 10 | olavarria\n",
      "Processing Record 45 of Set 10 | kalachinsk\n",
      "Processing Record 46 of Set 10 | aksu\n",
      "Processing Record 47 of Set 10 | mahebourg\n",
      "Processing Record 48 of Set 10 | balakliya\n",
      "Processing Record 49 of Set 10 | port hedland\n",
      "Processing Record 50 of Set 10 | avera\n",
      "Processing Record 1 of Set 11 | zaragoza\n",
      "Processing Record 2 of Set 11 | fortuna\n",
      "Processing Record 3 of Set 11 | corinto\n",
      "Processing Record 4 of Set 11 | juneau\n",
      "Processing Record 5 of Set 11 | general roca\n",
      "Processing Record 6 of Set 11 | kasumkent\n",
      "Processing Record 7 of Set 11 | savannah bight\n",
      "Processing Record 8 of Set 11 | gazojak\n",
      "Processing Record 9 of Set 11 | vila velha\n",
      "Processing Record 10 of Set 11 | dzhusaly\n",
      "City not found. Skipping...\n",
      "Processing Record 11 of Set 11 | castellarano\n",
      "Processing Record 12 of Set 11 | guangzhou\n",
      "Processing Record 13 of Set 11 | taunggyi\n",
      "Processing Record 14 of Set 11 | okha\n",
      "Processing Record 15 of Set 11 | praia\n",
      "Processing Record 16 of Set 11 | wum\n",
      "Processing Record 17 of Set 11 | rusape\n",
      "Processing Record 18 of Set 11 | otavalo\n",
      "Processing Record 19 of Set 11 | gwadar\n",
      "Processing Record 20 of Set 11 | tiznit\n",
      "Processing Record 21 of Set 11 | mairi\n",
      "Processing Record 22 of Set 11 | mabaruma\n",
      "Processing Record 23 of Set 11 | pinjaur\n",
      "Processing Record 24 of Set 11 | numaligarh\n",
      "Processing Record 25 of Set 11 | katangli\n",
      "Processing Record 26 of Set 11 | biabas\n",
      "Processing Record 27 of Set 11 | acapulco\n",
      "Processing Record 28 of Set 11 | north bend\n",
      "Processing Record 29 of Set 11 | feldkirchen an der donau\n",
      "Processing Record 30 of Set 11 | kununurra\n",
      "Processing Record 31 of Set 11 | nouadhibou\n",
      "Processing Record 32 of Set 11 | tonj\n",
      "Processing Record 33 of Set 11 | myitkyina\n",
      "Processing Record 34 of Set 11 | anloga\n",
      "Processing Record 35 of Set 11 | aykhal\n",
      "Processing Record 36 of Set 11 | ahipara\n",
      "Processing Record 37 of Set 11 | korla\n",
      "Processing Record 38 of Set 11 | sibsagar\n",
      "Processing Record 39 of Set 11 | zasheyek\n",
      "Processing Record 40 of Set 11 | leningradskiy\n",
      "Processing Record 41 of Set 11 | ulcinj\n",
      "Processing Record 42 of Set 11 | galiwinku\n",
      "City not found. Skipping...\n",
      "Processing Record 43 of Set 11 | tanout\n",
      "Processing Record 44 of Set 11 | bunia\n",
      "Processing Record 45 of Set 11 | wadi musa\n",
      "Processing Record 46 of Set 11 | marawi\n",
      "Processing Record 47 of Set 11 | svetlyy\n",
      "Processing Record 48 of Set 11 | kharagpur\n",
      "Processing Record 49 of Set 11 | provideniya\n",
      "Processing Record 50 of Set 11 | nelson bay\n",
      "Processing Record 1 of Set 12 | paita\n",
      "Processing Record 2 of Set 12 | xining\n",
      "Processing Record 3 of Set 12 | ahuimanu\n",
      "Processing Record 4 of Set 12 | lugovoy\n",
      "Processing Record 5 of Set 12 | shingu\n",
      "Processing Record 6 of Set 12 | kourou\n",
      "Processing Record 7 of Set 12 | yichang\n",
      "Processing Record 8 of Set 12 | tooele\n",
      "Processing Record 9 of Set 12 | beringovskiy\n",
      "Processing Record 10 of Set 12 | bastogne\n",
      "Processing Record 11 of Set 12 | tynda\n",
      "Processing Record 12 of Set 12 | canico\n",
      "Processing Record 13 of Set 12 | sofiysk\n",
      "City not found. Skipping...\n",
      "Processing Record 14 of Set 12 | mangrul pir\n",
      "Processing Record 15 of Set 12 | puerto carreno\n",
      "Processing Record 16 of Set 12 | wanning\n"
     ]
    },
    {
     "name": "stdout",
     "output_type": "stream",
     "text": [
      "Processing Record 17 of Set 12 | kyren\n",
      "Processing Record 18 of Set 12 | bundaberg\n",
      "Processing Record 19 of Set 12 | lokosovo\n",
      "Processing Record 20 of Set 12 | kaikalur\n",
      "Processing Record 21 of Set 12 | sinnamary\n",
      "Processing Record 22 of Set 12 | yar-sale\n",
      "Processing Record 23 of Set 12 | belaya gora\n",
      "Processing Record 24 of Set 12 | muisne\n",
      "Processing Record 25 of Set 12 | baiyin\n",
      "Processing Record 26 of Set 12 | victor harbor\n",
      "Processing Record 27 of Set 12 | nome\n",
      "Processing Record 28 of Set 12 | nyurba\n",
      "Processing Record 29 of Set 12 | lichinga\n",
      "Processing Record 30 of Set 12 | santa rosa\n",
      "Processing Record 31 of Set 12 | port blair\n",
      "Processing Record 32 of Set 12 | harper\n",
      "Processing Record 33 of Set 12 | deep river\n",
      "Processing Record 34 of Set 12 | kijang\n",
      "Processing Record 35 of Set 12 | aplahoue\n",
      "Processing Record 36 of Set 12 | tabiauea\n",
      "City not found. Skipping...\n",
      "Processing Record 37 of Set 12 | towada\n",
      "Processing Record 38 of Set 12 | port keats\n",
      "Processing Record 39 of Set 12 | burkhala\n",
      "City not found. Skipping...\n",
      "Processing Record 40 of Set 12 | vila franca do campo\n",
      "Processing Record 41 of Set 12 | tres arroyos\n",
      "Processing Record 42 of Set 12 | whitehorse\n",
      "Processing Record 43 of Set 12 | rochester\n",
      "Processing Record 44 of Set 12 | malwan\n",
      "City not found. Skipping...\n",
      "Processing Record 45 of Set 12 | oranjemund\n",
      "Processing Record 46 of Set 12 | abu samrah\n",
      "Processing Record 47 of Set 12 | grimari\n",
      "City not found. Skipping...\n",
      "Processing Record 48 of Set 12 | punto fijo\n",
      "Processing Record 49 of Set 12 | mariental\n",
      "Processing Record 50 of Set 12 | prince rupert\n",
      "Processing Record 1 of Set 13 | iquique\n",
      "Processing Record 2 of Set 13 | sinkat\n",
      "City not found. Skipping...\n",
      "Processing Record 3 of Set 13 | yakeshi\n",
      "Processing Record 4 of Set 13 | prado\n",
      "Processing Record 5 of Set 13 | yako\n",
      "Processing Record 6 of Set 13 | ayna\n",
      "Processing Record 7 of Set 13 | biysk\n",
      "Processing Record 8 of Set 13 | takoradi\n",
      "Processing Record 9 of Set 13 | gorontalo\n",
      "Processing Record 10 of Set 13 | dzhebariki-khaya\n",
      "Processing Record 11 of Set 13 | adamantina\n",
      "Processing Record 12 of Set 13 | taft\n",
      "Processing Record 13 of Set 13 | shibetsu\n",
      "Processing Record 14 of Set 13 | vercelli\n",
      "Processing Record 15 of Set 13 | yagodnoye\n",
      "-----------------------------\n",
      "Data Retrieval Complete      \n",
      "-----------------------------\n"
     ]
    }
   ],
   "source": [
    "# Loop through all the cities in the list.\n",
    "for i, city in enumerate(cities):\n",
    "\n",
    "    # Group cities in sets of 50 for logging purposes.\n",
    "    if (i % 50 == 0 and i >= 50):\n",
    "        set_count += 1\n",
    "        record_count = 1\n",
    "    # Create endpoint URL with each city.\n",
    "    city_url = url + \"&q=\" + city\n",
    "\n",
    "    # Log the URL, record, and set numbers and the city.\n",
    "    print(f\"Processing Record {record_count} of Set {set_count} | {city}\")\n",
    "    # Add 1 to the record count.\n",
    "    record_count += 1\n",
    "    \n",
    "    # Run an API request for each of the cities.\n",
    "    try:\n",
    "        # Parse the JSON and retrieve data.\n",
    "        city_weather = requests.get(city_url).json()\n",
    "        # Parse out the needed data.\n",
    "        city_lat = city_weather[\"coord\"][\"lat\"]\n",
    "        city_lng = city_weather[\"coord\"][\"lon\"]\n",
    "        city_max_temp = city_weather[\"main\"][\"temp_max\"]\n",
    "        city_humidity = city_weather[\"main\"][\"humidity\"]\n",
    "        city_clouds = city_weather[\"clouds\"][\"all\"]\n",
    "        city_wind = city_weather[\"wind\"][\"speed\"]\n",
    "        city_country = city_weather[\"sys\"][\"country\"]\n",
    "        # Convert the date to ISO standard.\n",
    "        city_date = datetime.utcfromtimestamp(city_weather[\"dt\"]).strftime('%Y-%m-%d %H:%M:%S')\n",
    "        # Append the city information into city_data list.\n",
    "        city_data.append({\"City\": city.title(),\n",
    "                          \"Lat\": city_lat,\n",
    "                          \"Lng\": city_lng,\n",
    "                          \"Max Temp\": city_max_temp,\n",
    "                          \"Humidity\": city_humidity,\n",
    "                          \"Cloudiness\": city_clouds,\n",
    "                          \"Wind Speed\": city_wind,\n",
    "                          \"Country\": city_country,\n",
    "                          \"Date\": city_date})\n",
    "\n",
    "    # If an error is experienced, skip the city.\n",
    "    except:\n",
    "        print(\"City not found. Skipping...\")\n",
    "        pass\n",
    "\n",
    "# Indicate that Data Loading is complete.\n",
    "print(\"-----------------------------\")\n",
    "print(\"Data Retrieval Complete      \")\n",
    "print(\"-----------------------------\")"
   ]
  },
  {
   "cell_type": "code",
   "execution_count": 38,
   "metadata": {},
   "outputs": [
    {
     "data": {
      "text/html": [
       "<div>\n",
       "<style scoped>\n",
       "    .dataframe tbody tr th:only-of-type {\n",
       "        vertical-align: middle;\n",
       "    }\n",
       "\n",
       "    .dataframe tbody tr th {\n",
       "        vertical-align: top;\n",
       "    }\n",
       "\n",
       "    .dataframe thead th {\n",
       "        text-align: right;\n",
       "    }\n",
       "</style>\n",
       "<table border=\"1\" class=\"dataframe\">\n",
       "  <thead>\n",
       "    <tr style=\"text-align: right;\">\n",
       "      <th></th>\n",
       "      <th>City</th>\n",
       "      <th>Lat</th>\n",
       "      <th>Lng</th>\n",
       "      <th>Max Temp</th>\n",
       "      <th>Humidity</th>\n",
       "      <th>Cloudiness</th>\n",
       "      <th>Wind Speed</th>\n",
       "      <th>Country</th>\n",
       "      <th>Date</th>\n",
       "    </tr>\n",
       "  </thead>\n",
       "  <tbody>\n",
       "    <tr>\n",
       "      <th>0</th>\n",
       "      <td>Soskovo</td>\n",
       "      <td>52.75</td>\n",
       "      <td>35.38</td>\n",
       "      <td>36.45</td>\n",
       "      <td>81</td>\n",
       "      <td>94</td>\n",
       "      <td>12.39</td>\n",
       "      <td>RU</td>\n",
       "      <td>2020-04-16 04:02:33</td>\n",
       "    </tr>\n",
       "    <tr>\n",
       "      <th>1</th>\n",
       "      <td>Chuy</td>\n",
       "      <td>-33.70</td>\n",
       "      <td>-53.46</td>\n",
       "      <td>62.26</td>\n",
       "      <td>80</td>\n",
       "      <td>53</td>\n",
       "      <td>19.26</td>\n",
       "      <td>UY</td>\n",
       "      <td>2020-04-16 04:02:33</td>\n",
       "    </tr>\n",
       "    <tr>\n",
       "      <th>2</th>\n",
       "      <td>Castro</td>\n",
       "      <td>-24.79</td>\n",
       "      <td>-50.01</td>\n",
       "      <td>48.11</td>\n",
       "      <td>48</td>\n",
       "      <td>0</td>\n",
       "      <td>2.08</td>\n",
       "      <td>BR</td>\n",
       "      <td>2020-04-16 03:58:30</td>\n",
       "    </tr>\n",
       "    <tr>\n",
       "      <th>3</th>\n",
       "      <td>Hasaki</td>\n",
       "      <td>35.73</td>\n",
       "      <td>140.83</td>\n",
       "      <td>57.99</td>\n",
       "      <td>66</td>\n",
       "      <td>75</td>\n",
       "      <td>12.75</td>\n",
       "      <td>JP</td>\n",
       "      <td>2020-04-16 04:02:34</td>\n",
       "    </tr>\n",
       "    <tr>\n",
       "      <th>4</th>\n",
       "      <td>Xudat</td>\n",
       "      <td>41.63</td>\n",
       "      <td>48.68</td>\n",
       "      <td>53.04</td>\n",
       "      <td>68</td>\n",
       "      <td>40</td>\n",
       "      <td>17.29</td>\n",
       "      <td>AZ</td>\n",
       "      <td>2020-04-16 04:02:34</td>\n",
       "    </tr>\n",
       "    <tr>\n",
       "      <th>5</th>\n",
       "      <td>Faanui</td>\n",
       "      <td>-16.48</td>\n",
       "      <td>-151.75</td>\n",
       "      <td>83.75</td>\n",
       "      <td>65</td>\n",
       "      <td>35</td>\n",
       "      <td>6.17</td>\n",
       "      <td>PF</td>\n",
       "      <td>2020-04-16 04:02:34</td>\n",
       "    </tr>\n",
       "    <tr>\n",
       "      <th>6</th>\n",
       "      <td>Ugoofaaru</td>\n",
       "      <td>5.67</td>\n",
       "      <td>73.00</td>\n",
       "      <td>85.91</td>\n",
       "      <td>66</td>\n",
       "      <td>85</td>\n",
       "      <td>7.90</td>\n",
       "      <td>MV</td>\n",
       "      <td>2020-04-16 04:02:34</td>\n",
       "    </tr>\n",
       "    <tr>\n",
       "      <th>7</th>\n",
       "      <td>Amapa</td>\n",
       "      <td>1.00</td>\n",
       "      <td>-52.00</td>\n",
       "      <td>74.21</td>\n",
       "      <td>83</td>\n",
       "      <td>95</td>\n",
       "      <td>0.98</td>\n",
       "      <td>BR</td>\n",
       "      <td>2020-04-16 03:59:37</td>\n",
       "    </tr>\n",
       "    <tr>\n",
       "      <th>8</th>\n",
       "      <td>Rikitea</td>\n",
       "      <td>-23.12</td>\n",
       "      <td>-134.97</td>\n",
       "      <td>77.81</td>\n",
       "      <td>76</td>\n",
       "      <td>100</td>\n",
       "      <td>7.83</td>\n",
       "      <td>PF</td>\n",
       "      <td>2020-04-16 04:02:35</td>\n",
       "    </tr>\n",
       "    <tr>\n",
       "      <th>9</th>\n",
       "      <td>Port Elizabeth</td>\n",
       "      <td>-33.92</td>\n",
       "      <td>25.57</td>\n",
       "      <td>59.00</td>\n",
       "      <td>82</td>\n",
       "      <td>84</td>\n",
       "      <td>10.29</td>\n",
       "      <td>ZA</td>\n",
       "      <td>2020-04-16 04:02:35</td>\n",
       "    </tr>\n",
       "  </tbody>\n",
       "</table>\n",
       "</div>"
      ],
      "text/plain": [
       "             City    Lat     Lng  Max Temp  Humidity  Cloudiness  Wind Speed  \\\n",
       "0         Soskovo  52.75   35.38     36.45        81          94       12.39   \n",
       "1            Chuy -33.70  -53.46     62.26        80          53       19.26   \n",
       "2          Castro -24.79  -50.01     48.11        48           0        2.08   \n",
       "3          Hasaki  35.73  140.83     57.99        66          75       12.75   \n",
       "4           Xudat  41.63   48.68     53.04        68          40       17.29   \n",
       "5          Faanui -16.48 -151.75     83.75        65          35        6.17   \n",
       "6       Ugoofaaru   5.67   73.00     85.91        66          85        7.90   \n",
       "7           Amapa   1.00  -52.00     74.21        83          95        0.98   \n",
       "8         Rikitea -23.12 -134.97     77.81        76         100        7.83   \n",
       "9  Port Elizabeth -33.92   25.57     59.00        82          84       10.29   \n",
       "\n",
       "  Country                 Date  \n",
       "0      RU  2020-04-16 04:02:33  \n",
       "1      UY  2020-04-16 04:02:33  \n",
       "2      BR  2020-04-16 03:58:30  \n",
       "3      JP  2020-04-16 04:02:34  \n",
       "4      AZ  2020-04-16 04:02:34  \n",
       "5      PF  2020-04-16 04:02:34  \n",
       "6      MV  2020-04-16 04:02:34  \n",
       "7      BR  2020-04-16 03:59:37  \n",
       "8      PF  2020-04-16 04:02:35  \n",
       "9      ZA  2020-04-16 04:02:35  "
      ]
     },
     "execution_count": 38,
     "metadata": {},
     "output_type": "execute_result"
    }
   ],
   "source": [
    "# Convert the array of dictionaries to a Pandas DataFrame.\n",
    "city_data_df = pd.DataFrame(city_data)\n",
    "city_data_df.head(10)"
   ]
  },
  {
   "cell_type": "code",
   "execution_count": 39,
   "metadata": {},
   "outputs": [],
   "source": [
    "new_column_order = [\"City\",\"Country\",\"Date\",\"Lat\",\"Lng\",\"Max Temp\",\"Humidity\",\"Cloudiness\",\"Wind Speed\"]"
   ]
  },
  {
   "cell_type": "code",
   "execution_count": 40,
   "metadata": {},
   "outputs": [],
   "source": [
    "city_data_df = city_data_df[new_column_order]"
   ]
  },
  {
   "cell_type": "code",
   "execution_count": 41,
   "metadata": {},
   "outputs": [
    {
     "data": {
      "text/plain": [
       "565"
      ]
     },
     "execution_count": 41,
     "metadata": {},
     "output_type": "execute_result"
    }
   ],
   "source": [
    "len(city_data)"
   ]
  },
  {
   "cell_type": "code",
   "execution_count": 42,
   "metadata": {},
   "outputs": [
    {
     "data": {
      "text/html": [
       "<div>\n",
       "<style scoped>\n",
       "    .dataframe tbody tr th:only-of-type {\n",
       "        vertical-align: middle;\n",
       "    }\n",
       "\n",
       "    .dataframe tbody tr th {\n",
       "        vertical-align: top;\n",
       "    }\n",
       "\n",
       "    .dataframe thead th {\n",
       "        text-align: right;\n",
       "    }\n",
       "</style>\n",
       "<table border=\"1\" class=\"dataframe\">\n",
       "  <thead>\n",
       "    <tr style=\"text-align: right;\">\n",
       "      <th></th>\n",
       "      <th>City</th>\n",
       "      <th>Country</th>\n",
       "      <th>Date</th>\n",
       "      <th>Lat</th>\n",
       "      <th>Lng</th>\n",
       "      <th>Max Temp</th>\n",
       "      <th>Humidity</th>\n",
       "      <th>Cloudiness</th>\n",
       "      <th>Wind Speed</th>\n",
       "    </tr>\n",
       "  </thead>\n",
       "  <tbody>\n",
       "    <tr>\n",
       "      <th>0</th>\n",
       "      <td>Soskovo</td>\n",
       "      <td>RU</td>\n",
       "      <td>2020-04-16 04:02:33</td>\n",
       "      <td>52.75</td>\n",
       "      <td>35.38</td>\n",
       "      <td>36.45</td>\n",
       "      <td>81</td>\n",
       "      <td>94</td>\n",
       "      <td>12.39</td>\n",
       "    </tr>\n",
       "    <tr>\n",
       "      <th>1</th>\n",
       "      <td>Chuy</td>\n",
       "      <td>UY</td>\n",
       "      <td>2020-04-16 04:02:33</td>\n",
       "      <td>-33.70</td>\n",
       "      <td>-53.46</td>\n",
       "      <td>62.26</td>\n",
       "      <td>80</td>\n",
       "      <td>53</td>\n",
       "      <td>19.26</td>\n",
       "    </tr>\n",
       "    <tr>\n",
       "      <th>2</th>\n",
       "      <td>Castro</td>\n",
       "      <td>BR</td>\n",
       "      <td>2020-04-16 03:58:30</td>\n",
       "      <td>-24.79</td>\n",
       "      <td>-50.01</td>\n",
       "      <td>48.11</td>\n",
       "      <td>48</td>\n",
       "      <td>0</td>\n",
       "      <td>2.08</td>\n",
       "    </tr>\n",
       "    <tr>\n",
       "      <th>3</th>\n",
       "      <td>Hasaki</td>\n",
       "      <td>JP</td>\n",
       "      <td>2020-04-16 04:02:34</td>\n",
       "      <td>35.73</td>\n",
       "      <td>140.83</td>\n",
       "      <td>57.99</td>\n",
       "      <td>66</td>\n",
       "      <td>75</td>\n",
       "      <td>12.75</td>\n",
       "    </tr>\n",
       "    <tr>\n",
       "      <th>4</th>\n",
       "      <td>Xudat</td>\n",
       "      <td>AZ</td>\n",
       "      <td>2020-04-16 04:02:34</td>\n",
       "      <td>41.63</td>\n",
       "      <td>48.68</td>\n",
       "      <td>53.04</td>\n",
       "      <td>68</td>\n",
       "      <td>40</td>\n",
       "      <td>17.29</td>\n",
       "    </tr>\n",
       "    <tr>\n",
       "      <th>5</th>\n",
       "      <td>Faanui</td>\n",
       "      <td>PF</td>\n",
       "      <td>2020-04-16 04:02:34</td>\n",
       "      <td>-16.48</td>\n",
       "      <td>-151.75</td>\n",
       "      <td>83.75</td>\n",
       "      <td>65</td>\n",
       "      <td>35</td>\n",
       "      <td>6.17</td>\n",
       "    </tr>\n",
       "    <tr>\n",
       "      <th>6</th>\n",
       "      <td>Ugoofaaru</td>\n",
       "      <td>MV</td>\n",
       "      <td>2020-04-16 04:02:34</td>\n",
       "      <td>5.67</td>\n",
       "      <td>73.00</td>\n",
       "      <td>85.91</td>\n",
       "      <td>66</td>\n",
       "      <td>85</td>\n",
       "      <td>7.90</td>\n",
       "    </tr>\n",
       "    <tr>\n",
       "      <th>7</th>\n",
       "      <td>Amapa</td>\n",
       "      <td>BR</td>\n",
       "      <td>2020-04-16 03:59:37</td>\n",
       "      <td>1.00</td>\n",
       "      <td>-52.00</td>\n",
       "      <td>74.21</td>\n",
       "      <td>83</td>\n",
       "      <td>95</td>\n",
       "      <td>0.98</td>\n",
       "    </tr>\n",
       "    <tr>\n",
       "      <th>8</th>\n",
       "      <td>Rikitea</td>\n",
       "      <td>PF</td>\n",
       "      <td>2020-04-16 04:02:35</td>\n",
       "      <td>-23.12</td>\n",
       "      <td>-134.97</td>\n",
       "      <td>77.81</td>\n",
       "      <td>76</td>\n",
       "      <td>100</td>\n",
       "      <td>7.83</td>\n",
       "    </tr>\n",
       "    <tr>\n",
       "      <th>9</th>\n",
       "      <td>Port Elizabeth</td>\n",
       "      <td>ZA</td>\n",
       "      <td>2020-04-16 04:02:35</td>\n",
       "      <td>-33.92</td>\n",
       "      <td>25.57</td>\n",
       "      <td>59.00</td>\n",
       "      <td>82</td>\n",
       "      <td>84</td>\n",
       "      <td>10.29</td>\n",
       "    </tr>\n",
       "  </tbody>\n",
       "</table>\n",
       "</div>"
      ],
      "text/plain": [
       "             City Country                 Date    Lat     Lng  Max Temp  \\\n",
       "0         Soskovo      RU  2020-04-16 04:02:33  52.75   35.38     36.45   \n",
       "1            Chuy      UY  2020-04-16 04:02:33 -33.70  -53.46     62.26   \n",
       "2          Castro      BR  2020-04-16 03:58:30 -24.79  -50.01     48.11   \n",
       "3          Hasaki      JP  2020-04-16 04:02:34  35.73  140.83     57.99   \n",
       "4           Xudat      AZ  2020-04-16 04:02:34  41.63   48.68     53.04   \n",
       "5          Faanui      PF  2020-04-16 04:02:34 -16.48 -151.75     83.75   \n",
       "6       Ugoofaaru      MV  2020-04-16 04:02:34   5.67   73.00     85.91   \n",
       "7           Amapa      BR  2020-04-16 03:59:37   1.00  -52.00     74.21   \n",
       "8         Rikitea      PF  2020-04-16 04:02:35 -23.12 -134.97     77.81   \n",
       "9  Port Elizabeth      ZA  2020-04-16 04:02:35 -33.92   25.57     59.00   \n",
       "\n",
       "   Humidity  Cloudiness  Wind Speed  \n",
       "0        81          94       12.39  \n",
       "1        80          53       19.26  \n",
       "2        48           0        2.08  \n",
       "3        66          75       12.75  \n",
       "4        68          40       17.29  \n",
       "5        65          35        6.17  \n",
       "6        66          85        7.90  \n",
       "7        83          95        0.98  \n",
       "8        76         100        7.83  \n",
       "9        82          84       10.29  "
      ]
     },
     "execution_count": 42,
     "metadata": {},
     "output_type": "execute_result"
    }
   ],
   "source": [
    "# Convert the array of dictionaries to a Pandas DataFrame.\n",
    "city_data_df = pd.DataFrame(city_data_df)\n",
    "city_data_df.head(10)"
   ]
  },
  {
   "cell_type": "code",
   "execution_count": 59,
   "metadata": {},
   "outputs": [],
   "source": [
    "# Create the output file (CSV).\n",
    "output_data_file = \"weather_data/cities.csv\"\n",
    "\n",
    "# Export the City_Data into a CSV.\n",
    "city_data_df.to_csv(output_data_file, index_label=\"City_ID\")"
   ]
  },
  {
   "cell_type": "code",
   "execution_count": 60,
   "metadata": {},
   "outputs": [],
   "source": [
    "# Extract relevant fields from the DataFrame for plotting.\n",
    "\n",
    "lats = city_data_df[\"Lat\"]\n",
    "max_temps = city_data_df[\"Max Temp\"]\n",
    "humidity = city_data_df[\"Humidity\"]\n",
    "cloudiness = city_data_df[\"Cloudiness\"]\n",
    "wind_speed = city_data_df[\"Wind Speed\"]"
   ]
  },
  {
   "cell_type": "code",
   "execution_count": 61,
   "metadata": {},
   "outputs": [
    {
     "data": {
      "text/plain": [
       "1587010557.1677423"
      ]
     },
     "execution_count": 61,
     "metadata": {},
     "output_type": "execute_result"
    }
   ],
   "source": [
    "# Import the time module.\n",
    "import time\n",
    " # Get today's date in seconds.\n",
    "today = time.time()\n",
    "today"
   ]
  },
  {
   "cell_type": "code",
   "execution_count": 66,
   "metadata": {},
   "outputs": [],
   "source": [
    "import scipy\n",
    "import matplotlib.pyplot as plt\n",
    "from scipy import stats\n",
    "from scipy.stats import linregress\n",
    "\n",
    "#from scipy import stats\n",
    "#def give_me_scatter(x, y, title, xlabel, ylabel):\n",
    "#The problematic line:\n",
    "slope, intercept, r_value, p_value, std_err = stats.linregress(x, y)"
   ]
  },
  {
   "cell_type": "code",
   "execution_count": 67,
   "metadata": {},
   "outputs": [
    {
     "ename": "NameError",
     "evalue": "name 'x_values' is not defined",
     "output_type": "error",
     "traceback": [
      "\u001b[1;31m---------------------------------------------------------------------------\u001b[0m",
      "\u001b[1;31mNameError\u001b[0m                                 Traceback (most recent call last)",
      "\u001b[1;32m<ipython-input-67-4ce191207f37>\u001b[0m in \u001b[0;36m<module>\u001b[1;34m\u001b[0m\n\u001b[0;32m      1\u001b[0m \u001b[1;31m# Perform linear regression.\u001b[0m\u001b[1;33m\u001b[0m\u001b[1;33m\u001b[0m\u001b[1;33m\u001b[0m\u001b[0m\n\u001b[1;32m----> 2\u001b[1;33m \u001b[1;33m(\u001b[0m\u001b[0mslope\u001b[0m\u001b[1;33m,\u001b[0m \u001b[0mintercept\u001b[0m\u001b[1;33m,\u001b[0m \u001b[0mr_value\u001b[0m\u001b[1;33m,\u001b[0m \u001b[0mp_value\u001b[0m\u001b[1;33m,\u001b[0m \u001b[0mstd_err\u001b[0m\u001b[1;33m)\u001b[0m \u001b[1;33m=\u001b[0m \u001b[0mlinregress\u001b[0m\u001b[1;33m(\u001b[0m\u001b[0mx_values\u001b[0m\u001b[1;33m,\u001b[0m \u001b[0my_values\u001b[0m\u001b[1;33m)\u001b[0m\u001b[1;33m\u001b[0m\u001b[1;33m\u001b[0m\u001b[0m\n\u001b[0m\u001b[0;32m      3\u001b[0m \u001b[1;33m\u001b[0m\u001b[0m\n\u001b[0;32m      4\u001b[0m \u001b[1;31m# Calculate the regression line \"y values\" from the slope and intercept.\u001b[0m\u001b[1;33m\u001b[0m\u001b[1;33m\u001b[0m\u001b[1;33m\u001b[0m\u001b[0m\n\u001b[0;32m      5\u001b[0m \u001b[0mregress_values\u001b[0m \u001b[1;33m=\u001b[0m \u001b[0mx_values\u001b[0m \u001b[1;33m*\u001b[0m \u001b[0mslope\u001b[0m \u001b[1;33m+\u001b[0m \u001b[0mintercept\u001b[0m\u001b[1;33m\u001b[0m\u001b[1;33m\u001b[0m\u001b[0m\n",
      "\u001b[1;31mNameError\u001b[0m: name 'x_values' is not defined"
     ]
    }
   ],
   "source": [
    "# Perform linear regression.\n",
    "(slope, intercept, r_value, p_value, std_err) = linregress(x_values, y_values)\n",
    "\n",
    "# Calculate the regression line \"y values\" from the slope and intercept. \n",
    "regress_values = latitudes * slope + intercept\n",
    "\n",
    "# Get the equation of the line.\n",
    "line_eq = \"y = \" + str(round(slope,2)) + \"x + \" + str(round(intercept,2))\n",
    "\n",
    "# Create a scatter plot of the x and y values.\n",
    "plt.scatter(x_values,y_values)\n",
    "\n",
    "# Plot the regression line with the x-values and the y coordinates based on the intercept and slope.\n",
    "plt.plot(x_values,regress_values,\"r\")\n",
    "\n",
    "# Annotate the text for the line equation and add its coordinates.\n",
    "plt.annotate(line_eq, (10,40), fontsize=15, color=\"red\")\n",
    "plt.xlabel('Latitude')\n",
    "plt.ylabel('Temp')\n",
    "plt.show()"
   ]
  },
  {
   "cell_type": "code",
   "execution_count": 68,
   "metadata": {},
   "outputs": [],
   "source": [
    "# Create a function to create perform linear regression on the weather data\n",
    "# and plot a regression line and the equation with the data.  \n",
    "def plot_linear_regression(x_values, y_values, title, y_label, text_coordinates):\n",
    "    \n",
    "    # Run regression on hemisphere weather data.\n",
    "    (slope, intercept, r_value, p_value, std_err) = linregress(x_values, y_values)\n",
    "    \n",
    "    # Calculate the regression line \"y values\" from the slope and intercept.\n",
    "    regress_values = x_values * slope + intercept\n",
    "    \n",
    "    # Get the equation of the line.\n",
    "    line_eq = \"y = \" + str(round(slope,2)) + \"x + \" + str(round(intercept,2))\n",
    "    \n",
    "    # Create a scatter plot and plot the regression line.\n",
    "    plt.scatter(x_values,y_values)\n",
    "    plt.plot(x_values,regress_values,\"r\")\n",
    "    \n",
    "    # Annotate the text for the line equation.\n",
    "    plt.annotate(line_eq, text_coordinates, fontsize=15, color=\"red\")\n",
    "    plt.xlabel('Latitude')\n",
    "    plt.ylabel(y_label)\n",
    "    plt.show()"
   ]
  },
  {
   "cell_type": "code",
   "execution_count": 69,
   "metadata": {},
   "outputs": [
    {
     "data": {
      "text/html": [
       "<div>\n",
       "<style scoped>\n",
       "    .dataframe tbody tr th:only-of-type {\n",
       "        vertical-align: middle;\n",
       "    }\n",
       "\n",
       "    .dataframe tbody tr th {\n",
       "        vertical-align: top;\n",
       "    }\n",
       "\n",
       "    .dataframe thead th {\n",
       "        text-align: right;\n",
       "    }\n",
       "</style>\n",
       "<table border=\"1\" class=\"dataframe\">\n",
       "  <thead>\n",
       "    <tr style=\"text-align: right;\">\n",
       "      <th></th>\n",
       "      <th>City</th>\n",
       "      <th>Country</th>\n",
       "      <th>Date</th>\n",
       "      <th>Lat</th>\n",
       "      <th>Lng</th>\n",
       "      <th>Max Temp</th>\n",
       "      <th>Humidity</th>\n",
       "      <th>Cloudiness</th>\n",
       "      <th>Wind Speed</th>\n",
       "    </tr>\n",
       "  </thead>\n",
       "  <tbody>\n",
       "    <tr>\n",
       "      <th>0</th>\n",
       "      <td>Soskovo</td>\n",
       "      <td>RU</td>\n",
       "      <td>2020-04-16 04:02:33</td>\n",
       "      <td>52.75</td>\n",
       "      <td>35.38</td>\n",
       "      <td>36.45</td>\n",
       "      <td>81</td>\n",
       "      <td>94</td>\n",
       "      <td>12.39</td>\n",
       "    </tr>\n",
       "    <tr>\n",
       "      <th>3</th>\n",
       "      <td>Hasaki</td>\n",
       "      <td>JP</td>\n",
       "      <td>2020-04-16 04:02:34</td>\n",
       "      <td>35.73</td>\n",
       "      <td>140.83</td>\n",
       "      <td>57.99</td>\n",
       "      <td>66</td>\n",
       "      <td>75</td>\n",
       "      <td>12.75</td>\n",
       "    </tr>\n",
       "    <tr>\n",
       "      <th>4</th>\n",
       "      <td>Xudat</td>\n",
       "      <td>AZ</td>\n",
       "      <td>2020-04-16 04:02:34</td>\n",
       "      <td>41.63</td>\n",
       "      <td>48.68</td>\n",
       "      <td>53.04</td>\n",
       "      <td>68</td>\n",
       "      <td>40</td>\n",
       "      <td>17.29</td>\n",
       "    </tr>\n",
       "    <tr>\n",
       "      <th>6</th>\n",
       "      <td>Ugoofaaru</td>\n",
       "      <td>MV</td>\n",
       "      <td>2020-04-16 04:02:34</td>\n",
       "      <td>5.67</td>\n",
       "      <td>73.00</td>\n",
       "      <td>85.91</td>\n",
       "      <td>66</td>\n",
       "      <td>85</td>\n",
       "      <td>7.90</td>\n",
       "    </tr>\n",
       "    <tr>\n",
       "      <th>7</th>\n",
       "      <td>Amapa</td>\n",
       "      <td>BR</td>\n",
       "      <td>2020-04-16 03:59:37</td>\n",
       "      <td>1.00</td>\n",
       "      <td>-52.00</td>\n",
       "      <td>74.21</td>\n",
       "      <td>83</td>\n",
       "      <td>95</td>\n",
       "      <td>0.98</td>\n",
       "    </tr>\n",
       "    <tr>\n",
       "      <th>...</th>\n",
       "      <td>...</td>\n",
       "      <td>...</td>\n",
       "      <td>...</td>\n",
       "      <td>...</td>\n",
       "      <td>...</td>\n",
       "      <td>...</td>\n",
       "      <td>...</td>\n",
       "      <td>...</td>\n",
       "      <td>...</td>\n",
       "    </tr>\n",
       "    <tr>\n",
       "      <th>559</th>\n",
       "      <td>Dzhebariki-Khaya</td>\n",
       "      <td>RU</td>\n",
       "      <td>2020-04-16 04:05:08</td>\n",
       "      <td>62.22</td>\n",
       "      <td>135.80</td>\n",
       "      <td>21.81</td>\n",
       "      <td>87</td>\n",
       "      <td>51</td>\n",
       "      <td>8.43</td>\n",
       "    </tr>\n",
       "    <tr>\n",
       "      <th>561</th>\n",
       "      <td>Taft</td>\n",
       "      <td>IR</td>\n",
       "      <td>2020-04-16 04:05:08</td>\n",
       "      <td>31.75</td>\n",
       "      <td>54.21</td>\n",
       "      <td>59.00</td>\n",
       "      <td>41</td>\n",
       "      <td>40</td>\n",
       "      <td>4.70</td>\n",
       "    </tr>\n",
       "    <tr>\n",
       "      <th>562</th>\n",
       "      <td>Shibetsu</td>\n",
       "      <td>JP</td>\n",
       "      <td>2020-04-16 04:05:08</td>\n",
       "      <td>43.66</td>\n",
       "      <td>145.13</td>\n",
       "      <td>39.20</td>\n",
       "      <td>51</td>\n",
       "      <td>75</td>\n",
       "      <td>16.11</td>\n",
       "    </tr>\n",
       "    <tr>\n",
       "      <th>563</th>\n",
       "      <td>Vercelli</td>\n",
       "      <td>IT</td>\n",
       "      <td>2020-04-16 04:05:09</td>\n",
       "      <td>45.32</td>\n",
       "      <td>8.42</td>\n",
       "      <td>50.00</td>\n",
       "      <td>86</td>\n",
       "      <td>21</td>\n",
       "      <td>5.82</td>\n",
       "    </tr>\n",
       "    <tr>\n",
       "      <th>564</th>\n",
       "      <td>Yagodnoye</td>\n",
       "      <td>RU</td>\n",
       "      <td>2020-04-16 04:05:09</td>\n",
       "      <td>62.55</td>\n",
       "      <td>149.67</td>\n",
       "      <td>18.81</td>\n",
       "      <td>88</td>\n",
       "      <td>100</td>\n",
       "      <td>4.16</td>\n",
       "    </tr>\n",
       "  </tbody>\n",
       "</table>\n",
       "<p>395 rows × 9 columns</p>\n",
       "</div>"
      ],
      "text/plain": [
       "                 City Country                 Date    Lat     Lng  Max Temp  \\\n",
       "0             Soskovo      RU  2020-04-16 04:02:33  52.75   35.38     36.45   \n",
       "3              Hasaki      JP  2020-04-16 04:02:34  35.73  140.83     57.99   \n",
       "4               Xudat      AZ  2020-04-16 04:02:34  41.63   48.68     53.04   \n",
       "6           Ugoofaaru      MV  2020-04-16 04:02:34   5.67   73.00     85.91   \n",
       "7               Amapa      BR  2020-04-16 03:59:37   1.00  -52.00     74.21   \n",
       "..                ...     ...                  ...    ...     ...       ...   \n",
       "559  Dzhebariki-Khaya      RU  2020-04-16 04:05:08  62.22  135.80     21.81   \n",
       "561              Taft      IR  2020-04-16 04:05:08  31.75   54.21     59.00   \n",
       "562          Shibetsu      JP  2020-04-16 04:05:08  43.66  145.13     39.20   \n",
       "563          Vercelli      IT  2020-04-16 04:05:09  45.32    8.42     50.00   \n",
       "564         Yagodnoye      RU  2020-04-16 04:05:09  62.55  149.67     18.81   \n",
       "\n",
       "     Humidity  Cloudiness  Wind Speed  \n",
       "0          81          94       12.39  \n",
       "3          66          75       12.75  \n",
       "4          68          40       17.29  \n",
       "6          66          85        7.90  \n",
       "7          83          95        0.98  \n",
       "..        ...         ...         ...  \n",
       "559        87          51        8.43  \n",
       "561        41          40        4.70  \n",
       "562        51          75       16.11  \n",
       "563        86          21        5.82  \n",
       "564        88         100        4.16  \n",
       "\n",
       "[395 rows x 9 columns]"
      ]
     },
     "execution_count": 69,
     "metadata": {},
     "output_type": "execute_result"
    }
   ],
   "source": [
    "city_data_df.loc[(city_data_df[\"Lat\"] >= 0)]"
   ]
  },
  {
   "cell_type": "code",
   "execution_count": 70,
   "metadata": {},
   "outputs": [],
   "source": [
    "# Create Northern and Southern Hemisphere DataFrames.\n",
    "northern_hemi_df = city_data_df.loc[(city_data_df[\"Lat\"] >= 0)]\n",
    "southern_hemi_df = city_data_df.loc[(city_data_df[\"Lat\"] < 0)]"
   ]
  },
  {
   "cell_type": "code",
   "execution_count": 71,
   "metadata": {},
   "outputs": [
    {
     "ename": "SyntaxError",
     "evalue": "EOL while scanning string literal (<ipython-input-71-f235f13efcbc>, line 6)",
     "output_type": "error",
     "traceback": [
      "\u001b[1;36m  File \u001b[1;32m\"<ipython-input-71-f235f13efcbc>\"\u001b[1;36m, line \u001b[1;32m6\u001b[0m\n\u001b[1;33m    'Linear Regression on the Northern Hemisphere \\n\u001b[0m\n\u001b[1;37m                                                    ^\u001b[0m\n\u001b[1;31mSyntaxError\u001b[0m\u001b[1;31m:\u001b[0m EOL while scanning string literal\n"
     ]
    }
   ],
   "source": [
    "# Linear regression on the Northern Hemisphere\n",
    "x_values = northern_hemi_df[\"Lat\"]\n",
    "y_values = northern_hemi_df[\"Max Temp\"]\n",
    "# Call the function.\n",
    "plot_linear_regression(x_values, y_values,\n",
    "                       'Linear Regression on the Northern Hemisphere \\n\n",
    "                        for Maximum Temperature', 'Max Temp',(10,40))"
   ]
  },
  {
   "cell_type": "code",
   "execution_count": 72,
   "metadata": {},
   "outputs": [
    {
     "ename": "SyntaxError",
     "evalue": "EOL while scanning string literal (<ipython-input-72-8677a9d312d4>, line 6)",
     "output_type": "error",
     "traceback": [
      "\u001b[1;36m  File \u001b[1;32m\"<ipython-input-72-8677a9d312d4>\"\u001b[1;36m, line \u001b[1;32m6\u001b[0m\n\u001b[1;33m    'Linear Regression on the Southern Hemisphere \\n\u001b[0m\n\u001b[1;37m                                                    ^\u001b[0m\n\u001b[1;31mSyntaxError\u001b[0m\u001b[1;31m:\u001b[0m EOL while scanning string literal\n"
     ]
    }
   ],
   "source": [
    "# Linear regression on the Southern Hemisphere\n",
    "x_values = southern_hemi_df[\"Lat\"]\n",
    "y_values = southern_hemi_df[\"Max Temp\"]\n",
    "# Call the function.\n",
    "plot_linear_regression(x_values, y_values,\n",
    "                       'Linear Regression on the Southern Hemisphere \\n\n",
    "                        for Maximum Temperature', 'Max Temp',(-50,90))"
   ]
  },
  {
   "cell_type": "code",
   "execution_count": null,
   "metadata": {},
   "outputs": [],
   "source": [
    "# Linear regression on the Northern Hemisphere\n",
    "x_values = northern_hemi_df[\"Lat\"]\n",
    "y_values = northern_hemi_df[\"Humidity\"]\n",
    "# Call the function.\n",
    "plot_linear_regression(x_values, y_values,\n",
    "                       'Linear Regression on the Northern Hemisphere \\n\n",
    "                        for % Humidity', '% Humidity',(40,10))"
   ]
  }
 ],
 "metadata": {
  "kernelspec": {
   "display_name": "PythonData",
   "language": "python",
   "name": "pythondata"
  },
  "language_info": {
   "codemirror_mode": {
    "name": "ipython",
    "version": 3
   },
   "file_extension": ".py",
   "mimetype": "text/x-python",
   "name": "python",
   "nbconvert_exporter": "python",
   "pygments_lexer": "ipython3",
   "version": "3.7.6"
  }
 },
 "nbformat": 4,
 "nbformat_minor": 4
}
